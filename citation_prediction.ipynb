{
 "cells": [
  {
   "cell_type": "markdown",
   "id": "8387ef29-28b4-46a3-9a84-d63b05eb13bb",
   "metadata": {},
   "source": [
    "This notebook is a narrative exploration of efforts to predict the number of citations per year a paper will receive,\n",
    "based on data available at time of publication."
   ]
  },
  {
   "cell_type": "markdown",
   "id": "7ecbdf5b-05b6-4718-980d-ab8529dad09c",
   "metadata": {},
   "source": [
    "A full exploration of 25 different prediction models can be found [here](askfhs)"
   ]
  },
  {
   "cell_type": "markdown",
   "id": "03520e6f-1704-4ffc-97bc-04da7c76beca",
   "metadata": {},
   "source": [
    "In this notebook I look to predict the number of citations a paper will received based upon\n",
    "* the words used in the abstract\n",
    "* physics-inspired semantic metrics (implemented in github.com/zhafen/cc and employed in Imel & Hafen in prep)\n",
    "* metadata (publishing journal, number of authors, number of pages, etc.)"
   ]
  },
  {
   "cell_type": "markdown",
   "id": "69e68668-19d2-4a08-99f8-f54a90063280",
   "metadata": {},
   "source": [
    "The raw code for this analysis can be [found here](https://github.com/zhafen/work-sample)."
   ]
  },
  {
   "cell_type": "markdown",
   "id": "2f47cf7e-1495-462a-a9d8-511003524a97",
   "metadata": {},
   "source": [
    "I aimed to keep this work sample clean, so please reach out if you have questions about details I have not included."
   ]
  },
  {
   "cell_type": "markdown",
   "id": "0c3e40ba-dc4d-4378-8462-173cb8792eb5",
   "metadata": {},
   "source": [
    "You can jump to punchlines in the analysis via these links:"
   ]
  },
  {
   "cell_type": "markdown",
   "id": "cabbddae-5fa1-4a36-95cb-dea17077a45d",
   "metadata": {},
   "source": [
    "# User-Defined Parameters\n",
    "\n",
    "This dictionary contains various user-defined parameters. They will be explained when they are utilized."
   ]
  },
  {
   "cell_type": "code",
   "execution_count": 53,
   "id": "c0e78fd5-7589-4b45-ada3-50e968fbc1cd",
   "metadata": {},
   "outputs": [],
   "source": [
    "pm = dict(\n",
    "    \n",
    "    # Data selection\n",
    "    data_dir = '/Users/zhafen/data/literature_topography',\n",
    "    region_number = 8,\n",
    "    convergence_degree = 3,\n",
    "    kernel_size = 16,\n",
    "    \n",
    "    # Features\n",
    "    numerical_variables = [\n",
    "        'age',\n",
    "        'converged_kernel_size',\n",
    "        'density',\n",
    "        'fringe_factor',\n",
    "        'references_count',\n",
    "        'page_count',\n",
    "        'log_author_count',\n",
    "    ],\n",
    "    categorical_variables = [\n",
    "        'journal_filtered',\n",
    "    ],\n",
    "    semantic_variables = [\n",
    "        'density',\n",
    "        'fringe_factor',\n",
    "    ],\n",
    "    \n",
    "    # Modeling\n",
    "    scoring = 'neg_root_mean_squared_error',\n",
    "    \n",
    ")"
   ]
  },
  {
   "cell_type": "markdown",
   "id": "e4f34309-46a4-4bc7-9f6a-0b959bd7e47b",
   "metadata": {},
   "source": [
    "# Data\n",
    "\n",
    "I use publication abstracts and metadata pulled from the [NASA astrophysics data sytem](https://ui.adsabs.harvard.edu) via [the official API](https://ui.adsabs.harvard.edu/help/api/). The analyzed publications are from a randomly-chosen physics or astrophysics specialization.\n",
    "\n",
    "I externally preprocessed the abstract data with natural language processing (including tokenizing, stemming, and removing filler words), and each abstract has a corresponding bag-of-words representation."
   ]
  },
  {
   "cell_type": "markdown",
   "id": "1fb92437-05db-4492-9e67-5f5c2fef6b56",
   "metadata": {},
   "source": [
    "## Load raw data"
   ]
  },
  {
   "cell_type": "code",
   "execution_count": 2,
   "id": "00b2e036-f122-47a3-89fe-0ba8fc3fe138",
   "metadata": {},
   "outputs": [],
   "source": [
    "import numpy as np\n",
    "import os"
   ]
  },
  {
   "cell_type": "code",
   "execution_count": 3,
   "id": "72fd2943-e6ec-437f-b1f1-6c6fc9dab92d",
   "metadata": {},
   "outputs": [],
   "source": [
    "# My custom non-relational-data-management package\n",
    "import verdict\n",
    "# My library for NLP analysis of scientific abstracts\n",
    "from cc import atlas, cartography, utils"
   ]
  },
  {
   "cell_type": "code",
   "execution_count": 4,
   "id": "c10c7fb1-35b2-4cb5-9fa4-5b6cf8f6c4f8",
   "metadata": {},
   "outputs": [],
   "source": [
    "# Load summary information.\n",
    "# I analyzed several randomly chosen specializations (\"regions\"), of which we are choosing an arbitrary one.\n",
    "summary_data_fp = os.path.join( pm['data_dir'], 'regions', 'regions_summary.h5' )\n",
    "data = verdict.Dict.from_hdf5( summary_data_fp )\n",
    "data_k = data['regions'][str(pm['region_number'])]"
   ]
  },
  {
   "cell_type": "code",
   "execution_count": 5,
   "id": "5bc76715-22b7-4a1a-8f06-fb3a6182adc2",
   "metadata": {},
   "outputs": [
    {
     "name": "stdout",
     "output_type": "stream",
     "text": [
      "Loading saved atlas data.\n"
     ]
    },
    {
     "name": "stderr",
     "output_type": "stream",
     "text": [
      "0it [00:00, ?it/s]\n",
      "100%|█████████████████████████████████| 37311/37311 [00:01<00:00, 22580.20it/s]\n"
     ]
    }
   ],
   "source": [
    "# Class for management of abstracts\n",
    "atlas_dir = os.path.join( pm['data_dir'], 'regions', 'region_{}'.format( pm['region_number'] ) )\n",
    "a = atlas.Atlas( atlas_dir, load_bibtex=False )"
   ]
  },
  {
   "cell_type": "code",
   "execution_count": 6,
   "id": "b1a554d7-e2a9-4ebe-a839-938a22911605",
   "metadata": {},
   "outputs": [
    {
     "name": "stdout",
     "output_type": "stream",
     "text": [
      "Vectorizing text...\n",
      "Using saved vectorized text...\n"
     ]
    }
   ],
   "source": [
    "# Class for analysis of vectorized abstracts\n",
    "projection = a.vectorize(\n",
    "    verbose = True,\n",
    ")\n",
    "c = cartography.Cartographer( **projection )"
   ]
  },
  {
   "cell_type": "code",
   "execution_count": 7,
   "id": "a82a3143-48c7-4852-a005-2a4b942c8d24",
   "metadata": {},
   "outputs": [],
   "source": [
    "# Retrieve metrics I calculated in external pre-processing\n",
    "metrics_fp = os.path.join( atlas_dir, 'topography_metrics.h5' )\n",
    "metrics = verdict.Dict.from_hdf5( metrics_fp )"
   ]
  },
  {
   "cell_type": "code",
   "execution_count": 8,
   "id": "b941e711-7a8a-4eb3-8aa7-fbf44aa6cd0d",
   "metadata": {},
   "outputs": [],
   "source": [
    "# Not all the publications are viable for analysis.\n",
    "# I've saved information about what publications are viable, and here we load the identifying information.\n",
    "converged_kernel_size = data_k['converged_kernel_size'][:,-pm['convergence_degree']]\n",
    "converged = converged_kernel_size >= pm['kernel_size']\n",
    "publications = c.publications[converged]\n",
    "inds = np.arange( c.publications.size )[converged]"
   ]
  },
  {
   "cell_type": "code",
   "execution_count": 9,
   "id": "630303a2-5ba7-4042-a5db-08466c023102",
   "metadata": {},
   "outputs": [],
   "source": [
    "# Select word vectors\n",
    "v = c.vectors[inds]"
   ]
  },
  {
   "cell_type": "markdown",
   "id": "674dcd56-924f-4eea-9079-460e75fe9dad",
   "metadata": {},
   "source": [
    "## Format into a DataFrame"
   ]
  },
  {
   "cell_type": "code",
   "execution_count": 10,
   "id": "b55f1f7e-4bf2-4c27-a659-c0e936efa30b",
   "metadata": {},
   "outputs": [],
   "source": [
    "import copy\n",
    "import pandas as pd\n",
    "import warnings"
   ]
  },
  {
   "cell_type": "code",
   "execution_count": 11,
   "id": "08d9a73a-6d9c-48c9-b41b-8774911f2a9a",
   "metadata": {},
   "outputs": [],
   "source": [
    "# Make into a dataframe, for convenience.\n",
    "df_data = copy.deepcopy( metrics )\n",
    "df_data['projection_ind'] = inds\n",
    "df = pd.DataFrame(\n",
    "    data = df_data._storage,\n",
    "    index=publications,\n",
    ")"
   ]
  },
  {
   "cell_type": "code",
   "execution_count": 12,
   "id": "6007e8d2-8d83-42d8-82dd-3399c44bddd0",
   "metadata": {},
   "outputs": [],
   "source": [
    "# Drop publications with no citations.\n",
    "# This catches all grant submissions, etc.\n",
    "df = df.loc[np.invert( np.isclose( df['citations_per_year'], 0. ) )]"
   ]
  },
  {
   "cell_type": "code",
   "execution_count": 13,
   "id": "b4c619ad-3887-4834-be72-8a00997b8327",
   "metadata": {},
   "outputs": [],
   "source": [
    "# Add logscale versions for some variables\n",
    "for column in [ 'density', 'citations_per_year', ]:\n",
    "    df['log_{}'.format( column )] = np.log10( df[column] )"
   ]
  },
  {
   "cell_type": "markdown",
   "id": "66f20561-30cc-4caa-8a67-4f669110ebf4",
   "metadata": {},
   "source": [
    "## Derive or retrieve additional quantities"
   ]
  },
  {
   "cell_type": "code",
   "execution_count": 14,
   "id": "e88d75f1-d0b1-4bcb-9512-5b7384eaac78",
   "metadata": {},
   "outputs": [],
   "source": [
    "import tqdm"
   ]
  },
  {
   "cell_type": "markdown",
   "id": "e4162776-d197-4656-86da-a446daa75a00",
   "metadata": {},
   "source": [
    "### ADS metadata"
   ]
  },
  {
   "cell_type": "code",
   "execution_count": 15,
   "id": "5c619dc8-f7c9-4397-9846-c81dbc9e9c5a",
   "metadata": {},
   "outputs": [
    {
     "name": "stderr",
     "output_type": "stream",
     "text": [
      "100%|████████████████████████████████████████████████████████████████████████████████████████████████████████████████████████████████████████████████████████████████████████████████████████████████████████████████| 37311/37311 [00:02<00:00, 16398.38it/s]\n"
     ]
    }
   ],
   "source": [
    "citation_keys = []\n",
    "additional_data = {\n",
    "    'references_count': [],\n",
    "    'pages': [],\n",
    "    'author': [],\n",
    "    'journal': [],\n",
    "    'title': [],\n",
    "    'abstract_character_count': [],\n",
    "    'entry_date': [],\n",
    "}\n",
    "for citation_key, p in tqdm.tqdm( a.data.items() ):\n",
    "    \n",
    "    citation_keys.append( citation_key )\n",
    "    \n",
    "    # number of references\n",
    "    if p.references is None:\n",
    "        additional_data['references_count'].append( 0 )\n",
    "    else:\n",
    "        additional_data['references_count'].append( len( p.references ) )\n",
    "    \n",
    "    # Citation info\n",
    "    for key in [ 'pages', 'author', 'journal', 'title' ]:\n",
    "        try:\n",
    "            additional_data[key].append( p.citation[key] )\n",
    "        except KeyError:\n",
    "            additional_data[key].append( pd.NA )\n",
    "            \n",
    "    # Abstract\n",
    "    additional_data['abstract_character_count'].append( len( p.abstract_str() ) )\n",
    "    \n",
    "    # Entry date\n",
    "    additional_data['entry_date'].append( p.entry_date )"
   ]
  },
  {
   "cell_type": "code",
   "execution_count": 16,
   "id": "18d3c3e5-7124-4d09-9b1f-dd386727b669",
   "metadata": {},
   "outputs": [],
   "source": [
    "# Convert to datetime\n",
    "additional_data['entry_date'] = pd.to_datetime( additional_data['entry_date'] )"
   ]
  },
  {
   "cell_type": "code",
   "execution_count": 17,
   "id": "a599c111-433b-4c50-bf7b-8bef30a96a72",
   "metadata": {},
   "outputs": [],
   "source": [
    "# Join it onto the existing dataframe\n",
    "additional_df = pd.DataFrame( data=additional_data, index=citation_keys )\n",
    "df = df.join( additional_df )"
   ]
  },
  {
   "cell_type": "markdown",
   "id": "8a1d39e0-468f-4e7a-92e7-664f9f499549",
   "metadata": {},
   "source": [
    "### Index"
   ]
  },
  {
   "cell_type": "code",
   "execution_count": 18,
   "id": "280e3762-897c-42c0-8662-9c47ee5d3b57",
   "metadata": {},
   "outputs": [],
   "source": [
    "df['ind'] = np.arange( df.index.size )"
   ]
  },
  {
   "cell_type": "markdown",
   "id": "f8257eb5-9e42-47f4-b25e-317cb9f8d96c",
   "metadata": {},
   "source": [
    "### Page count"
   ]
  },
  {
   "cell_type": "code",
   "execution_count": 19,
   "id": "6596bc56-caa7-4d26-9ef5-cb8dbeb09341",
   "metadata": {},
   "outputs": [],
   "source": [
    "# Setup data structurs\n",
    "df['page_count'] = np.full( len( df ), np.nan )"
   ]
  },
  {
   "cell_type": "code",
   "execution_count": 20,
   "id": "1f8fcce8-5f28-478c-a3ce-34af9d9ef21c",
   "metadata": {},
   "outputs": [
    {
     "name": "stderr",
     "output_type": "stream",
     "text": [
      "/var/folders/43/wy_ws5nx3830gqhfw05n4yyc0000gn/T/ipykernel_3193/1933168570.py:2: FutureWarning: The default value of regex will change from True to False in a future version.\n",
      "  pages_str = df['pages'].str.replace( 'L|P', '' )\n"
     ]
    }
   ],
   "source": [
    "# Get rid of the \"L\" in front of the pages for publications submitted to letters.\n",
    "pages_str = df['pages'].str.replace( 'L|P', '' )"
   ]
  },
  {
   "cell_type": "code",
   "execution_count": 21,
   "id": "635f698a-3ec0-4947-80e0-93253b5c45ca",
   "metadata": {},
   "outputs": [],
   "source": [
    "# Split into two to take the difference\n",
    "pages_split = pages_str.str.split( '-', expand=True )"
   ]
  },
  {
   "cell_type": "code",
   "execution_count": 22,
   "id": "c2b1070c-ac3b-4afa-9a86-a1455f6aaef8",
   "metadata": {},
   "outputs": [],
   "source": [
    "# Identify the parseable data\n",
    "is_not_none = np.invert( pages_split[1].isnull() )\n",
    "is_numeric = pages_split[1].str.isnumeric()\n",
    "is_page_range = is_not_none & is_numeric"
   ]
  },
  {
   "cell_type": "code",
   "execution_count": 23,
   "id": "28fdafcd-3619-4d30-8737-f35e53972536",
   "metadata": {},
   "outputs": [],
   "source": [
    "# For the valid page ranges, set the page count\n",
    "df.loc[is_page_range,'page_count'] = (\n",
    "    pages_split[1].loc[is_page_range].astype( int )\n",
    "    - pages_split[0].loc[is_page_range].astype( int )\n",
    ")"
   ]
  },
  {
   "cell_type": "code",
   "execution_count": 24,
   "id": "2049dfa8-bc07-4a71-a57a-761c93a3a290",
   "metadata": {},
   "outputs": [],
   "source": [
    "# There can be one or two edge cases where there's a negative page count because of the formatting\n",
    "df.loc[df['page_count']<0,'page_count'] = np.nan"
   ]
  },
  {
   "cell_type": "markdown",
   "id": "af818e59-3b6c-4c95-9b9c-eb95773f68e1",
   "metadata": {},
   "source": [
    "### Author count"
   ]
  },
  {
   "cell_type": "code",
   "execution_count": 25,
   "id": "765e3bd0-bdb2-41f8-ae9b-721cfb6b1822",
   "metadata": {},
   "outputs": [],
   "source": [
    "df['author_count'] = df['author'].str.split( ' and ' ).apply( len )\n",
    "df['log_author_count'] = df['author_count'].apply( np.log10 )"
   ]
  },
  {
   "cell_type": "markdown",
   "id": "2feb7771-e0e6-4ead-82c8-9f0f105d4b40",
   "metadata": {},
   "source": [
    "### Title character count"
   ]
  },
  {
   "cell_type": "code",
   "execution_count": 26,
   "id": "82933473-b1ac-433b-b4c5-28a54d99cacf",
   "metadata": {},
   "outputs": [],
   "source": [
    "df['title_character_count'] = df['title'].str.len()"
   ]
  },
  {
   "cell_type": "markdown",
   "id": "f5347d2e-779a-42e2-8a5c-5d178c112a55",
   "metadata": {},
   "source": [
    "### Journals, filtered"
   ]
  },
  {
   "cell_type": "code",
   "execution_count": 27,
   "id": "1cc703eb-34b6-4df2-8627-08cff24db58a",
   "metadata": {},
   "outputs": [],
   "source": [
    "# Find the most common journals\n",
    "df_grouped = df.groupby( 'journal' )\n",
    "journal_entry_count = df_grouped.size().sort_values( ascending=False )\n",
    "most_common_journals = journal_entry_count.iloc[:5].index"
   ]
  },
  {
   "cell_type": "code",
   "execution_count": 28,
   "id": "0fedc6de-68f2-4095-90de-8782db5022fe",
   "metadata": {},
   "outputs": [
    {
     "data": {
      "text/plain": [
       "Index(['\\apj', '\\mnras', '\\aap', '\\aj', '\\apjl'], dtype='object', name='journal')"
      ]
     },
     "execution_count": 28,
     "metadata": {},
     "output_type": "execute_result"
    }
   ],
   "source": [
    "most_common_journals"
   ]
  },
  {
   "cell_type": "code",
   "execution_count": 29,
   "id": "5caa3514-35ad-49f7-a9fc-f4f02f35f543",
   "metadata": {},
   "outputs": [],
   "source": [
    "# Make a new column accordingly\n",
    "df['journal_filtered'] = df['journal'].copy()\n",
    "is_not_common_journal = np.invert( df['journal'].isin( most_common_journals ) )\n",
    "df.loc[is_not_common_journal,'journal_filtered'] = 'other'\n",
    "df.loc[df['journal'].isna(),'journal_filtered'] = 'other'"
   ]
  },
  {
   "cell_type": "markdown",
   "id": "de17c2ca-0b97-495c-85f3-d0a76a71eb91",
   "metadata": {},
   "source": [
    "### Word vectors"
   ]
  },
  {
   "cell_type": "code",
   "execution_count": 30,
   "id": "51283a55-b723-4ceb-a8e0-ab824f1b99f8",
   "metadata": {},
   "outputs": [],
   "source": [
    "v = c.vectors[df['projection_ind']]"
   ]
  },
  {
   "cell_type": "markdown",
   "id": "115ebe3c-914c-4480-bb86-0cadd93784cd",
   "metadata": {},
   "source": [
    "## Summarize data"
   ]
  },
  {
   "cell_type": "markdown",
   "id": "d748ce8e-d06f-4e4b-ad3b-d4e49f74f715",
   "metadata": {},
   "source": [
    "There are two main data containers:\n",
    "`df`, which contains all the metadata and derived quantities,\n",
    "and `v`, which contains the word vectors."
   ]
  },
  {
   "cell_type": "code",
   "execution_count": 31,
   "id": "ef311bda-4779-46f7-a3f3-f0861a75052d",
   "metadata": {},
   "outputs": [
    {
     "name": "stdout",
     "output_type": "stream",
     "text": [
      "<class 'pandas.core.frame.DataFrame'>\n",
      "Index: 7380 entries, 2004JMOp...51.1447V to 1972ApJ...175L..73S\n",
      "Data columns (total 23 columns):\n",
      " #   Column                     Non-Null Count  Dtype              \n",
      "---  ------                     --------------  -----              \n",
      " 0   age                        7380 non-null   float64            \n",
      " 1   citations_per_year         7380 non-null   float64            \n",
      " 2   converged_kernel_size      7380 non-null   int32              \n",
      " 3   density                    7359 non-null   float64            \n",
      " 4   fringe_factor              7359 non-null   float64            \n",
      " 5   kernel_constant_asymmetry  7359 non-null   float64            \n",
      " 6   smoothing_length           7359 non-null   float64            \n",
      " 7   projection_ind             7380 non-null   int64              \n",
      " 8   log_density                7359 non-null   float64            \n",
      " 9   log_citations_per_year     7380 non-null   float64            \n",
      " 10  references_count           7380 non-null   int64              \n",
      " 11  pages                      7355 non-null   object             \n",
      " 12  author                     7380 non-null   object             \n",
      " 13  journal                    7058 non-null   object             \n",
      " 14  title                      7380 non-null   object             \n",
      " 15  abstract_character_count   7380 non-null   int64              \n",
      " 16  entry_date                 7380 non-null   datetime64[ns, UTC]\n",
      " 17  ind                        7380 non-null   int64              \n",
      " 18  page_count                 4150 non-null   float64            \n",
      " 19  author_count               7380 non-null   int64              \n",
      " 20  log_author_count           7380 non-null   float64            \n",
      " 21  title_character_count      7380 non-null   int64              \n",
      " 22  journal_filtered           7380 non-null   object             \n",
      "dtypes: datetime64[ns, UTC](1), float64(10), int32(1), int64(6), object(5)\n",
      "memory usage: 1.6+ MB\n"
     ]
    }
   ],
   "source": [
    "df.info()"
   ]
  },
  {
   "cell_type": "code",
   "execution_count": 32,
   "id": "53d31a82-a3d1-4a0c-a564-4a3030e1a929",
   "metadata": {},
   "outputs": [
    {
     "data": {
      "text/html": [
       "<div>\n",
       "<style scoped>\n",
       "    .dataframe tbody tr th:only-of-type {\n",
       "        vertical-align: middle;\n",
       "    }\n",
       "\n",
       "    .dataframe tbody tr th {\n",
       "        vertical-align: top;\n",
       "    }\n",
       "\n",
       "    .dataframe thead th {\n",
       "        text-align: right;\n",
       "    }\n",
       "</style>\n",
       "<table border=\"1\" class=\"dataframe\">\n",
       "  <thead>\n",
       "    <tr style=\"text-align: right;\">\n",
       "      <th></th>\n",
       "      <th>age</th>\n",
       "      <th>citations_per_year</th>\n",
       "      <th>converged_kernel_size</th>\n",
       "      <th>density</th>\n",
       "      <th>fringe_factor</th>\n",
       "      <th>kernel_constant_asymmetry</th>\n",
       "      <th>smoothing_length</th>\n",
       "      <th>projection_ind</th>\n",
       "      <th>log_density</th>\n",
       "      <th>log_citations_per_year</th>\n",
       "      <th>...</th>\n",
       "      <th>journal</th>\n",
       "      <th>title</th>\n",
       "      <th>abstract_character_count</th>\n",
       "      <th>entry_date</th>\n",
       "      <th>ind</th>\n",
       "      <th>page_count</th>\n",
       "      <th>author_count</th>\n",
       "      <th>log_author_count</th>\n",
       "      <th>title_character_count</th>\n",
       "      <th>journal_filtered</th>\n",
       "    </tr>\n",
       "  </thead>\n",
       "  <tbody>\n",
       "    <tr>\n",
       "      <th>2004JMOp...51.1447V</th>\n",
       "      <td>18.033916</td>\n",
       "      <td>2.495301</td>\n",
       "      <td>22</td>\n",
       "      <td>13.197566</td>\n",
       "      <td>0.679266</td>\n",
       "      <td>10.868260</td>\n",
       "      <td>1.212345</td>\n",
       "      <td>2</td>\n",
       "      <td>1.120494</td>\n",
       "      <td>0.397123</td>\n",
       "      <td>...</td>\n",
       "      <td>Journal of Modern Optics</td>\n",
       "      <td>{Ultrafast superconducting single-photon detec...</td>\n",
       "      <td>1173</td>\n",
       "      <td>2005-05-11 00:00:00+00:00</td>\n",
       "      <td>0</td>\n",
       "      <td>11.0</td>\n",
       "      <td>13</td>\n",
       "      <td>1.113943</td>\n",
       "      <td>103</td>\n",
       "      <td>other</td>\n",
       "    </tr>\n",
       "    <tr>\n",
       "      <th>2002MNRAS.336.1129B</th>\n",
       "      <td>20.556883</td>\n",
       "      <td>1.070202</td>\n",
       "      <td>57</td>\n",
       "      <td>13.189905</td>\n",
       "      <td>0.694470</td>\n",
       "      <td>11.111526</td>\n",
       "      <td>1.213049</td>\n",
       "      <td>3</td>\n",
       "      <td>1.120242</td>\n",
       "      <td>0.029466</td>\n",
       "      <td>...</td>\n",
       "      <td>\\mnras</td>\n",
       "      <td>{STJ observations of the eclipsing polar HU Aqr}</td>\n",
       "      <td>1063</td>\n",
       "      <td>2002-11-02 00:00:00+00:00</td>\n",
       "      <td>1</td>\n",
       "      <td>9.0</td>\n",
       "      <td>9</td>\n",
       "      <td>0.954243</td>\n",
       "      <td>48</td>\n",
       "      <td>\\mnras</td>\n",
       "    </tr>\n",
       "    <tr>\n",
       "      <th>2002OptEn..41.1170V</th>\n",
       "      <td>20.855476</td>\n",
       "      <td>0.671287</td>\n",
       "      <td>56</td>\n",
       "      <td>13.394224</td>\n",
       "      <td>0.696136</td>\n",
       "      <td>11.138178</td>\n",
       "      <td>1.194545</td>\n",
       "      <td>4</td>\n",
       "      <td>1.126918</td>\n",
       "      <td>-0.173092</td>\n",
       "      <td>...</td>\n",
       "      <td>Optical Engineering</td>\n",
       "      <td>{Superconducting tunnel junctions as photon-co...</td>\n",
       "      <td>1532</td>\n",
       "      <td>2002-07-16 00:00:00+00:00</td>\n",
       "      <td>2</td>\n",
       "      <td>14.0</td>\n",
       "      <td>5</td>\n",
       "      <td>0.698970</td>\n",
       "      <td>110</td>\n",
       "      <td>other</td>\n",
       "    </tr>\n",
       "    <tr>\n",
       "      <th>2001MNRAS.324..899P</th>\n",
       "      <td>21.784125</td>\n",
       "      <td>1.606676</td>\n",
       "      <td>23</td>\n",
       "      <td>13.020577</td>\n",
       "      <td>0.660474</td>\n",
       "      <td>10.567585</td>\n",
       "      <td>1.228824</td>\n",
       "      <td>5</td>\n",
       "      <td>1.114630</td>\n",
       "      <td>0.205928</td>\n",
       "      <td>...</td>\n",
       "      <td>\\mnras</td>\n",
       "      <td>{High-speed energy-resolved STJ photometry of ...</td>\n",
       "      <td>1523</td>\n",
       "      <td>2001-08-11 00:00:00+00:00</td>\n",
       "      <td>3</td>\n",
       "      <td>10.0</td>\n",
       "      <td>7</td>\n",
       "      <td>0.845098</td>\n",
       "      <td>74</td>\n",
       "      <td>\\mnras</td>\n",
       "    </tr>\n",
       "    <tr>\n",
       "      <th>1999MNRAS.309..379W</th>\n",
       "      <td>23.531848</td>\n",
       "      <td>1.614834</td>\n",
       "      <td>79</td>\n",
       "      <td>13.100298</td>\n",
       "      <td>0.671835</td>\n",
       "      <td>10.749364</td>\n",
       "      <td>1.221346</td>\n",
       "      <td>7</td>\n",
       "      <td>1.117281</td>\n",
       "      <td>0.208128</td>\n",
       "      <td>...</td>\n",
       "      <td>\\mnras</td>\n",
       "      <td>{The seeing at the William Herschel Telescope}</td>\n",
       "      <td>512</td>\n",
       "      <td>1999-11-12 00:00:00+00:00</td>\n",
       "      <td>4</td>\n",
       "      <td>8.0</td>\n",
       "      <td>4</td>\n",
       "      <td>0.602060</td>\n",
       "      <td>46</td>\n",
       "      <td>\\mnras</td>\n",
       "    </tr>\n",
       "  </tbody>\n",
       "</table>\n",
       "<p>5 rows × 23 columns</p>\n",
       "</div>"
      ],
      "text/plain": [
       "                           age  citations_per_year  converged_kernel_size  \\\n",
       "2004JMOp...51.1447V  18.033916            2.495301                     22   \n",
       "2002MNRAS.336.1129B  20.556883            1.070202                     57   \n",
       "2002OptEn..41.1170V  20.855476            0.671287                     56   \n",
       "2001MNRAS.324..899P  21.784125            1.606676                     23   \n",
       "1999MNRAS.309..379W  23.531848            1.614834                     79   \n",
       "\n",
       "                       density  fringe_factor  kernel_constant_asymmetry  \\\n",
       "2004JMOp...51.1447V  13.197566       0.679266                  10.868260   \n",
       "2002MNRAS.336.1129B  13.189905       0.694470                  11.111526   \n",
       "2002OptEn..41.1170V  13.394224       0.696136                  11.138178   \n",
       "2001MNRAS.324..899P  13.020577       0.660474                  10.567585   \n",
       "1999MNRAS.309..379W  13.100298       0.671835                  10.749364   \n",
       "\n",
       "                     smoothing_length  projection_ind  log_density  \\\n",
       "2004JMOp...51.1447V          1.212345               2     1.120494   \n",
       "2002MNRAS.336.1129B          1.213049               3     1.120242   \n",
       "2002OptEn..41.1170V          1.194545               4     1.126918   \n",
       "2001MNRAS.324..899P          1.228824               5     1.114630   \n",
       "1999MNRAS.309..379W          1.221346               7     1.117281   \n",
       "\n",
       "                     log_citations_per_year  ...                   journal  \\\n",
       "2004JMOp...51.1447V                0.397123  ...  Journal of Modern Optics   \n",
       "2002MNRAS.336.1129B                0.029466  ...                    \\mnras   \n",
       "2002OptEn..41.1170V               -0.173092  ...       Optical Engineering   \n",
       "2001MNRAS.324..899P                0.205928  ...                    \\mnras   \n",
       "1999MNRAS.309..379W                0.208128  ...                    \\mnras   \n",
       "\n",
       "                                                                 title  \\\n",
       "2004JMOp...51.1447V  {Ultrafast superconducting single-photon detec...   \n",
       "2002MNRAS.336.1129B   {STJ observations of the eclipsing polar HU Aqr}   \n",
       "2002OptEn..41.1170V  {Superconducting tunnel junctions as photon-co...   \n",
       "2001MNRAS.324..899P  {High-speed energy-resolved STJ photometry of ...   \n",
       "1999MNRAS.309..379W     {The seeing at the William Herschel Telescope}   \n",
       "\n",
       "                    abstract_character_count                entry_date ind  \\\n",
       "2004JMOp...51.1447V                     1173 2005-05-11 00:00:00+00:00   0   \n",
       "2002MNRAS.336.1129B                     1063 2002-11-02 00:00:00+00:00   1   \n",
       "2002OptEn..41.1170V                     1532 2002-07-16 00:00:00+00:00   2   \n",
       "2001MNRAS.324..899P                     1523 2001-08-11 00:00:00+00:00   3   \n",
       "1999MNRAS.309..379W                      512 1999-11-12 00:00:00+00:00   4   \n",
       "\n",
       "                     page_count author_count  log_author_count  \\\n",
       "2004JMOp...51.1447V        11.0           13          1.113943   \n",
       "2002MNRAS.336.1129B         9.0            9          0.954243   \n",
       "2002OptEn..41.1170V        14.0            5          0.698970   \n",
       "2001MNRAS.324..899P        10.0            7          0.845098   \n",
       "1999MNRAS.309..379W         8.0            4          0.602060   \n",
       "\n",
       "                     title_character_count  journal_filtered  \n",
       "2004JMOp...51.1447V                    103             other  \n",
       "2002MNRAS.336.1129B                     48            \\mnras  \n",
       "2002OptEn..41.1170V                    110             other  \n",
       "2001MNRAS.324..899P                     74            \\mnras  \n",
       "1999MNRAS.309..379W                     46            \\mnras  \n",
       "\n",
       "[5 rows x 23 columns]"
      ]
     },
     "execution_count": 32,
     "metadata": {},
     "output_type": "execute_result"
    }
   ],
   "source": [
    "df.head()"
   ]
  },
  {
   "cell_type": "code",
   "execution_count": 33,
   "id": "e37c724f-f880-4905-b9a1-ceaa7b9c77a9",
   "metadata": {},
   "outputs": [
    {
     "data": {
      "text/plain": [
       "(7380, 30286)"
      ]
     },
     "execution_count": 33,
     "metadata": {},
     "output_type": "execute_result"
    }
   ],
   "source": [
    "v.shape"
   ]
  },
  {
   "cell_type": "markdown",
   "id": "dfaef67d-74ae-4356-8c0a-f7bedbd8f1d2",
   "metadata": {},
   "source": [
    "## Split testing and training data"
   ]
  },
  {
   "cell_type": "code",
   "execution_count": 34,
   "id": "0d410795-d13c-49b7-94c3-c9bd48ebfedc",
   "metadata": {},
   "outputs": [],
   "source": [
    "from sklearn.model_selection import train_test_split"
   ]
  },
  {
   "cell_type": "code",
   "execution_count": 35,
   "id": "21b16ff0-12dd-4042-b326-9aa6c0274fa6",
   "metadata": {},
   "outputs": [],
   "source": [
    "# Split dataframe\n",
    "df_train, df_test = train_test_split( df, test_size=0.2, random_state=42 )"
   ]
  },
  {
   "cell_type": "code",
   "execution_count": 36,
   "id": "5ae4f0bc-ca6a-499f-93ec-4c6c9939116c",
   "metadata": {},
   "outputs": [],
   "source": [
    "# Split input\n",
    "X_train = df_train[pm['numerical_variables'] + pm['categorical_variables']].values\n",
    "X_test = df_test[pm['numerical_variables'] + pm['categorical_variables']].values"
   ]
  },
  {
   "cell_type": "code",
   "execution_count": 37,
   "id": "23b07e53-7475-42be-94fd-67b5f904e98f",
   "metadata": {},
   "outputs": [],
   "source": [
    "# Split word vector input\n",
    "v_train = v[df_train['ind']]\n",
    "v_test = v[df_test['ind']]"
   ]
  },
  {
   "cell_type": "code",
   "execution_count": 38,
   "id": "9f306152-dd29-4dac-88fd-61c2af636b92",
   "metadata": {},
   "outputs": [],
   "source": [
    "# Split output\n",
    "y_train = df_train['log_citations_per_year'].values\n",
    "y_test = df_test['log_citations_per_year'].values"
   ]
  },
  {
   "cell_type": "code",
   "execution_count": 39,
   "id": "143b1f1c-b5e5-4489-9b66-c5b13dabb333",
   "metadata": {},
   "outputs": [],
   "source": [
    "# Split semantic input\n",
    "M_train = df_train[pm['semantic_variables']].values\n",
    "M_test = df_test[pm['semantic_variables']].values"
   ]
  },
  {
   "cell_type": "markdown",
   "id": "caacaaf4-27d2-4098-acc3-e4ae3a24c91e",
   "metadata": {},
   "source": [
    "# Exploratory Data Analysis\n",
    "\n",
    "I've explored this dataset thoroughly elsewhere, so here I'll just visually summarize the dataset."
   ]
  },
  {
   "cell_type": "code",
   "execution_count": 40,
   "id": "bdd13b53-344e-428f-ab86-1a1ce6a24a41",
   "metadata": {},
   "outputs": [],
   "source": [
    "import seaborn as sns\n",
    "\n",
    "sns.set_style( 'whitegrid' )"
   ]
  },
  {
   "cell_type": "markdown",
   "id": "c165caa4-bc51-45bc-aeb2-2b3ec64c95eb",
   "metadata": {},
   "source": [
    "## Citations per year"
   ]
  },
  {
   "cell_type": "code",
   "execution_count": 41,
   "id": "17e8354a-106e-41e5-ab84-5f1cfd23491e",
   "metadata": {},
   "outputs": [
    {
     "data": {
      "text/plain": [
       "<AxesSubplot: xlabel='log_citations_per_year', ylabel='Count'>"
      ]
     },
     "execution_count": 41,
     "metadata": {},
     "output_type": "execute_result"
    },
    {
     "data": {
      "image/png": "[encoded data removed]",
      "text/plain": [
       "<Figure size 640x480 with 1 Axes>"
      ]
     },
     "metadata": {},
     "output_type": "display_data"
    }
   ],
   "source": [
    "sns.histplot(\n",
    "    df_train,\n",
    "    x = 'log_citations_per_year',\n",
    ")"
   ]
  },
  {
   "cell_type": "markdown",
   "id": "fc856883-219e-495e-aeb3-b62a4525009f",
   "metadata": {},
   "source": [
    "## Numerical variables"
   ]
  },
  {
   "cell_type": "code",
   "execution_count": 42,
   "id": "c666692e-2ed9-43b8-8c64-e266e9bc06c7",
   "metadata": {},
   "outputs": [
    {
     "data": {
      "text/plain": [
       "(0.0, 40.0)"
      ]
     },
     "execution_count": 42,
     "metadata": {},
     "output_type": "execute_result"
    },
    {
     "data": {
      "image/png": "[encoded data removed]",
      "text/plain": [
       "<Figure size 1750x250 with 7 Axes>"
      ]
     },
     "metadata": {},
     "output_type": "display_data"
    }
   ],
   "source": [
    "pairplot = sns.pairplot(\n",
    "    df_train,\n",
    "    x_vars = pm['numerical_variables'],\n",
    "    y_vars = [ 'log_citations_per_year',],\n",
    "    kind = 'hist',\n",
    "    # plot_kws = { 'line_kws': { 'color': 'k', }, },\n",
    ")\n",
    "pairplot.axes[0,1].set_xlim( 0, 210 )\n",
    "pairplot.axes[0,2].set_xlim( 0, 40 )"
   ]
  },
  {
   "cell_type": "markdown",
   "id": "34740137-a6ee-4e2b-89ec-2e0c90eeb501",
   "metadata": {},
   "source": [
    "## Categorical variable"
   ]
  },
  {
   "cell_type": "code",
   "execution_count": 43,
   "id": "afcc6094-740b-4a8c-83f3-510f0c517328",
   "metadata": {},
   "outputs": [
    {
     "data": {
      "text/plain": [
       "<AxesSubplot: xlabel='journal_filtered', ylabel='log_citations_per_year'>"
      ]
     },
     "execution_count": 43,
     "metadata": {},
     "output_type": "execute_result"
    },
    {
     "data": {
      "image/png": "[encoded data removed]",
      "text/plain": [
       "<Figure size 640x480 with 1 Axes>"
      ]
     },
     "metadata": {},
     "output_type": "display_data"
    }
   ],
   "source": [
    "sns.violinplot(\n",
    "    df_train,\n",
    "    x = 'journal_filtered',\n",
    "    y = 'log_citations_per_year',\n",
    ")"
   ]
  },
  {
   "cell_type": "markdown",
   "id": "4b77df71-2c58-4cb2-a929-a946b3ea4802",
   "metadata": {},
   "source": [
    "# Modelling"
   ]
  },
  {
   "cell_type": "markdown",
   "id": "7b070a45-fa9c-4b14-a9af-53c83d4e1f90",
   "metadata": {},
   "source": [
    "## Preprocessing"
   ]
  },
  {
   "cell_type": "code",
   "execution_count": 44,
   "id": "09758df0-f2a7-483b-9e2d-866b9d2d00d8",
   "metadata": {},
   "outputs": [],
   "source": [
    "from sklearn.compose import ColumnTransformer\n",
    "from sklearn.preprocessing import StandardScaler, OneHotEncoder, Normalizer\n",
    "from sklearn.pipeline import Pipeline\n",
    "from sklearn.impute import SimpleImputer\n",
    "from sklearn.model_selection import cross_validate, KFold"
   ]
  },
  {
   "cell_type": "code",
   "execution_count": 45,
   "id": "2162b6ad-0cc2-4b47-a71b-a749298f744c",
   "metadata": {},
   "outputs": [],
   "source": [
    "# Two things for our numerical variables:\n",
    "# Imputation of missing values and scaling by mean and std\n",
    "numerical_preprocessing = Pipeline(\n",
    "    [\n",
    "        ( 'impute', SimpleImputer( strategy='mean' ) ),\n",
    "        ( 'scale', StandardScaler() ),\n",
    "    ]\n",
    ")"
   ]
  },
  {
   "cell_type": "code",
   "execution_count": 46,
   "id": "9a75fce9-9a65-41e4-8e99-6ae59ccdc365",
   "metadata": {},
   "outputs": [],
   "source": [
    "# Combine the numerical preprocessing with onehot encoding for the categorical variable\n",
    "preprocessing = ColumnTransformer( [\n",
    "        ( 'numerical', numerical_preprocessing, pm['numerical_variables'] ),\n",
    "        ( 'onehot', OneHotEncoder(), pm['categorical_variables'] ),\n",
    "] )"
   ]
  },
  {
   "cell_type": "code",
   "execution_count": 47,
   "id": "ce2bdd17-5577-4f36-b223-2469151c76bb",
   "metadata": {},
   "outputs": [],
   "source": [
    "# Preprocessing for word vectors is just scaling\n",
    "vector_preprocessing = Pipeline(\n",
    "    [\n",
    "        ( 'scale', Normalizer() ),\n",
    "    ]\n",
    ")"
   ]
  },
  {
   "cell_type": "code",
   "execution_count": 48,
   "id": "95b30777-619d-462a-a9fe-5603b2aaf79d",
   "metadata": {},
   "outputs": [],
   "source": [
    "# There is a subset of the numerical variables that I refer to as \"semantic\".\n",
    "# These variables contain metrics that measure the relationship of the words in a publication to words in other publications.\n",
    "semantic_preprocessing = Pipeline(\n",
    "    [\n",
    "        ( 'scale', StandardScaler() ),\n",
    "    ]\n",
    ")"
   ]
  },
  {
   "cell_type": "code",
   "execution_count": 49,
   "id": "6d4434cd-c474-43a0-b2c1-176dbb174f1d",
   "metadata": {},
   "outputs": [],
   "source": [
    "# Set up a kfold object for cross validation\n",
    "kfold = KFold(\n",
    "    n_splits = 5,\n",
    "    shuffle = True,\n",
    "    random_state = 1532\n",
    ")"
   ]
  },
  {
   "cell_type": "markdown",
   "id": "8fc84c32-2691-45a7-afb3-955335ffd62a",
   "metadata": {
    "tags": []
   },
   "source": [
    "## Baseline\n",
    "\n",
    "We use the mean log citations per year as the baseline."
   ]
  },
  {
   "cell_type": "code",
   "execution_count": 51,
   "id": "7e299af4-cdd0-4f5c-a3b0-bf421ee750e1",
   "metadata": {
    "tags": []
   },
   "outputs": [],
   "source": [
    "from sklearn.base import BaseEstimator"
   ]
  },
  {
   "cell_type": "code",
   "execution_count": 120,
   "id": "b3e74d57-1f85-4c8d-ba83-c2d7bc45b2fd",
   "metadata": {},
   "outputs": [],
   "source": [
    "class Baseline( BaseEstimator ):\n",
    "    '''The baseline model is just the mean. We put it into a class\n",
    "    for full consistency with all future models.'''\n",
    "    \n",
    "    def fit( self, X , y):\n",
    "        \n",
    "        self.estimate = y.mean()\n",
    "        \n",
    "    def predict( self, X ):\n",
    "        \n",
    "        return np.full( X.shape[0], self.estimate )\n",
    "\n",
    "model = Baseline()"
   ]
  },
  {
   "cell_type": "code",
   "execution_count": 121,
   "id": "1c197ab5-80f5-450a-aab3-19f7efa91cde",
   "metadata": {},
   "outputs": [],
   "source": [
    "# Object for storing data\n",
    "crossvals = {}"
   ]
  },
  {
   "cell_type": "code",
   "execution_count": 122,
   "id": "d9ce06be-12a6-4ad8-a26c-d4ccb120e0d5",
   "metadata": {
    "tags": []
   },
   "outputs": [],
   "source": [
    "# Perform and store cross validation\n",
    "crossvals['baseline'] = verdict.Dict( cross_validate(\n",
    "    estimator = model,\n",
    "    X = X_train,\n",
    "    y = y_train,\n",
    "    cv = kfold,\n",
    "    scoring = 'neg_root_mean_squared_error',\n",
    "    return_estimator = True,\n",
    ") )"
   ]
  },
  {
   "cell_type": "markdown",
   "id": "684e1930-7f1e-4c6b-83df-66c7b99f1738",
   "metadata": {},
   "source": [
    "Because the baseline is the mean we expect the RMSE for the individual folds to be similar to the standard deviation of the full sample."
   ]
  },
  {
   "cell_type": "code",
   "execution_count": 123,
   "id": "1ee5fd5a-d8fd-4d83-80a2-82fc2017e5e4",
   "metadata": {},
   "outputs": [
    {
     "data": {
      "text/plain": [
       "array([0.65022868, 0.61344922, 0.62270003, 0.67515721, 0.65758129])"
      ]
     },
     "execution_count": 123,
     "metadata": {},
     "output_type": "execute_result"
    }
   ],
   "source": [
    "-crossvals['baseline']['test_score']"
   ]
  },
  {
   "cell_type": "code",
   "execution_count": 124,
   "id": "ea3910db-b536-4a34-998c-4f876ac123c4",
   "metadata": {},
   "outputs": [
    {
     "data": {
      "text/plain": [
       "0.6441600924434792"
      ]
     },
     "execution_count": 124,
     "metadata": {},
     "output_type": "execute_result"
    }
   ],
   "source": [
    "sample_mean = y_train.mean()\n",
    "sample_std = y_train.std()\n",
    "sample_std"
   ]
  },
  {
   "cell_type": "markdown",
   "id": "bd979aa3-f78c-4dd7-8f48-6b53e30efcdd",
   "metadata": {},
   "source": [
    "## Simple Linear Regression\n",
    "\n",
    "For our first model we'll see if we can just use linear least squares regression with the word vectors as input.\n",
    "This is a pretty silly model: we're limited to linear order because of the high dimensionality of the word vectors, and it is unlikely that a single line can describe the citation relationship."
   ]
  },
  {
   "cell_type": "code",
   "execution_count": 125,
   "id": "08fe42a1-daf7-443c-a73e-e29d6c022a36",
   "metadata": {},
   "outputs": [],
   "source": [
    "from sklearn.preprocessing import PolynomialFeatures\n",
    "from sklearn.linear_model import LinearRegression"
   ]
  },
  {
   "cell_type": "code",
   "execution_count": 126,
   "id": "3f74f5e4-abbd-43dd-a482-34fbb0670cd1",
   "metadata": {},
   "outputs": [],
   "source": [
    "model = Pipeline(\n",
    "    [\n",
    "        ( 'preprocessing', vector_preprocessing ),\n",
    "        ( 'poly', PolynomialFeatures( degree=1 ) ),\n",
    "        ( 'reg', LinearRegression( fit_intercept=False ) ),\n",
    "    ]\n",
    ")"
   ]
  },
  {
   "cell_type": "code",
   "execution_count": 127,
   "id": "018b6841-330a-4f13-9f88-d32ede08693a",
   "metadata": {
    "tags": []
   },
   "outputs": [],
   "source": [
    "# Perform and store cross validation\n",
    "crossvals['linear_regression'] = verdict.Dict( cross_validate(\n",
    "    estimator = model,\n",
    "    X = v_train,\n",
    "    y = y_train,\n",
    "    cv = kfold,\n",
    "    scoring = 'neg_root_mean_squared_error',\n",
    "    return_estimator = True,\n",
    ") )"
   ]
  },
  {
   "cell_type": "code",
   "execution_count": 128,
   "id": "24a3c5b4-f7f5-4684-af25-e4a16b7a261c",
   "metadata": {},
   "outputs": [],
   "source": [
    "import matplotlib\n",
    "import matplotlib.pyplot as plt"
   ]
  },
  {
   "cell_type": "code",
   "execution_count": 129,
   "id": "6f962603-019f-44ee-8c46-3a81509e501e",
   "metadata": {},
   "outputs": [],
   "source": [
    "def rmse_swarmplot( crossval ):    \n",
    "    \n",
    "    # Format data\n",
    "    df_data = -1. * verdict.Dict( crossvals ).inner_item( 'test_score' )\n",
    "    crossval_df = pd.DataFrame( df_data._storage ).melt( var_name='model', value_name='rmse' )\n",
    "    \n",
    "    # Visualize\n",
    "    fig = plt.figure( figsize=(len(df_data)*1.5, 3) )\n",
    "    ax = plt.gca()\n",
    "    \n",
    "    # Plot itself\n",
    "    sns.swarmplot(\n",
    "        data = crossval_df,\n",
    "        x = 'model',\n",
    "        y = 'rmse',\n",
    "        ax = ax,\n",
    "    )\n",
    "    \n",
    "    # Mark the analytic baseline value for comparison\n",
    "    ax.axhline(\n",
    "        sample_std,\n",
    "        color = '0.5',\n",
    "        linestyle = '--',\n",
    "        linewidth = 0.75,\n",
    "    )\n",
    "\n",
    "    ax.set_xlabel( 'model' )\n",
    "    ax.set_ylabel( r'RMSE in log_citations_per_year' )\n",
    "    \n",
    "    return fig"
   ]
  },
  {
   "cell_type": "code",
   "execution_count": 130,
   "id": "d8da86f9-4567-470c-82d4-7f915fa38bab",
   "metadata": {},
   "outputs": [
    {
     "data": {
      "image/png": "[encoded data removed]",
      "text/plain": [
       "<Figure size 300x300 with 1 Axes>"
      ]
     },
     "metadata": {},
     "output_type": "display_data"
    }
   ],
   "source": [
    "fig = rmse_swarmplot( crossvals )"
   ]
  },
  {
   "cell_type": "markdown",
   "id": "048836fc-7e9e-4a25-957f-73cd2af12457",
   "metadata": {},
   "source": [
    "No surprise, this model doesn't perform particularly well."
   ]
  },
  {
   "cell_type": "markdown",
   "id": "763545d3-562b-473c-bbe9-c6fd4d3aadcb",
   "metadata": {},
   "source": [
    "## K Nearest Neighbors\n",
    "\n",
    "Let's try something more sensible. KNN predicts that a publication will receive a similar number of citations as other textually similar publications."
   ]
  },
  {
   "cell_type": "code",
   "execution_count": 135,
   "id": "12e84a18-20f0-4d98-9cfb-841048bc3e4e",
   "metadata": {},
   "outputs": [],
   "source": [
    "from sklearn.neighbors import KNeighborsRegressor\n",
    "from sklearn.model_selection import GridSearchCV"
   ]
  },
  {
   "cell_type": "code",
   "execution_count": 136,
   "id": "5c236015-4fab-450f-ab19-b825c633253e",
   "metadata": {},
   "outputs": [],
   "source": [
    "model = Pipeline(\n",
    "    [\n",
    "        ( 'preprocessing', vector_preprocessing ),\n",
    "        ( 'knn', KNeighborsRegressor( n_neighbors=256 ) ),\n",
    "    ]\n",
    ")"
   ]
  },
  {
   "cell_type": "code",
   "execution_count": null,
   "id": "3474bd37-6856-4e70-8a56-4ff8e8d24ba0",
   "metadata": {},
   "outputs": [],
   "source": [
    "# Perform a parameter search\n",
    "param_grid = {\n",
    "    'knn__n_neighbors': [ 4, 16, 32, 64, 128, 256, 512, 1024 ],\n",
    "}\n",
    "search = GridSearchCV( model, param_grid, )\n",
    "search.fit( v_train, df_train['log_citations_per_year'] )\n",
    "model = search.best_estimator_"
   ]
  },
  {
   "cell_type": "code",
   "execution_count": null,
   "id": "0cac82a6-a3f5-47e2-88d5-67dfefde21b5",
   "metadata": {
    "tags": []
   },
   "outputs": [],
   "source": [
    "# Perform and store cross validation\n",
    "crossvals['KNN'] = verdict.Dict( cross_validate(\n",
    "    estimator = model,\n",
    "    X = v_train,\n",
    "    y = y_train,\n",
    "    cv = kfold,\n",
    "    scoring = 'neg_root_mean_squared_error',\n",
    "    return_estimator = True,\n",
    ") )"
   ]
  },
  {
   "cell_type": "code",
   "execution_count": null,
   "id": "3f5f9382-dce9-4c97-aca7-bd4fe53b3b2e",
   "metadata": {},
   "outputs": [],
   "source": [
    "fig = rmse_swarmplot( crossvals )"
   ]
  },
  {
   "cell_type": "markdown",
   "id": "b2a6f3fd-265d-445d-8563-d384ad4d68ce",
   "metadata": {},
   "source": [
    "Much better. It's interpretable, too!"
   ]
  },
  {
   "cell_type": "markdown",
   "id": "eedbcbeb-298d-489f-9bba-c4bb62ea9274",
   "metadata": {},
   "source": [
    "# Takeaways\n",
    "\n",
    "* Even the best model can't predict citations that well. Our minimum RMSE suggests we will routinely misestimate by a factor of X"
   ]
  },
  {
   "cell_type": "markdown",
   "id": "27cbc6bf-d623-44fe-a678-299fb5196643",
   "metadata": {},
   "source": [
    "# Credits\n",
    "\n",
    "Utilized python packages include:\n",
    "* [ads](https://github.com/andycasey/ads)\n",
    "* nltk"
   ]
  },
  {
   "cell_type": "code",
   "execution_count": null,
   "id": "8847b232-37d3-46f6-bcfd-e725c28c7d1f",
   "metadata": {},
   "outputs": [],
   "source": []
  }
 ],
 "metadata": {
  "kernelspec": {
   "display_name": "Python 3 (ipykernel)",
   "language": "python",
   "name": "python3"
  },
  "language_info": {
   "codemirror_mode": {
    "name": "ipython",
    "version": 3
   },
   "file_extension": ".py",
   "mimetype": "text/x-python",
   "name": "python",
   "nbconvert_exporter": "python",
   "pygments_lexer": "ipython3",
   "version": "3.10.11"
  }
 },
 "nbformat": 4,
 "nbformat_minor": 5
}
