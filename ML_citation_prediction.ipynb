{
 "cells": [
  {
   "cell_type": "markdown",
   "id": "2c6ef8af-09c2-4bbe-84f3-22598a953573",
   "metadata": {},
   "source": [
    "# Predicting Citation Count with Machine Learning <a class=\"anchor\" id=\"page-top\"></a>"
   ]
  },
  {
   "cell_type": "markdown",
   "id": "d8943fa0-487c-4b4d-90ef-20edadf8e6e3",
   "metadata": {},
   "source": [
    "This notebook is a narrative exploration of efforts to predict the number of citations per year a paper will receive,\n",
    "based on data available at time of publication. The model inputs include some combination of the following:\n",
    "* the full word content of the abstract\n",
    "* metrics relating the word content of the abstract to other papers in the sample (Imel & Hafen in prep)\n",
    "* publication metadata:\n",
    "  * what year the paper is published\n",
    "  * how many references are in the paper\n",
    "  * how long the paper is\n",
    "  * how many authors the paper has\n",
    "  * the journal the paper is published in"
   ]
  },
  {
   "cell_type": "markdown",
   "id": "69e68668-19d2-4a08-99f8-f54a90063280",
   "metadata": {},
   "source": [
    "The raw code for this analysis can be [found here](https://github.com/zhafen/work-sample)."
   ]
  },
  {
   "cell_type": "markdown",
   "id": "76d06867-713f-4946-86c3-37f230dae8db",
   "metadata": {},
   "source": [
    "## Table of Contents\n",
    "\n",
    "* [Data](#data)\n",
    "* [Exploratory Data Analysis](#EDA)\n",
    "* [Modeling](#modeling)\n",
    "  * [Preprocessing](#preprocessing)\n",
    "  * [Simple Linear Regression](#SLR)\n",
    "  * [Random Forest](#random-forest)\n",
    "  * [Gradient Boosting](#grad-boosting)\n",
    "  * [K Nearest Neighbors](#KNN)\n",
    "  * [Custom metrics](#explanatory)\n",
    "  * [Gradient Boosting with Metadata](#metadata)\n",
    "  * [Neural Net](#neural-net)\n",
    "  * [Ensemble Voting Regression](#voting)\n",
    "  * [Validation](#validation)\n",
    "* [Takeaways](#takeaways)"
   ]
  },
  {
   "cell_type": "markdown",
   "id": "e4f34309-46a4-4bc7-9f6a-0b959bd7e47b",
   "metadata": {},
   "source": [
    "# Data <a class=\"anchor\" id=\"data\"></a>\n",
    "\n",
    "I use publication abstracts and metadata pulled from the [NASA astrophysics data sytem](https://ui.adsabs.harvard.edu) via [the official API](https://ui.adsabs.harvard.edu/help/api/). The analyzed publications are from a randomly-chosen physics or astrophysics specialization.\n",
    "\n",
    "I externally preprocessed the abstract data with natural language processing (including tokenizing, stemming, and removing filler words), and each abstract has a corresponding bag-of-words representation."
   ]
  },
  {
   "cell_type": "markdown",
   "id": "cd6107c5-6a01-4233-adf0-981f6b9fd9f8",
   "metadata": {},
   "source": [
    "[**Back to Page Top**](#page-top)"
   ]
  },
  {
   "cell_type": "markdown",
   "id": "50a75ac0-5815-4d32-8749-9a720e97feb2",
   "metadata": {},
   "source": [
    "## User-Defined Parameters"
   ]
  },
  {
   "cell_type": "code",
   "execution_count": 1,
   "id": "c0e78fd5-7589-4b45-ada3-50e968fbc1cd",
   "metadata": {},
   "outputs": [],
   "source": [
    "pm = dict(\n",
    "    \n",
    "    # Data selection\n",
    "    data_dir = '/Users/zhafen/data/literature_topography',\n",
    "    region_number = 8,\n",
    "    convergence_degree = 3,\n",
    "    kernel_size = 16,\n",
    "    \n",
    "    # Features\n",
    "    numerical_variables = [\n",
    "        'age',\n",
    "        'references_count',\n",
    "        'page_count',\n",
    "        'log_author_count',\n",
    "    ],\n",
    "    categorical_variables = [\n",
    "        'journal_filtered',\n",
    "    ],\n",
    "    semantic_variables = [\n",
    "        'density',\n",
    "        'asymmetry',\n",
    "    ],\n",
    "    \n",
    ")"
   ]
  },
  {
   "cell_type": "markdown",
   "id": "1fb92437-05db-4492-9e67-5f5c2fef6b56",
   "metadata": {},
   "source": [
    "## Load raw data"
   ]
  },
  {
   "cell_type": "code",
   "execution_count": 2,
   "id": "00b2e036-f122-47a3-89fe-0ba8fc3fe138",
   "metadata": {},
   "outputs": [],
   "source": [
    "import numpy as np\n",
    "import os"
   ]
  },
  {
   "cell_type": "code",
   "execution_count": 3,
   "id": "72fd2943-e6ec-437f-b1f1-6c6fc9dab92d",
   "metadata": {},
   "outputs": [],
   "source": [
    "# My custom non-relational-data-management package\n",
    "import verdict\n",
    "# My library for NLP analysis of scientific abstracts\n",
    "from cc import atlas, cartography, utils"
   ]
  },
  {
   "cell_type": "code",
   "execution_count": 4,
   "id": "c10c7fb1-35b2-4cb5-9fa4-5b6cf8f6c4f8",
   "metadata": {},
   "outputs": [],
   "source": [
    "# Load summary information.\n",
    "# I analyzed several randomly chosen specializations (\"regions\"), of which we are choosing an arbitrary one.\n",
    "summary_data_fp = os.path.join( pm['data_dir'], 'regions', 'regions_summary.h5' )\n",
    "data = verdict.Dict.from_hdf5( summary_data_fp )\n",
    "data_k = data['regions'][str(pm['region_number'])]"
   ]
  },
  {
   "cell_type": "code",
   "execution_count": 5,
   "id": "5bc76715-22b7-4a1a-8f06-fb3a6182adc2",
   "metadata": {},
   "outputs": [
    {
     "name": "stdout",
     "output_type": "stream",
     "text": [
      "Loading saved atlas data.\n"
     ]
    },
    {
     "name": "stderr",
     "output_type": "stream",
     "text": [
      "0it [00:00, ?it/s]\n",
      "100%|█████████████████████████████████| 37311/37311 [00:01<00:00, 20387.92it/s]\n"
     ]
    }
   ],
   "source": [
    "# Class for management of abstracts\n",
    "atlas_dir = os.path.join( pm['data_dir'], 'regions', 'region_{}'.format( pm['region_number'] ) )\n",
    "a = atlas.Atlas( atlas_dir, load_bibtex=False )"
   ]
  },
  {
   "cell_type": "code",
   "execution_count": 6,
   "id": "b1a554d7-e2a9-4ebe-a839-938a22911605",
   "metadata": {},
   "outputs": [
    {
     "name": "stdout",
     "output_type": "stream",
     "text": [
      "Vectorizing text...\n",
      "Using saved vectorized text...\n"
     ]
    }
   ],
   "source": [
    "# Class for analysis of vectorized abstracts\n",
    "projection = a.vectorize(\n",
    "    verbose = True,\n",
    ")\n",
    "c = cartography.Cartographer( **projection )"
   ]
  },
  {
   "cell_type": "code",
   "execution_count": 7,
   "id": "a82a3143-48c7-4852-a005-2a4b942c8d24",
   "metadata": {},
   "outputs": [],
   "source": [
    "# Retrieve metrics I calculated in external pre-processing\n",
    "metrics_fp = os.path.join( atlas_dir, 'topography_metrics.h5' )\n",
    "metrics = verdict.Dict.from_hdf5( metrics_fp )"
   ]
  },
  {
   "cell_type": "code",
   "execution_count": 8,
   "id": "b941e711-7a8a-4eb3-8aa7-fbf44aa6cd0d",
   "metadata": {},
   "outputs": [],
   "source": [
    "# Not all the publications are viable for analysis.\n",
    "# I've saved information about what publications are viable, and here we load the identifying information.\n",
    "converged_kernel_size = data_k['converged_kernel_size'][:,-pm['convergence_degree']]\n",
    "converged = converged_kernel_size >= pm['kernel_size']\n",
    "publications = c.publications[converged]\n",
    "inds = np.arange( c.publications.size )[converged]"
   ]
  },
  {
   "cell_type": "markdown",
   "id": "674dcd56-924f-4eea-9079-460e75fe9dad",
   "metadata": {},
   "source": [
    "## Format into a DataFrame"
   ]
  },
  {
   "cell_type": "code",
   "execution_count": 9,
   "id": "b55f1f7e-4bf2-4c27-a659-c0e936efa30b",
   "metadata": {},
   "outputs": [],
   "source": [
    "import copy\n",
    "import pandas as pd\n",
    "import warnings"
   ]
  },
  {
   "cell_type": "code",
   "execution_count": 10,
   "id": "08d9a73a-6d9c-48c9-b41b-8774911f2a9a",
   "metadata": {},
   "outputs": [],
   "source": [
    "# Make into a dataframe\n",
    "df_data = copy.deepcopy( metrics )\n",
    "df_data['projection_ind'] = inds\n",
    "df = pd.DataFrame(\n",
    "    data = df_data._storage,\n",
    "    index=publications,\n",
    ")"
   ]
  },
  {
   "cell_type": "code",
   "execution_count": 11,
   "id": "cf49ca72-6d26-40e7-96a8-3b77cb81e6c6",
   "metadata": {},
   "outputs": [],
   "source": [
    "# Rename one of the metrics to something more intuitive\n",
    "df.rename( { 'fringe_factor': 'asymmetry' }, axis='columns', inplace=True )"
   ]
  },
  {
   "cell_type": "code",
   "execution_count": 12,
   "id": "6007e8d2-8d83-42d8-82dd-3399c44bddd0",
   "metadata": {},
   "outputs": [],
   "source": [
    "# Drop publications with no citations.\n",
    "# This catches all grant submissions, etc.\n",
    "df = df.loc[np.invert( np.isclose( df['citations_per_year'], 0. ) )]"
   ]
  },
  {
   "cell_type": "code",
   "execution_count": 13,
   "id": "b4c619ad-3887-4834-be72-8a00997b8327",
   "metadata": {},
   "outputs": [],
   "source": [
    "# Add logscale versions for some variables\n",
    "for column in [ 'density', 'citations_per_year', ]:\n",
    "    df['log_{}'.format( column )] = np.log10( df[column] )"
   ]
  },
  {
   "cell_type": "code",
   "execution_count": 14,
   "id": "1129e064-678d-403a-8ce4-632d0935d81c",
   "metadata": {},
   "outputs": [],
   "source": [
    "# Drop columns for which we're missing abstract data (will show up as a nan in density)\n",
    "df.dropna(subset=['density',], inplace=True)"
   ]
  },
  {
   "cell_type": "markdown",
   "id": "66f20561-30cc-4caa-8a67-4f669110ebf4",
   "metadata": {},
   "source": [
    "## Derive or retrieve additional quantities"
   ]
  },
  {
   "cell_type": "code",
   "execution_count": 15,
   "id": "e88d75f1-d0b1-4bcb-9512-5b7384eaac78",
   "metadata": {},
   "outputs": [],
   "source": [
    "import tqdm"
   ]
  },
  {
   "cell_type": "markdown",
   "id": "e4162776-d197-4656-86da-a446daa75a00",
   "metadata": {},
   "source": [
    "### ADS metadata"
   ]
  },
  {
   "cell_type": "code",
   "execution_count": 16,
   "id": "5c619dc8-f7c9-4397-9846-c81dbc9e9c5a",
   "metadata": {},
   "outputs": [
    {
     "name": "stderr",
     "output_type": "stream",
     "text": [
      "100%|██████████████████████████████████████████████████████████████████████████████████████████████████████████████████████████████████████████████████████████████████████████████████████████████████████████████████████████████████| 37311/37311 [00:02<00:00, 15558.42it/s]\n"
     ]
    }
   ],
   "source": [
    "citation_keys = []\n",
    "additional_data = {\n",
    "    'references_count': [],\n",
    "    'pages': [],\n",
    "    'author': [],\n",
    "    'journal': [],\n",
    "    'title': [],\n",
    "    'abstract_character_count': [],\n",
    "    'entry_date': [],\n",
    "}\n",
    "for citation_key, p in tqdm.tqdm( a.data.items() ):\n",
    "    \n",
    "    citation_keys.append( citation_key )\n",
    "    \n",
    "    # number of references\n",
    "    if p.references is None:\n",
    "        additional_data['references_count'].append( 0 )\n",
    "    else:\n",
    "        additional_data['references_count'].append( len( p.references ) )\n",
    "    \n",
    "    # Citation info\n",
    "    for key in [ 'pages', 'author', 'journal', 'title' ]:\n",
    "        try:\n",
    "            additional_data[key].append( p.citation[key] )\n",
    "        except KeyError:\n",
    "            additional_data[key].append( pd.NA )\n",
    "            \n",
    "    # Abstract\n",
    "    additional_data['abstract_character_count'].append( len( p.abstract_str() ) )\n",
    "    \n",
    "    # Entry date\n",
    "    additional_data['entry_date'].append( p.entry_date )"
   ]
  },
  {
   "cell_type": "code",
   "execution_count": 17,
   "id": "18d3c3e5-7124-4d09-9b1f-dd386727b669",
   "metadata": {},
   "outputs": [],
   "source": [
    "# Convert to datetime\n",
    "additional_data['entry_date'] = pd.to_datetime( additional_data['entry_date'] )"
   ]
  },
  {
   "cell_type": "code",
   "execution_count": 18,
   "id": "a599c111-433b-4c50-bf7b-8bef30a96a72",
   "metadata": {},
   "outputs": [],
   "source": [
    "# Join it onto the existing dataframe\n",
    "additional_df = pd.DataFrame( data=additional_data, index=citation_keys )\n",
    "df = df.join( additional_df )"
   ]
  },
  {
   "cell_type": "markdown",
   "id": "8a1d39e0-468f-4e7a-92e7-664f9f499549",
   "metadata": {},
   "source": [
    "### Index"
   ]
  },
  {
   "cell_type": "code",
   "execution_count": 19,
   "id": "280e3762-897c-42c0-8662-9c47ee5d3b57",
   "metadata": {},
   "outputs": [],
   "source": [
    "df['ind'] = np.arange( df.index.size )"
   ]
  },
  {
   "cell_type": "markdown",
   "id": "f8257eb5-9e42-47f4-b25e-317cb9f8d96c",
   "metadata": {},
   "source": [
    "### Page count"
   ]
  },
  {
   "cell_type": "code",
   "execution_count": 20,
   "id": "6596bc56-caa7-4d26-9ef5-cb8dbeb09341",
   "metadata": {},
   "outputs": [],
   "source": [
    "# Setup data structurs\n",
    "df['page_count'] = np.full( len( df ), np.nan )"
   ]
  },
  {
   "cell_type": "code",
   "execution_count": 21,
   "id": "1f8fcce8-5f28-478c-a3ce-34af9d9ef21c",
   "metadata": {},
   "outputs": [
    {
     "name": "stderr",
     "output_type": "stream",
     "text": [
      "/var/folders/43/wy_ws5nx3830gqhfw05n4yyc0000gn/T/ipykernel_31523/1933168570.py:2: FutureWarning: The default value of regex will change from True to False in a future version.\n",
      "  pages_str = df['pages'].str.replace( 'L|P', '' )\n"
     ]
    }
   ],
   "source": [
    "# Get rid of the \"L\" in front of the pages for publications submitted to letters.\n",
    "pages_str = df['pages'].str.replace( 'L|P', '' )"
   ]
  },
  {
   "cell_type": "code",
   "execution_count": 22,
   "id": "635f698a-3ec0-4947-80e0-93253b5c45ca",
   "metadata": {},
   "outputs": [],
   "source": [
    "# Split into two to take the difference\n",
    "pages_split = pages_str.str.split( '-', expand=True )"
   ]
  },
  {
   "cell_type": "code",
   "execution_count": 23,
   "id": "c2b1070c-ac3b-4afa-9a86-a1455f6aaef8",
   "metadata": {},
   "outputs": [],
   "source": [
    "# Identify the parseable data\n",
    "is_not_none = np.invert( pages_split[1].isnull() )\n",
    "is_numeric = pages_split[1].str.isnumeric()\n",
    "is_page_range = is_not_none & is_numeric"
   ]
  },
  {
   "cell_type": "code",
   "execution_count": 24,
   "id": "28fdafcd-3619-4d30-8737-f35e53972536",
   "metadata": {},
   "outputs": [],
   "source": [
    "# For the valid page ranges, set the page count\n",
    "df.loc[is_page_range,'page_count'] = (\n",
    "    pages_split[1].loc[is_page_range].astype( int )\n",
    "    - pages_split[0].loc[is_page_range].astype( int )\n",
    ")"
   ]
  },
  {
   "cell_type": "code",
   "execution_count": 25,
   "id": "2049dfa8-bc07-4a71-a57a-761c93a3a290",
   "metadata": {},
   "outputs": [],
   "source": [
    "# There can be one or two edge cases where there's a negative page count because of the formatting\n",
    "df.loc[df['page_count']<0,'page_count'] = np.nan"
   ]
  },
  {
   "cell_type": "markdown",
   "id": "af818e59-3b6c-4c95-9b9c-eb95773f68e1",
   "metadata": {},
   "source": [
    "### Author count"
   ]
  },
  {
   "cell_type": "code",
   "execution_count": 26,
   "id": "765e3bd0-bdb2-41f8-ae9b-721cfb6b1822",
   "metadata": {},
   "outputs": [],
   "source": [
    "df['author_count'] = df['author'].str.split( ' and ' ).apply( len )\n",
    "df['log_author_count'] = df['author_count'].apply( np.log10 )"
   ]
  },
  {
   "cell_type": "markdown",
   "id": "2feb7771-e0e6-4ead-82c8-9f0f105d4b40",
   "metadata": {},
   "source": [
    "### Title character count"
   ]
  },
  {
   "cell_type": "code",
   "execution_count": 27,
   "id": "82933473-b1ac-433b-b4c5-28a54d99cacf",
   "metadata": {},
   "outputs": [],
   "source": [
    "df['title_character_count'] = df['title'].str.len()"
   ]
  },
  {
   "cell_type": "markdown",
   "id": "f5347d2e-779a-42e2-8a5c-5d178c112a55",
   "metadata": {},
   "source": [
    "### Journals, filtered"
   ]
  },
  {
   "cell_type": "code",
   "execution_count": 28,
   "id": "1cc703eb-34b6-4df2-8627-08cff24db58a",
   "metadata": {},
   "outputs": [],
   "source": [
    "# Find the most common journals\n",
    "df_grouped = df.groupby( 'journal' )\n",
    "journal_entry_count = df_grouped.size().sort_values( ascending=False )\n",
    "most_common_journals = journal_entry_count.iloc[:5].index"
   ]
  },
  {
   "cell_type": "code",
   "execution_count": 29,
   "id": "0fedc6de-68f2-4095-90de-8782db5022fe",
   "metadata": {},
   "outputs": [
    {
     "data": {
      "text/plain": [
       "Index(['\\apj', '\\mnras', '\\aap', '\\aj', '\\apjl'], dtype='object', name='journal')"
      ]
     },
     "execution_count": 29,
     "metadata": {},
     "output_type": "execute_result"
    }
   ],
   "source": [
    "most_common_journals"
   ]
  },
  {
   "cell_type": "code",
   "execution_count": 30,
   "id": "5caa3514-35ad-49f7-a9fc-f4f02f35f543",
   "metadata": {},
   "outputs": [],
   "source": [
    "# Make a new column accordingly\n",
    "df['journal_filtered'] = df['journal'].copy()\n",
    "is_not_common_journal = np.invert( df['journal'].isin( most_common_journals ) )\n",
    "df.loc[is_not_common_journal,'journal_filtered'] = 'other'\n",
    "df.loc[df['journal'].isna(),'journal_filtered'] = 'other'"
   ]
  },
  {
   "cell_type": "markdown",
   "id": "de17c2ca-0b97-495c-85f3-d0a76a71eb91",
   "metadata": {},
   "source": [
    "### Word vectors"
   ]
  },
  {
   "cell_type": "code",
   "execution_count": 31,
   "id": "51283a55-b723-4ceb-a8e0-ab824f1b99f8",
   "metadata": {},
   "outputs": [],
   "source": [
    "v = c.vectors[df['projection_ind']]"
   ]
  },
  {
   "cell_type": "markdown",
   "id": "115ebe3c-914c-4480-bb86-0cadd93784cd",
   "metadata": {},
   "source": [
    "## Summarize data"
   ]
  },
  {
   "cell_type": "markdown",
   "id": "d748ce8e-d06f-4e4b-ad3b-d4e49f74f715",
   "metadata": {},
   "source": [
    "There are two main data containers:\n",
    "`df`, which contains all the metadata and derived quantities,\n",
    "and the sparse matrix `v`, which contains the word vectors."
   ]
  },
  {
   "cell_type": "code",
   "execution_count": 32,
   "id": "ef311bda-4779-46f7-a3f3-f0861a75052d",
   "metadata": {},
   "outputs": [
    {
     "name": "stdout",
     "output_type": "stream",
     "text": [
      "<class 'pandas.core.frame.DataFrame'>\n",
      "Index: 7359 entries, 2004JMOp...51.1447V to 1972ApJ...175L..73S\n",
      "Data columns (total 23 columns):\n",
      " #   Column                     Non-Null Count  Dtype              \n",
      "---  ------                     --------------  -----              \n",
      " 0   age                        7359 non-null   float64            \n",
      " 1   citations_per_year         7359 non-null   float64            \n",
      " 2   converged_kernel_size      7359 non-null   int32              \n",
      " 3   density                    7359 non-null   float64            \n",
      " 4   asymmetry                  7359 non-null   float64            \n",
      " 5   kernel_constant_asymmetry  7359 non-null   float64            \n",
      " 6   smoothing_length           7359 non-null   float64            \n",
      " 7   projection_ind             7359 non-null   int64              \n",
      " 8   log_density                7359 non-null   float64            \n",
      " 9   log_citations_per_year     7359 non-null   float64            \n",
      " 10  references_count           7359 non-null   int64              \n",
      " 11  pages                      7334 non-null   object             \n",
      " 12  author                     7359 non-null   object             \n",
      " 13  journal                    7037 non-null   object             \n",
      " 14  title                      7359 non-null   object             \n",
      " 15  abstract_character_count   7359 non-null   int64              \n",
      " 16  entry_date                 7359 non-null   datetime64[ns, UTC]\n",
      " 17  ind                        7359 non-null   int64              \n",
      " 18  page_count                 4134 non-null   float64            \n",
      " 19  author_count               7359 non-null   int64              \n",
      " 20  log_author_count           7359 non-null   float64            \n",
      " 21  title_character_count      7359 non-null   int64              \n",
      " 22  journal_filtered           7359 non-null   object             \n",
      "dtypes: datetime64[ns, UTC](1), float64(10), int32(1), int64(6), object(5)\n",
      "memory usage: 1.6+ MB\n"
     ]
    }
   ],
   "source": [
    "df.info()"
   ]
  },
  {
   "cell_type": "code",
   "execution_count": 33,
   "id": "53d31a82-a3d1-4a0c-a564-4a3030e1a929",
   "metadata": {},
   "outputs": [
    {
     "data": {
      "text/html": [
       "<div>\n",
       "<style scoped>\n",
       "    .dataframe tbody tr th:only-of-type {\n",
       "        vertical-align: middle;\n",
       "    }\n",
       "\n",
       "    .dataframe tbody tr th {\n",
       "        vertical-align: top;\n",
       "    }\n",
       "\n",
       "    .dataframe thead th {\n",
       "        text-align: right;\n",
       "    }\n",
       "</style>\n",
       "<table border=\"1\" class=\"dataframe\">\n",
       "  <thead>\n",
       "    <tr style=\"text-align: right;\">\n",
       "      <th></th>\n",
       "      <th>age</th>\n",
       "      <th>citations_per_year</th>\n",
       "      <th>converged_kernel_size</th>\n",
       "      <th>density</th>\n",
       "      <th>asymmetry</th>\n",
       "      <th>kernel_constant_asymmetry</th>\n",
       "      <th>smoothing_length</th>\n",
       "      <th>projection_ind</th>\n",
       "      <th>log_density</th>\n",
       "      <th>log_citations_per_year</th>\n",
       "      <th>...</th>\n",
       "      <th>journal</th>\n",
       "      <th>title</th>\n",
       "      <th>abstract_character_count</th>\n",
       "      <th>entry_date</th>\n",
       "      <th>ind</th>\n",
       "      <th>page_count</th>\n",
       "      <th>author_count</th>\n",
       "      <th>log_author_count</th>\n",
       "      <th>title_character_count</th>\n",
       "      <th>journal_filtered</th>\n",
       "    </tr>\n",
       "  </thead>\n",
       "  <tbody>\n",
       "    <tr>\n",
       "      <th>2013ApJ...766...95L</th>\n",
       "      <td>10.160942</td>\n",
       "      <td>14.467185</td>\n",
       "      <td>86</td>\n",
       "      <td>13.139502</td>\n",
       "      <td>0.683904</td>\n",
       "      <td>10.942457</td>\n",
       "      <td>1.217702</td>\n",
       "      <td>8119</td>\n",
       "      <td>1.118579</td>\n",
       "      <td>1.160384</td>\n",
       "      <td>...</td>\n",
       "      <td>\\apj</td>\n",
       "      <td>{Orbital Phase Variations of the Eccentric Gia...</td>\n",
       "      <td>2135</td>\n",
       "      <td>2013-03-24 00:00:00+00:00</td>\n",
       "      <td>3625</td>\n",
       "      <td>NaN</td>\n",
       "      <td>22</td>\n",
       "      <td>1.342423</td>\n",
       "      <td>65</td>\n",
       "      <td>\\apj</td>\n",
       "    </tr>\n",
       "    <tr>\n",
       "      <th>2001AJ....122...38T</th>\n",
       "      <td>21.863567</td>\n",
       "      <td>1.646576</td>\n",
       "      <td>53</td>\n",
       "      <td>13.554672</td>\n",
       "      <td>0.730760</td>\n",
       "      <td>11.692153</td>\n",
       "      <td>1.180405</td>\n",
       "      <td>995</td>\n",
       "      <td>1.132089</td>\n",
       "      <td>0.216582</td>\n",
       "      <td>...</td>\n",
       "      <td>\\aj</td>\n",
       "      <td>{Quantitative Morphology of the Intermediate-R...</td>\n",
       "      <td>1051</td>\n",
       "      <td>2001-07-13 00:00:00+00:00</td>\n",
       "      <td>441</td>\n",
       "      <td>16.0</td>\n",
       "      <td>4</td>\n",
       "      <td>0.602060</td>\n",
       "      <td>182</td>\n",
       "      <td>\\aj</td>\n",
       "    </tr>\n",
       "    <tr>\n",
       "      <th>2016ApJ...826...87W</th>\n",
       "      <td>6.805203</td>\n",
       "      <td>13.519099</td>\n",
       "      <td>30</td>\n",
       "      <td>14.297511</td>\n",
       "      <td>0.690165</td>\n",
       "      <td>11.042633</td>\n",
       "      <td>1.119076</td>\n",
       "      <td>20206</td>\n",
       "      <td>1.155260</td>\n",
       "      <td>1.130948</td>\n",
       "      <td>...</td>\n",
       "      <td>\\apj</td>\n",
       "      <td>{The Soft State of Cygnus X-1 Observed with Nu...</td>\n",
       "      <td>1776</td>\n",
       "      <td>2016-07-31 00:00:00+00:00</td>\n",
       "      <td>6651</td>\n",
       "      <td>NaN</td>\n",
       "      <td>20</td>\n",
       "      <td>1.301030</td>\n",
       "      <td>94</td>\n",
       "      <td>\\apj</td>\n",
       "    </tr>\n",
       "    <tr>\n",
       "      <th>2020A&amp;A...633A..69H</th>\n",
       "      <td>3.334410</td>\n",
       "      <td>86.672399</td>\n",
       "      <td>63</td>\n",
       "      <td>14.019318</td>\n",
       "      <td>0.656591</td>\n",
       "      <td>10.505457</td>\n",
       "      <td>1.141282</td>\n",
       "      <td>23361</td>\n",
       "      <td>1.146727</td>\n",
       "      <td>1.937881</td>\n",
       "      <td>...</td>\n",
       "      <td>\\aap</td>\n",
       "      <td>{KiDS+VIKING-450: Cosmic shear tomography with...</td>\n",
       "      <td>2022</td>\n",
       "      <td>2020-01-19 00:00:00+00:00</td>\n",
       "      <td>7137</td>\n",
       "      <td>NaN</td>\n",
       "      <td>28</td>\n",
       "      <td>1.447158</td>\n",
       "      <td>73</td>\n",
       "      <td>\\aap</td>\n",
       "    </tr>\n",
       "    <tr>\n",
       "      <th>2007A&amp;A...461..931P</th>\n",
       "      <td>16.376592</td>\n",
       "      <td>2.198262</td>\n",
       "      <td>18</td>\n",
       "      <td>14.810286</td>\n",
       "      <td>0.644750</td>\n",
       "      <td>10.315996</td>\n",
       "      <td>1.080330</td>\n",
       "      <td>22584</td>\n",
       "      <td>1.170563</td>\n",
       "      <td>0.342079</td>\n",
       "      <td>...</td>\n",
       "      <td>\\aap</td>\n",
       "      <td>{XMM-Newton observation of the NLS1 galaxy Ark...</td>\n",
       "      <td>1948</td>\n",
       "      <td>2007-01-06 00:00:00+00:00</td>\n",
       "      <td>7030</td>\n",
       "      <td>11.0</td>\n",
       "      <td>5</td>\n",
       "      <td>0.698970</td>\n",
       "      <td>102</td>\n",
       "      <td>\\aap</td>\n",
       "    </tr>\n",
       "  </tbody>\n",
       "</table>\n",
       "<p>5 rows × 23 columns</p>\n",
       "</div>"
      ],
      "text/plain": [
       "                           age  citations_per_year  converged_kernel_size  \\\n",
       "2013ApJ...766...95L  10.160942           14.467185                     86   \n",
       "2001AJ....122...38T  21.863567            1.646576                     53   \n",
       "2016ApJ...826...87W   6.805203           13.519099                     30   \n",
       "2020A&A...633A..69H   3.334410           86.672399                     63   \n",
       "2007A&A...461..931P  16.376592            2.198262                     18   \n",
       "\n",
       "                       density  asymmetry  kernel_constant_asymmetry  \\\n",
       "2013ApJ...766...95L  13.139502   0.683904                  10.942457   \n",
       "2001AJ....122...38T  13.554672   0.730760                  11.692153   \n",
       "2016ApJ...826...87W  14.297511   0.690165                  11.042633   \n",
       "2020A&A...633A..69H  14.019318   0.656591                  10.505457   \n",
       "2007A&A...461..931P  14.810286   0.644750                  10.315996   \n",
       "\n",
       "                     smoothing_length  projection_ind  log_density  \\\n",
       "2013ApJ...766...95L          1.217702            8119     1.118579   \n",
       "2001AJ....122...38T          1.180405             995     1.132089   \n",
       "2016ApJ...826...87W          1.119076           20206     1.155260   \n",
       "2020A&A...633A..69H          1.141282           23361     1.146727   \n",
       "2007A&A...461..931P          1.080330           22584     1.170563   \n",
       "\n",
       "                     log_citations_per_year  ...  journal  \\\n",
       "2013ApJ...766...95L                1.160384  ...     \\apj   \n",
       "2001AJ....122...38T                0.216582  ...      \\aj   \n",
       "2016ApJ...826...87W                1.130948  ...     \\apj   \n",
       "2020A&A...633A..69H                1.937881  ...     \\aap   \n",
       "2007A&A...461..931P                0.342079  ...     \\aap   \n",
       "\n",
       "                                                                 title  \\\n",
       "2013ApJ...766...95L  {Orbital Phase Variations of the Eccentric Gia...   \n",
       "2001AJ....122...38T  {Quantitative Morphology of the Intermediate-R...   \n",
       "2016ApJ...826...87W  {The Soft State of Cygnus X-1 Observed with Nu...   \n",
       "2020A&A...633A..69H  {KiDS+VIKING-450: Cosmic shear tomography with...   \n",
       "2007A&A...461..931P  {XMM-Newton observation of the NLS1 galaxy Ark...   \n",
       "\n",
       "                    abstract_character_count                entry_date   ind  \\\n",
       "2013ApJ...766...95L                     2135 2013-03-24 00:00:00+00:00  3625   \n",
       "2001AJ....122...38T                     1051 2001-07-13 00:00:00+00:00   441   \n",
       "2016ApJ...826...87W                     1776 2016-07-31 00:00:00+00:00  6651   \n",
       "2020A&A...633A..69H                     2022 2020-01-19 00:00:00+00:00  7137   \n",
       "2007A&A...461..931P                     1948 2007-01-06 00:00:00+00:00  7030   \n",
       "\n",
       "                     page_count author_count  log_author_count  \\\n",
       "2013ApJ...766...95L         NaN           22          1.342423   \n",
       "2001AJ....122...38T        16.0            4          0.602060   \n",
       "2016ApJ...826...87W         NaN           20          1.301030   \n",
       "2020A&A...633A..69H         NaN           28          1.447158   \n",
       "2007A&A...461..931P        11.0            5          0.698970   \n",
       "\n",
       "                     title_character_count  journal_filtered  \n",
       "2013ApJ...766...95L                     65              \\apj  \n",
       "2001AJ....122...38T                    182               \\aj  \n",
       "2016ApJ...826...87W                     94              \\apj  \n",
       "2020A&A...633A..69H                     73              \\aap  \n",
       "2007A&A...461..931P                    102              \\aap  \n",
       "\n",
       "[5 rows x 23 columns]"
      ]
     },
     "execution_count": 33,
     "metadata": {},
     "output_type": "execute_result"
    }
   ],
   "source": [
    "df.sample(5)"
   ]
  },
  {
   "cell_type": "code",
   "execution_count": 34,
   "id": "e37c724f-f880-4905-b9a1-ceaa7b9c77a9",
   "metadata": {},
   "outputs": [
    {
     "data": {
      "text/plain": [
       "<7359x30286 sparse matrix of type '<class 'numpy.int64'>'\n",
       "\twith 670079 stored elements in Compressed Sparse Row format>"
      ]
     },
     "execution_count": 34,
     "metadata": {},
     "output_type": "execute_result"
    }
   ],
   "source": [
    "v"
   ]
  },
  {
   "cell_type": "markdown",
   "id": "dfaef67d-74ae-4356-8c0a-f7bedbd8f1d2",
   "metadata": {},
   "source": [
    "## Split testing and training data\n",
    "\n",
    "As is standard practice."
   ]
  },
  {
   "cell_type": "code",
   "execution_count": 35,
   "id": "0d410795-d13c-49b7-94c3-c9bd48ebfedc",
   "metadata": {},
   "outputs": [],
   "source": [
    "from sklearn.model_selection import train_test_split"
   ]
  },
  {
   "cell_type": "code",
   "execution_count": 36,
   "id": "21b16ff0-12dd-4042-b326-9aa6c0274fa6",
   "metadata": {},
   "outputs": [],
   "source": [
    "# Split dataframe\n",
    "df_train, df_test = train_test_split( df, test_size=0.2, random_state=42 )"
   ]
  },
  {
   "cell_type": "code",
   "execution_count": 37,
   "id": "23b07e53-7475-42be-94fd-67b5f904e98f",
   "metadata": {},
   "outputs": [],
   "source": [
    "# Split word vector input\n",
    "v_train = v[df_train['ind']]\n",
    "v_test = v[df_test['ind']]"
   ]
  },
  {
   "cell_type": "code",
   "execution_count": 38,
   "id": "143b1f1c-b5e5-4489-9b66-c5b13dabb333",
   "metadata": {},
   "outputs": [],
   "source": [
    "# Split semantic input\n",
    "M_train = df_train[pm['semantic_variables']].values\n",
    "M_test = df_test[pm['semantic_variables']].values"
   ]
  },
  {
   "cell_type": "code",
   "execution_count": 39,
   "id": "5ae4f0bc-ca6a-499f-93ec-4c6c9939116c",
   "metadata": {},
   "outputs": [],
   "source": [
    "# Split metadata input\n",
    "X_train_df = df_train[pm['numerical_variables'] + pm['categorical_variables']]\n",
    "X_test_df = df_test[pm['numerical_variables'] + pm['categorical_variables']]"
   ]
  },
  {
   "cell_type": "code",
   "execution_count": 40,
   "id": "4a4933ed-6d62-4ea0-a418-e546cffccfcf",
   "metadata": {},
   "outputs": [],
   "source": [
    "# Split derived (metadata+semantic) input\n",
    "D_train_df = df_train[pm['numerical_variables'] + pm['categorical_variables'] + pm['semantic_variables']]\n",
    "D_test_df = df_test[pm['numerical_variables'] + pm['categorical_variables'] + pm['semantic_variables']]"
   ]
  },
  {
   "cell_type": "code",
   "execution_count": 41,
   "id": "9f306152-dd29-4dac-88fd-61c2af636b92",
   "metadata": {},
   "outputs": [],
   "source": [
    "# Split output\n",
    "y_train = df_train['log_citations_per_year'].values\n",
    "y_test = df_test['log_citations_per_year'].values"
   ]
  },
  {
   "cell_type": "markdown",
   "id": "caacaaf4-27d2-4098-acc3-e4ae3a24c91e",
   "metadata": {},
   "source": [
    "# Exploratory Data Analysis <a class=\"anchor\" id=\"EDA\"></a>\n",
    "\n",
    "I explored this dataset thoroughly in other analyses, so here I'll just visually summarize the dataset."
   ]
  },
  {
   "cell_type": "markdown",
   "id": "0b091c66-e580-489d-b501-3d397483e456",
   "metadata": {},
   "source": [
    "[**Back to Page Top**](#page-top)"
   ]
  },
  {
   "cell_type": "code",
   "execution_count": 42,
   "id": "bdd13b53-344e-428f-ab86-1a1ce6a24a41",
   "metadata": {},
   "outputs": [],
   "source": [
    "import seaborn as sns\n",
    "\n",
    "sns.set_style( 'whitegrid' )"
   ]
  },
  {
   "cell_type": "markdown",
   "id": "c165caa4-bc51-45bc-aeb2-2b3ec64c95eb",
   "metadata": {},
   "source": [
    "## Citations per year"
   ]
  },
  {
   "cell_type": "code",
   "execution_count": 43,
   "id": "17e8354a-106e-41e5-ab84-5f1cfd23491e",
   "metadata": {},
   "outputs": [
    {
     "data": {
      "text/plain": [
       "<AxesSubplot: xlabel='log_citations_per_year', ylabel='Count'>"
      ]
     },
     "execution_count": 43,
     "metadata": {},
     "output_type": "execute_result"
    },
    {
     "data": {
      "image/png": "[encoded data removed]",
      "text/plain": [
       "<Figure size 640x480 with 1 Axes>"
      ]
     },
     "metadata": {},
     "output_type": "display_data"
    }
   ],
   "source": [
    "sns.histplot(\n",
    "    df_train,\n",
    "    x = 'log_citations_per_year',\n",
    ")"
   ]
  },
  {
   "cell_type": "markdown",
   "id": "fc856883-219e-495e-aeb3-b62a4525009f",
   "metadata": {},
   "source": [
    "## Numerical variables"
   ]
  },
  {
   "cell_type": "code",
   "execution_count": 44,
   "id": "c666692e-2ed9-43b8-8c64-e266e9bc06c7",
   "metadata": {},
   "outputs": [
    {
     "data": {
      "text/plain": [
       "(0.0, 40.0)"
      ]
     },
     "execution_count": 44,
     "metadata": {},
     "output_type": "execute_result"
    },
    {
     "data": {
      "image/png": "[encoded data removed]",
      "text/plain": [
       "<Figure size 1000x250 with 4 Axes>"
      ]
     },
     "metadata": {},
     "output_type": "display_data"
    }
   ],
   "source": [
    "pairplot = sns.pairplot(\n",
    "    df_train,\n",
    "    x_vars = pm['numerical_variables'],\n",
    "    y_vars = [ 'log_citations_per_year',],\n",
    "    kind = 'hist',\n",
    "    # plot_kws = { 'line_kws': { 'color': 'k', }, },\n",
    ")\n",
    "pairplot.axes[0,1].set_xlim( 0, 210 )\n",
    "pairplot.axes[0,2].set_xlim( 0, 40 )"
   ]
  },
  {
   "cell_type": "markdown",
   "id": "34740137-a6ee-4e2b-89ec-2e0c90eeb501",
   "metadata": {},
   "source": [
    "## Categorical variable"
   ]
  },
  {
   "cell_type": "code",
   "execution_count": 45,
   "id": "afcc6094-740b-4a8c-83f3-510f0c517328",
   "metadata": {},
   "outputs": [
    {
     "data": {
      "text/plain": [
       "<AxesSubplot: xlabel='journal_filtered', ylabel='log_citations_per_year'>"
      ]
     },
     "execution_count": 45,
     "metadata": {},
     "output_type": "execute_result"
    },
    {
     "data": {
      "image/png": "[encoded data removed]",
      "text/plain": [
       "<Figure size 640x480 with 1 Axes>"
      ]
     },
     "metadata": {},
     "output_type": "display_data"
    }
   ],
   "source": [
    "sns.violinplot(\n",
    "    df_train,\n",
    "    x = 'journal_filtered',\n",
    "    y = 'log_citations_per_year',\n",
    ")"
   ]
  },
  {
   "cell_type": "markdown",
   "id": "4b77df71-2c58-4cb2-a929-a946b3ea4802",
   "metadata": {},
   "source": [
    "# Modeling <a class=\"anchor\" id=\"modeling\"></a>"
   ]
  },
  {
   "cell_type": "markdown",
   "id": "7b070a45-fa9c-4b14-a9af-53c83d4e1f90",
   "metadata": {},
   "source": [
    "## Preprocessing <a class=\"anchor\" id=\"preprocessing\"></a>\n",
    "\n",
    "In this section I set up pipelines to prepare the data for the ML models."
   ]
  },
  {
   "cell_type": "markdown",
   "id": "be652dd0-4627-4b07-805f-6c21d6b386c8",
   "metadata": {},
   "source": [
    "[**Back to Page Top**](#page-top)"
   ]
  },
  {
   "cell_type": "code",
   "execution_count": 46,
   "id": "09758df0-f2a7-483b-9e2d-866b9d2d00d8",
   "metadata": {},
   "outputs": [],
   "source": [
    "from sklearn.compose import ColumnTransformer\n",
    "from sklearn.preprocessing import StandardScaler, OneHotEncoder, Normalizer\n",
    "from sklearn.pipeline import Pipeline\n",
    "from sklearn.impute import SimpleImputer\n",
    "from sklearn.model_selection import cross_validate, KFold"
   ]
  },
  {
   "cell_type": "code",
   "execution_count": 47,
   "id": "2162b6ad-0cc2-4b47-a71b-a749298f744c",
   "metadata": {},
   "outputs": [],
   "source": [
    "# Two things for our numerical variables:\n",
    "# Imputation of missing values and scaling by mean and std\n",
    "numerical_preprocessing = Pipeline(\n",
    "    [\n",
    "        ( 'impute', SimpleImputer( strategy='mean' ) ),\n",
    "        ( 'scale', StandardScaler() ),\n",
    "    ]\n",
    ")"
   ]
  },
  {
   "cell_type": "code",
   "execution_count": 48,
   "id": "ce2bdd17-5577-4f36-b223-2469151c76bb",
   "metadata": {},
   "outputs": [],
   "source": [
    "# Preprocessing for word vectors is just scaling\n",
    "vector_preprocessing = Pipeline(\n",
    "    [\n",
    "        ( 'scale', Normalizer() ),\n",
    "    ]\n",
    ")"
   ]
  },
  {
   "cell_type": "code",
   "execution_count": 49,
   "id": "95b30777-619d-462a-a9fe-5603b2aaf79d",
   "metadata": {},
   "outputs": [],
   "source": [
    "# There is a subset of the numerical variables that I refer to as \"semantic\".\n",
    "# These variables contain metrics that measure the relationship of the words in a publication to words in other publications.\n",
    "semantic_preprocessing = Pipeline(\n",
    "    [\n",
    "        ( 'scale', StandardScaler() ),\n",
    "    ]\n",
    ")"
   ]
  },
  {
   "cell_type": "code",
   "execution_count": 50,
   "id": "9a75fce9-9a65-41e4-8e99-6ae59ccdc365",
   "metadata": {},
   "outputs": [],
   "source": [
    "# Combine the numerical preprocessing with onehot encoding for the categorical variable\n",
    "metadata_preprocessing = ColumnTransformer( [\n",
    "        ( 'numerical', numerical_preprocessing, pm['numerical_variables'] ),\n",
    "        ( 'onehot', OneHotEncoder(), pm['categorical_variables'] ),\n",
    "] )"
   ]
  },
  {
   "cell_type": "code",
   "execution_count": 51,
   "id": "8c229761-3583-4aad-bac7-9f6dd7299829",
   "metadata": {},
   "outputs": [],
   "source": [
    "# For semantic and metadata combined\n",
    "derived_preprocessing = ColumnTransformer( [\n",
    "        ( 'numerical', numerical_preprocessing, pm['numerical_variables'] + pm['semantic_variables'] ),\n",
    "        ( 'onehot', OneHotEncoder(), pm['categorical_variables'] ),\n",
    "] )"
   ]
  },
  {
   "cell_type": "code",
   "execution_count": 52,
   "id": "6d4434cd-c474-43a0-b2c1-176dbb174f1d",
   "metadata": {},
   "outputs": [],
   "source": [
    "# Set up a kfold object for cross validation\n",
    "kfold = KFold(\n",
    "    n_splits = 5,\n",
    "    shuffle = True,\n",
    "    random_state = 1532\n",
    ")"
   ]
  },
  {
   "cell_type": "code",
   "execution_count": 53,
   "id": "1c197ab5-80f5-450a-aab3-19f7efa91cde",
   "metadata": {},
   "outputs": [],
   "source": [
    "# Object for storing data\n",
    "crossvals = {}"
   ]
  },
  {
   "cell_type": "markdown",
   "id": "8fc84c32-2691-45a7-afb3-955335ffd62a",
   "metadata": {
    "tags": []
   },
   "source": [
    "## A Baseline Model <a class=\"anchor\" id=\"baseline\"></a>\n",
    "\n",
    "I use the mean log citations per year as the baseline."
   ]
  },
  {
   "cell_type": "code",
   "execution_count": 54,
   "id": "7e299af4-cdd0-4f5c-a3b0-bf421ee750e1",
   "metadata": {
    "tags": []
   },
   "outputs": [],
   "source": [
    "from sklearn.base import BaseEstimator"
   ]
  },
  {
   "cell_type": "code",
   "execution_count": 55,
   "id": "b3e74d57-1f85-4c8d-ba83-c2d7bc45b2fd",
   "metadata": {},
   "outputs": [],
   "source": [
    "class Baseline( BaseEstimator ):\n",
    "    '''The baseline model is just the mean. We put it into a class\n",
    "    for full consistency with all future models.'''\n",
    "    \n",
    "    def fit( self, X , y):\n",
    "        \n",
    "        self.estimate = y.mean()\n",
    "        \n",
    "    def predict( self, X ):\n",
    "        \n",
    "        return np.full( X.shape[0], self.estimate )\n",
    "\n",
    "model = Baseline()"
   ]
  },
  {
   "cell_type": "code",
   "execution_count": 56,
   "id": "7806e7f3-1f69-4cf0-818f-5da7724c0a0b",
   "metadata": {},
   "outputs": [
    {
     "data": {
      "text/html": [
       "<style>#sk-container-id-1 {color: black;background-color: white;}#sk-container-id-1 pre{padding: 0;}#sk-container-id-1 div.sk-toggleable {background-color: white;}#sk-container-id-1 label.sk-toggleable__label {cursor: pointer;display: block;width: 100%;margin-bottom: 0;padding: 0.3em;box-sizing: border-box;text-align: center;}#sk-container-id-1 label.sk-toggleable__label-arrow:before {content: \"▸\";float: left;margin-right: 0.25em;color: #696969;}#sk-container-id-1 label.sk-toggleable__label-arrow:hover:before {color: black;}#sk-container-id-1 div.sk-estimator:hover label.sk-toggleable__label-arrow:before {color: black;}#sk-container-id-1 div.sk-toggleable__content {max-height: 0;max-width: 0;overflow: hidden;text-align: left;background-color: #f0f8ff;}#sk-container-id-1 div.sk-toggleable__content pre {margin: 0.2em;color: black;border-radius: 0.25em;background-color: #f0f8ff;}#sk-container-id-1 input.sk-toggleable__control:checked~div.sk-toggleable__content {max-height: 200px;max-width: 100%;overflow: auto;}#sk-container-id-1 input.sk-toggleable__control:checked~label.sk-toggleable__label-arrow:before {content: \"▾\";}#sk-container-id-1 div.sk-estimator input.sk-toggleable__control:checked~label.sk-toggleable__label {background-color: #d4ebff;}#sk-container-id-1 div.sk-label input.sk-toggleable__control:checked~label.sk-toggleable__label {background-color: #d4ebff;}#sk-container-id-1 input.sk-hidden--visually {border: 0;clip: rect(1px 1px 1px 1px);clip: rect(1px, 1px, 1px, 1px);height: 1px;margin: -1px;overflow: hidden;padding: 0;position: absolute;width: 1px;}#sk-container-id-1 div.sk-estimator {font-family: monospace;background-color: #f0f8ff;border: 1px dotted black;border-radius: 0.25em;box-sizing: border-box;margin-bottom: 0.5em;}#sk-container-id-1 div.sk-estimator:hover {background-color: #d4ebff;}#sk-container-id-1 div.sk-parallel-item::after {content: \"\";width: 100%;border-bottom: 1px solid gray;flex-grow: 1;}#sk-container-id-1 div.sk-label:hover label.sk-toggleable__label {background-color: #d4ebff;}#sk-container-id-1 div.sk-serial::before {content: \"\";position: absolute;border-left: 1px solid gray;box-sizing: border-box;top: 0;bottom: 0;left: 50%;z-index: 0;}#sk-container-id-1 div.sk-serial {display: flex;flex-direction: column;align-items: center;background-color: white;padding-right: 0.2em;padding-left: 0.2em;position: relative;}#sk-container-id-1 div.sk-item {position: relative;z-index: 1;}#sk-container-id-1 div.sk-parallel {display: flex;align-items: stretch;justify-content: center;background-color: white;position: relative;}#sk-container-id-1 div.sk-item::before, #sk-container-id-1 div.sk-parallel-item::before {content: \"\";position: absolute;border-left: 1px solid gray;box-sizing: border-box;top: 0;bottom: 0;left: 50%;z-index: -1;}#sk-container-id-1 div.sk-parallel-item {display: flex;flex-direction: column;z-index: 1;position: relative;background-color: white;}#sk-container-id-1 div.sk-parallel-item:first-child::after {align-self: flex-end;width: 50%;}#sk-container-id-1 div.sk-parallel-item:last-child::after {align-self: flex-start;width: 50%;}#sk-container-id-1 div.sk-parallel-item:only-child::after {width: 0;}#sk-container-id-1 div.sk-dashed-wrapped {border: 1px dashed gray;margin: 0 0.4em 0.5em 0.4em;box-sizing: border-box;padding-bottom: 0.4em;background-color: white;}#sk-container-id-1 div.sk-label label {font-family: monospace;font-weight: bold;display: inline-block;line-height: 1.2em;}#sk-container-id-1 div.sk-label-container {text-align: center;}#sk-container-id-1 div.sk-container {/* jupyter's `normalize.less` sets `[hidden] { display: none; }` but bootstrap.min.css set `[hidden] { display: none !important; }` so we also need the `!important` here to be able to override the default hidden behavior on the sphinx rendered scikit-learn.org. See: https://github.com/scikit-learn/scikit-learn/issues/21755 */display: inline-block !important;position: relative;}#sk-container-id-1 div.sk-text-repr-fallback {display: none;}</style><div id=\"sk-container-id-1\" class=\"sk-top-container\"><div class=\"sk-text-repr-fallback\"><pre>Baseline()</pre><b>In a Jupyter environment, please rerun this cell to show the HTML representation or trust the notebook. <br />On GitHub, the HTML representation is unable to render, please try loading this page with nbviewer.org.</b></div><div class=\"sk-container\" hidden><div class=\"sk-item\"><div class=\"sk-estimator sk-toggleable\"><input class=\"sk-toggleable__control sk-hidden--visually\" id=\"sk-estimator-id-1\" type=\"checkbox\" checked><label for=\"sk-estimator-id-1\" class=\"sk-toggleable__label sk-toggleable__label-arrow\">Baseline</label><div class=\"sk-toggleable__content\"><pre>Baseline()</pre></div></div></div></div></div>"
      ],
      "text/plain": [
       "Baseline()"
      ]
     },
     "execution_count": 56,
     "metadata": {},
     "output_type": "execute_result"
    }
   ],
   "source": [
    "model"
   ]
  },
  {
   "cell_type": "code",
   "execution_count": 57,
   "id": "d9ce06be-12a6-4ad8-a26c-d4ccb120e0d5",
   "metadata": {
    "tags": []
   },
   "outputs": [],
   "source": [
    "# Perform and store cross validation\n",
    "crossvals['baseline'] = verdict.Dict( cross_validate(\n",
    "    estimator = model,\n",
    "    X = X_train_df.values,\n",
    "    y = y_train,\n",
    "    cv = kfold,\n",
    "    scoring = 'neg_root_mean_squared_error',\n",
    "    return_estimator = True,\n",
    ") )"
   ]
  },
  {
   "cell_type": "markdown",
   "id": "684e1930-7f1e-4c6b-83df-66c7b99f1738",
   "metadata": {},
   "source": [
    "Because the baseline is the mean the RMSE for the individual folds should be similar to the standard deviation of the full sample."
   ]
  },
  {
   "cell_type": "code",
   "execution_count": 58,
   "id": "1ee5fd5a-d8fd-4d83-80a2-82fc2017e5e4",
   "metadata": {},
   "outputs": [
    {
     "data": {
      "text/plain": [
       "array([0.64482796, 0.66680128, 0.66007965, 0.63059422, 0.63430133])"
      ]
     },
     "execution_count": 58,
     "metadata": {},
     "output_type": "execute_result"
    }
   ],
   "source": [
    "-crossvals['baseline']['test_score']"
   ]
  },
  {
   "cell_type": "code",
   "execution_count": 59,
   "id": "ea3910db-b536-4a34-998c-4f876ac123c4",
   "metadata": {},
   "outputs": [
    {
     "data": {
      "text/plain": [
       "0.6472643986056894"
      ]
     },
     "execution_count": 59,
     "metadata": {},
     "output_type": "execute_result"
    }
   ],
   "source": [
    "sample_mean = y_train.mean()\n",
    "sample_std = y_train.std()\n",
    "sample_std"
   ]
  },
  {
   "cell_type": "markdown",
   "id": "bd979aa3-f78c-4dd7-8f48-6b53e30efcdd",
   "metadata": {},
   "source": [
    "## A Naive Model: Simple Linear Regression <a class=\"anchor\" id=\"SLR\"></a>\n",
    "\n",
    "For the first model I'll see if we can just use linear least squares regression with the word vectors as input.\n",
    "This is a pretty silly model: I'm limited to linear order because of the high dimensionality of the word vectors, and it is unlikely that a single line can describe the citation relationship."
   ]
  },
  {
   "cell_type": "markdown",
   "id": "b61ee48f-6a2c-4f3e-b94c-ff44b7459de4",
   "metadata": {},
   "source": [
    "[**Back to Page Top**](#page-top)"
   ]
  },
  {
   "cell_type": "code",
   "execution_count": 60,
   "id": "08fe42a1-daf7-443c-a73e-e29d6c022a36",
   "metadata": {},
   "outputs": [],
   "source": [
    "from sklearn.preprocessing import PolynomialFeatures\n",
    "from sklearn.linear_model import LinearRegression"
   ]
  },
  {
   "cell_type": "code",
   "execution_count": 61,
   "id": "3f74f5e4-abbd-43dd-a482-34fbb0670cd1",
   "metadata": {},
   "outputs": [],
   "source": [
    "model = Pipeline(\n",
    "    [\n",
    "        ( 'preprocessing', vector_preprocessing ),\n",
    "        ( 'poly', PolynomialFeatures( degree=1 ) ),\n",
    "        ( 'reg', LinearRegression( fit_intercept=False ) ),\n",
    "    ]\n",
    ")"
   ]
  },
  {
   "cell_type": "code",
   "execution_count": 62,
   "id": "9db1e1c5-1abd-41c3-b2db-05b35133c78d",
   "metadata": {},
   "outputs": [
    {
     "data": {
      "text/html": [
       "<style>#sk-container-id-2 {color: black;background-color: white;}#sk-container-id-2 pre{padding: 0;}#sk-container-id-2 div.sk-toggleable {background-color: white;}#sk-container-id-2 label.sk-toggleable__label {cursor: pointer;display: block;width: 100%;margin-bottom: 0;padding: 0.3em;box-sizing: border-box;text-align: center;}#sk-container-id-2 label.sk-toggleable__label-arrow:before {content: \"▸\";float: left;margin-right: 0.25em;color: #696969;}#sk-container-id-2 label.sk-toggleable__label-arrow:hover:before {color: black;}#sk-container-id-2 div.sk-estimator:hover label.sk-toggleable__label-arrow:before {color: black;}#sk-container-id-2 div.sk-toggleable__content {max-height: 0;max-width: 0;overflow: hidden;text-align: left;background-color: #f0f8ff;}#sk-container-id-2 div.sk-toggleable__content pre {margin: 0.2em;color: black;border-radius: 0.25em;background-color: #f0f8ff;}#sk-container-id-2 input.sk-toggleable__control:checked~div.sk-toggleable__content {max-height: 200px;max-width: 100%;overflow: auto;}#sk-container-id-2 input.sk-toggleable__control:checked~label.sk-toggleable__label-arrow:before {content: \"▾\";}#sk-container-id-2 div.sk-estimator input.sk-toggleable__control:checked~label.sk-toggleable__label {background-color: #d4ebff;}#sk-container-id-2 div.sk-label input.sk-toggleable__control:checked~label.sk-toggleable__label {background-color: #d4ebff;}#sk-container-id-2 input.sk-hidden--visually {border: 0;clip: rect(1px 1px 1px 1px);clip: rect(1px, 1px, 1px, 1px);height: 1px;margin: -1px;overflow: hidden;padding: 0;position: absolute;width: 1px;}#sk-container-id-2 div.sk-estimator {font-family: monospace;background-color: #f0f8ff;border: 1px dotted black;border-radius: 0.25em;box-sizing: border-box;margin-bottom: 0.5em;}#sk-container-id-2 div.sk-estimator:hover {background-color: #d4ebff;}#sk-container-id-2 div.sk-parallel-item::after {content: \"\";width: 100%;border-bottom: 1px solid gray;flex-grow: 1;}#sk-container-id-2 div.sk-label:hover label.sk-toggleable__label {background-color: #d4ebff;}#sk-container-id-2 div.sk-serial::before {content: \"\";position: absolute;border-left: 1px solid gray;box-sizing: border-box;top: 0;bottom: 0;left: 50%;z-index: 0;}#sk-container-id-2 div.sk-serial {display: flex;flex-direction: column;align-items: center;background-color: white;padding-right: 0.2em;padding-left: 0.2em;position: relative;}#sk-container-id-2 div.sk-item {position: relative;z-index: 1;}#sk-container-id-2 div.sk-parallel {display: flex;align-items: stretch;justify-content: center;background-color: white;position: relative;}#sk-container-id-2 div.sk-item::before, #sk-container-id-2 div.sk-parallel-item::before {content: \"\";position: absolute;border-left: 1px solid gray;box-sizing: border-box;top: 0;bottom: 0;left: 50%;z-index: -1;}#sk-container-id-2 div.sk-parallel-item {display: flex;flex-direction: column;z-index: 1;position: relative;background-color: white;}#sk-container-id-2 div.sk-parallel-item:first-child::after {align-self: flex-end;width: 50%;}#sk-container-id-2 div.sk-parallel-item:last-child::after {align-self: flex-start;width: 50%;}#sk-container-id-2 div.sk-parallel-item:only-child::after {width: 0;}#sk-container-id-2 div.sk-dashed-wrapped {border: 1px dashed gray;margin: 0 0.4em 0.5em 0.4em;box-sizing: border-box;padding-bottom: 0.4em;background-color: white;}#sk-container-id-2 div.sk-label label {font-family: monospace;font-weight: bold;display: inline-block;line-height: 1.2em;}#sk-container-id-2 div.sk-label-container {text-align: center;}#sk-container-id-2 div.sk-container {/* jupyter's `normalize.less` sets `[hidden] { display: none; }` but bootstrap.min.css set `[hidden] { display: none !important; }` so we also need the `!important` here to be able to override the default hidden behavior on the sphinx rendered scikit-learn.org. See: https://github.com/scikit-learn/scikit-learn/issues/21755 */display: inline-block !important;position: relative;}#sk-container-id-2 div.sk-text-repr-fallback {display: none;}</style><div id=\"sk-container-id-2\" class=\"sk-top-container\"><div class=\"sk-text-repr-fallback\"><pre>Pipeline(steps=[(&#x27;preprocessing&#x27;, Pipeline(steps=[(&#x27;scale&#x27;, Normalizer())])),\n",
       "                (&#x27;poly&#x27;, PolynomialFeatures(degree=1)),\n",
       "                (&#x27;reg&#x27;, LinearRegression(fit_intercept=False))])</pre><b>In a Jupyter environment, please rerun this cell to show the HTML representation or trust the notebook. <br />On GitHub, the HTML representation is unable to render, please try loading this page with nbviewer.org.</b></div><div class=\"sk-container\" hidden><div class=\"sk-item sk-dashed-wrapped\"><div class=\"sk-label-container\"><div class=\"sk-label sk-toggleable\"><input class=\"sk-toggleable__control sk-hidden--visually\" id=\"sk-estimator-id-2\" type=\"checkbox\" ><label for=\"sk-estimator-id-2\" class=\"sk-toggleable__label sk-toggleable__label-arrow\">Pipeline</label><div class=\"sk-toggleable__content\"><pre>Pipeline(steps=[(&#x27;preprocessing&#x27;, Pipeline(steps=[(&#x27;scale&#x27;, Normalizer())])),\n",
       "                (&#x27;poly&#x27;, PolynomialFeatures(degree=1)),\n",
       "                (&#x27;reg&#x27;, LinearRegression(fit_intercept=False))])</pre></div></div></div><div class=\"sk-serial\"><div class=\"sk-item\"><div class=\"sk-label-container\"><div class=\"sk-label sk-toggleable\"><input class=\"sk-toggleable__control sk-hidden--visually\" id=\"sk-estimator-id-3\" type=\"checkbox\" ><label for=\"sk-estimator-id-3\" class=\"sk-toggleable__label sk-toggleable__label-arrow\">preprocessing: Pipeline</label><div class=\"sk-toggleable__content\"><pre>Pipeline(steps=[(&#x27;scale&#x27;, Normalizer())])</pre></div></div></div><div class=\"sk-serial\"><div class=\"sk-item\"><div class=\"sk-estimator sk-toggleable\"><input class=\"sk-toggleable__control sk-hidden--visually\" id=\"sk-estimator-id-4\" type=\"checkbox\" ><label for=\"sk-estimator-id-4\" class=\"sk-toggleable__label sk-toggleable__label-arrow\">Normalizer</label><div class=\"sk-toggleable__content\"><pre>Normalizer()</pre></div></div></div></div></div><div class=\"sk-item\"><div class=\"sk-estimator sk-toggleable\"><input class=\"sk-toggleable__control sk-hidden--visually\" id=\"sk-estimator-id-5\" type=\"checkbox\" ><label for=\"sk-estimator-id-5\" class=\"sk-toggleable__label sk-toggleable__label-arrow\">PolynomialFeatures</label><div class=\"sk-toggleable__content\"><pre>PolynomialFeatures(degree=1)</pre></div></div></div><div class=\"sk-item\"><div class=\"sk-estimator sk-toggleable\"><input class=\"sk-toggleable__control sk-hidden--visually\" id=\"sk-estimator-id-6\" type=\"checkbox\" ><label for=\"sk-estimator-id-6\" class=\"sk-toggleable__label sk-toggleable__label-arrow\">LinearRegression</label><div class=\"sk-toggleable__content\"><pre>LinearRegression(fit_intercept=False)</pre></div></div></div></div></div></div></div>"
      ],
      "text/plain": [
       "Pipeline(steps=[('preprocessing', Pipeline(steps=[('scale', Normalizer())])),\n",
       "                ('poly', PolynomialFeatures(degree=1)),\n",
       "                ('reg', LinearRegression(fit_intercept=False))])"
      ]
     },
     "execution_count": 62,
     "metadata": {},
     "output_type": "execute_result"
    }
   ],
   "source": [
    "model"
   ]
  },
  {
   "cell_type": "code",
   "execution_count": 63,
   "id": "018b6841-330a-4f13-9f88-d32ede08693a",
   "metadata": {
    "tags": []
   },
   "outputs": [],
   "source": [
    "# Perform and store cross validation\n",
    "crossvals['linear_regression'] = verdict.Dict( cross_validate(\n",
    "    estimator = model,\n",
    "    X = v_train,\n",
    "    y = y_train,\n",
    "    cv = kfold,\n",
    "    scoring = 'neg_root_mean_squared_error',\n",
    "    return_estimator = True,\n",
    ") )"
   ]
  },
  {
   "cell_type": "code",
   "execution_count": 64,
   "id": "24a3c5b4-f7f5-4684-af25-e4a16b7a261c",
   "metadata": {},
   "outputs": [],
   "source": [
    "import matplotlib\n",
    "import matplotlib.pyplot as plt"
   ]
  },
  {
   "cell_type": "code",
   "execution_count": 65,
   "id": "6f962603-019f-44ee-8c46-3a81509e501e",
   "metadata": {
    "tags": []
   },
   "outputs": [],
   "source": [
    "def rmse_swarmplot( crossval, y_lim=(sample_std-0.15, sample_std+0.15), ax=None ):    \n",
    "    '''I'll use this plot throughout for showing results.'''\n",
    "    \n",
    "    # Format data\n",
    "    df_data = -1. * verdict.Dict( crossvals ).inner_item( 'test_score' )\n",
    "    crossval_df = pd.DataFrame( df_data._storage ).melt( var_name='model', value_name='rmse' )\n",
    "    \n",
    "    # Visualize\n",
    "    if ax is None:\n",
    "        fig = plt.figure( figsize=(len(df_data)*1.5, 3) )\n",
    "        ax = plt.gca()\n",
    "    \n",
    "    # Plot itself\n",
    "    sns.swarmplot(\n",
    "        data = crossval_df,\n",
    "        x = 'model',\n",
    "        y = 'rmse',\n",
    "        hue = 'model',\n",
    "        ax = ax,\n",
    "        legend = None,\n",
    "    )\n",
    "    \n",
    "    # Mark the analytic baseline value for comparison\n",
    "    ax.axhline(\n",
    "        sample_std,\n",
    "        color = '0.5',\n",
    "        linestyle = '--',\n",
    "        linewidth = 0.75,\n",
    "    )\n",
    "\n",
    "    ax.set_xlabel( 'model' )\n",
    "    ax.set_ylabel( r'RMSE in $\\log_{10}$( citations / year )' )\n",
    "    \n",
    "    ax.set_ylim( y_lim )\n",
    "    \n",
    "    return ax.get_figure()"
   ]
  },
  {
   "cell_type": "code",
   "execution_count": 66,
   "id": "d8da86f9-4567-470c-82d4-7f915fa38bab",
   "metadata": {},
   "outputs": [
    {
     "data": {
      "image/png": "[encoded data removed]",
      "text/plain": [
       "<Figure size 300x300 with 1 Axes>"
      ]
     },
     "metadata": {},
     "output_type": "display_data"
    }
   ],
   "source": [
    "fig = rmse_swarmplot( crossvals, y_lim=(sample_std-0.5, sample_std+0.5) )"
   ]
  },
  {
   "cell_type": "markdown",
   "id": "048836fc-7e9e-4a25-957f-73cd2af12457",
   "metadata": {},
   "source": [
    "No surprise, this model doesn't perform particularly well."
   ]
  },
  {
   "cell_type": "markdown",
   "id": "dca66ed4-5cd4-4fa1-9e4d-15d713328348",
   "metadata": {},
   "source": [
    "## A Basic Phenomenological Model: Random Forest <a class=\"anchor\" id=\"random-forest\"></a>\n",
    "\n",
    "For a more-sophisticated phenomenological description of the data, I will try a random forest."
   ]
  },
  {
   "cell_type": "markdown",
   "id": "55e91cd6-199f-409d-a6b5-074200606151",
   "metadata": {},
   "source": [
    "[**Back to Page Top**](#page-top)"
   ]
  },
  {
   "cell_type": "code",
   "execution_count": 67,
   "id": "10e774b2-48df-4672-bfde-dbe39ebab0b7",
   "metadata": {},
   "outputs": [],
   "source": [
    "from sklearn.ensemble import RandomForestRegressor"
   ]
  },
  {
   "cell_type": "code",
   "execution_count": 68,
   "id": "7e85f76d-ac38-415b-b3f0-b3d72c64f534",
   "metadata": {},
   "outputs": [],
   "source": [
    "model = Pipeline(\n",
    "    [\n",
    "        ( 'preprocessing', vector_preprocessing ),\n",
    "        ( 'reg', RandomForestRegressor( max_depth=3, n_estimators=200 ) ),    ]\n",
    ")"
   ]
  },
  {
   "cell_type": "code",
   "execution_count": 69,
   "id": "819b7a39-6e64-46bb-818c-f1d93e3b905c",
   "metadata": {},
   "outputs": [
    {
     "data": {
      "text/html": [
       "<style>#sk-container-id-3 {color: black;background-color: white;}#sk-container-id-3 pre{padding: 0;}#sk-container-id-3 div.sk-toggleable {background-color: white;}#sk-container-id-3 label.sk-toggleable__label {cursor: pointer;display: block;width: 100%;margin-bottom: 0;padding: 0.3em;box-sizing: border-box;text-align: center;}#sk-container-id-3 label.sk-toggleable__label-arrow:before {content: \"▸\";float: left;margin-right: 0.25em;color: #696969;}#sk-container-id-3 label.sk-toggleable__label-arrow:hover:before {color: black;}#sk-container-id-3 div.sk-estimator:hover label.sk-toggleable__label-arrow:before {color: black;}#sk-container-id-3 div.sk-toggleable__content {max-height: 0;max-width: 0;overflow: hidden;text-align: left;background-color: #f0f8ff;}#sk-container-id-3 div.sk-toggleable__content pre {margin: 0.2em;color: black;border-radius: 0.25em;background-color: #f0f8ff;}#sk-container-id-3 input.sk-toggleable__control:checked~div.sk-toggleable__content {max-height: 200px;max-width: 100%;overflow: auto;}#sk-container-id-3 input.sk-toggleable__control:checked~label.sk-toggleable__label-arrow:before {content: \"▾\";}#sk-container-id-3 div.sk-estimator input.sk-toggleable__control:checked~label.sk-toggleable__label {background-color: #d4ebff;}#sk-container-id-3 div.sk-label input.sk-toggleable__control:checked~label.sk-toggleable__label {background-color: #d4ebff;}#sk-container-id-3 input.sk-hidden--visually {border: 0;clip: rect(1px 1px 1px 1px);clip: rect(1px, 1px, 1px, 1px);height: 1px;margin: -1px;overflow: hidden;padding: 0;position: absolute;width: 1px;}#sk-container-id-3 div.sk-estimator {font-family: monospace;background-color: #f0f8ff;border: 1px dotted black;border-radius: 0.25em;box-sizing: border-box;margin-bottom: 0.5em;}#sk-container-id-3 div.sk-estimator:hover {background-color: #d4ebff;}#sk-container-id-3 div.sk-parallel-item::after {content: \"\";width: 100%;border-bottom: 1px solid gray;flex-grow: 1;}#sk-container-id-3 div.sk-label:hover label.sk-toggleable__label {background-color: #d4ebff;}#sk-container-id-3 div.sk-serial::before {content: \"\";position: absolute;border-left: 1px solid gray;box-sizing: border-box;top: 0;bottom: 0;left: 50%;z-index: 0;}#sk-container-id-3 div.sk-serial {display: flex;flex-direction: column;align-items: center;background-color: white;padding-right: 0.2em;padding-left: 0.2em;position: relative;}#sk-container-id-3 div.sk-item {position: relative;z-index: 1;}#sk-container-id-3 div.sk-parallel {display: flex;align-items: stretch;justify-content: center;background-color: white;position: relative;}#sk-container-id-3 div.sk-item::before, #sk-container-id-3 div.sk-parallel-item::before {content: \"\";position: absolute;border-left: 1px solid gray;box-sizing: border-box;top: 0;bottom: 0;left: 50%;z-index: -1;}#sk-container-id-3 div.sk-parallel-item {display: flex;flex-direction: column;z-index: 1;position: relative;background-color: white;}#sk-container-id-3 div.sk-parallel-item:first-child::after {align-self: flex-end;width: 50%;}#sk-container-id-3 div.sk-parallel-item:last-child::after {align-self: flex-start;width: 50%;}#sk-container-id-3 div.sk-parallel-item:only-child::after {width: 0;}#sk-container-id-3 div.sk-dashed-wrapped {border: 1px dashed gray;margin: 0 0.4em 0.5em 0.4em;box-sizing: border-box;padding-bottom: 0.4em;background-color: white;}#sk-container-id-3 div.sk-label label {font-family: monospace;font-weight: bold;display: inline-block;line-height: 1.2em;}#sk-container-id-3 div.sk-label-container {text-align: center;}#sk-container-id-3 div.sk-container {/* jupyter's `normalize.less` sets `[hidden] { display: none; }` but bootstrap.min.css set `[hidden] { display: none !important; }` so we also need the `!important` here to be able to override the default hidden behavior on the sphinx rendered scikit-learn.org. See: https://github.com/scikit-learn/scikit-learn/issues/21755 */display: inline-block !important;position: relative;}#sk-container-id-3 div.sk-text-repr-fallback {display: none;}</style><div id=\"sk-container-id-3\" class=\"sk-top-container\"><div class=\"sk-text-repr-fallback\"><pre>Pipeline(steps=[(&#x27;preprocessing&#x27;, Pipeline(steps=[(&#x27;scale&#x27;, Normalizer())])),\n",
       "                (&#x27;reg&#x27;, RandomForestRegressor(max_depth=3, n_estimators=200))])</pre><b>In a Jupyter environment, please rerun this cell to show the HTML representation or trust the notebook. <br />On GitHub, the HTML representation is unable to render, please try loading this page with nbviewer.org.</b></div><div class=\"sk-container\" hidden><div class=\"sk-item sk-dashed-wrapped\"><div class=\"sk-label-container\"><div class=\"sk-label sk-toggleable\"><input class=\"sk-toggleable__control sk-hidden--visually\" id=\"sk-estimator-id-7\" type=\"checkbox\" ><label for=\"sk-estimator-id-7\" class=\"sk-toggleable__label sk-toggleable__label-arrow\">Pipeline</label><div class=\"sk-toggleable__content\"><pre>Pipeline(steps=[(&#x27;preprocessing&#x27;, Pipeline(steps=[(&#x27;scale&#x27;, Normalizer())])),\n",
       "                (&#x27;reg&#x27;, RandomForestRegressor(max_depth=3, n_estimators=200))])</pre></div></div></div><div class=\"sk-serial\"><div class=\"sk-item\"><div class=\"sk-label-container\"><div class=\"sk-label sk-toggleable\"><input class=\"sk-toggleable__control sk-hidden--visually\" id=\"sk-estimator-id-8\" type=\"checkbox\" ><label for=\"sk-estimator-id-8\" class=\"sk-toggleable__label sk-toggleable__label-arrow\">preprocessing: Pipeline</label><div class=\"sk-toggleable__content\"><pre>Pipeline(steps=[(&#x27;scale&#x27;, Normalizer())])</pre></div></div></div><div class=\"sk-serial\"><div class=\"sk-item\"><div class=\"sk-estimator sk-toggleable\"><input class=\"sk-toggleable__control sk-hidden--visually\" id=\"sk-estimator-id-9\" type=\"checkbox\" ><label for=\"sk-estimator-id-9\" class=\"sk-toggleable__label sk-toggleable__label-arrow\">Normalizer</label><div class=\"sk-toggleable__content\"><pre>Normalizer()</pre></div></div></div></div></div><div class=\"sk-item\"><div class=\"sk-estimator sk-toggleable\"><input class=\"sk-toggleable__control sk-hidden--visually\" id=\"sk-estimator-id-10\" type=\"checkbox\" ><label for=\"sk-estimator-id-10\" class=\"sk-toggleable__label sk-toggleable__label-arrow\">RandomForestRegressor</label><div class=\"sk-toggleable__content\"><pre>RandomForestRegressor(max_depth=3, n_estimators=200)</pre></div></div></div></div></div></div></div>"
      ],
      "text/plain": [
       "Pipeline(steps=[('preprocessing', Pipeline(steps=[('scale', Normalizer())])),\n",
       "                ('reg', RandomForestRegressor(max_depth=3, n_estimators=200))])"
      ]
     },
     "execution_count": 69,
     "metadata": {},
     "output_type": "execute_result"
    }
   ],
   "source": [
    "model"
   ]
  },
  {
   "cell_type": "code",
   "execution_count": 70,
   "id": "290632bf-1343-418b-a3c0-715e78643725",
   "metadata": {
    "tags": []
   },
   "outputs": [],
   "source": [
    "# Perform and store cross validation\n",
    "crossvals['random_forest'] = verdict.Dict( cross_validate(\n",
    "    estimator = model,\n",
    "    X = v_train,\n",
    "    y = y_train,\n",
    "    cv = kfold,\n",
    "    scoring = 'neg_root_mean_squared_error',\n",
    "    return_estimator = True,\n",
    ") )"
   ]
  },
  {
   "cell_type": "code",
   "execution_count": 71,
   "id": "e3a6dd49-4cb3-40f1-b6d8-641b8030dd90",
   "metadata": {},
   "outputs": [
    {
     "data": {
      "image/png": "[encoded data removed]",
      "text/plain": [
       "<Figure size 450x300 with 1 Axes>"
      ]
     },
     "metadata": {},
     "output_type": "display_data"
    }
   ],
   "source": [
    "fig = rmse_swarmplot( crossvals, y_lim=(sample_std-0.5, sample_std+0.5) )"
   ]
  },
  {
   "cell_type": "markdown",
   "id": "ae55d9ac-cab0-4344-bee6-7c5e78279c1b",
   "metadata": {},
   "source": [
    "Better performance than the baseline, at least!"
   ]
  },
  {
   "cell_type": "markdown",
   "id": "360ca93e-5e47-4cb9-a5cc-ba73bfa91454",
   "metadata": {},
   "source": [
    "## A Better Phenomoenological Model: Gradient Boosting <a class=\"anchor\" id=\"grad-boosting\"></a>\n",
    "\n",
    "Since the random forest model went okay, how about a gradient boosting model with decision trees as the base?"
   ]
  },
  {
   "cell_type": "markdown",
   "id": "28f084bd-31dd-4a1f-b070-e9719e40e8fa",
   "metadata": {},
   "source": [
    "[**Back to Page Top**](#page-top)"
   ]
  },
  {
   "cell_type": "code",
   "execution_count": 72,
   "id": "25044341-7b2b-4211-a028-d8422cf1dee6",
   "metadata": {},
   "outputs": [],
   "source": [
    "from sklearn.ensemble import GradientBoostingRegressor"
   ]
  },
  {
   "cell_type": "code",
   "execution_count": 73,
   "id": "467cfeec-73e9-4aad-a608-b175de00ac3d",
   "metadata": {},
   "outputs": [],
   "source": [
    "model = Pipeline(\n",
    "    [\n",
    "        ( 'preprocessing', vector_preprocessing ),\n",
    "        ( 'reg', GradientBoostingRegressor() ),\n",
    "    ]\n",
    ")"
   ]
  },
  {
   "cell_type": "code",
   "execution_count": 74,
   "id": "e512de59-a420-4964-9193-1954a8b93c14",
   "metadata": {},
   "outputs": [
    {
     "data": {
      "text/html": [
       "<style>#sk-container-id-4 {color: black;background-color: white;}#sk-container-id-4 pre{padding: 0;}#sk-container-id-4 div.sk-toggleable {background-color: white;}#sk-container-id-4 label.sk-toggleable__label {cursor: pointer;display: block;width: 100%;margin-bottom: 0;padding: 0.3em;box-sizing: border-box;text-align: center;}#sk-container-id-4 label.sk-toggleable__label-arrow:before {content: \"▸\";float: left;margin-right: 0.25em;color: #696969;}#sk-container-id-4 label.sk-toggleable__label-arrow:hover:before {color: black;}#sk-container-id-4 div.sk-estimator:hover label.sk-toggleable__label-arrow:before {color: black;}#sk-container-id-4 div.sk-toggleable__content {max-height: 0;max-width: 0;overflow: hidden;text-align: left;background-color: #f0f8ff;}#sk-container-id-4 div.sk-toggleable__content pre {margin: 0.2em;color: black;border-radius: 0.25em;background-color: #f0f8ff;}#sk-container-id-4 input.sk-toggleable__control:checked~div.sk-toggleable__content {max-height: 200px;max-width: 100%;overflow: auto;}#sk-container-id-4 input.sk-toggleable__control:checked~label.sk-toggleable__label-arrow:before {content: \"▾\";}#sk-container-id-4 div.sk-estimator input.sk-toggleable__control:checked~label.sk-toggleable__label {background-color: #d4ebff;}#sk-container-id-4 div.sk-label input.sk-toggleable__control:checked~label.sk-toggleable__label {background-color: #d4ebff;}#sk-container-id-4 input.sk-hidden--visually {border: 0;clip: rect(1px 1px 1px 1px);clip: rect(1px, 1px, 1px, 1px);height: 1px;margin: -1px;overflow: hidden;padding: 0;position: absolute;width: 1px;}#sk-container-id-4 div.sk-estimator {font-family: monospace;background-color: #f0f8ff;border: 1px dotted black;border-radius: 0.25em;box-sizing: border-box;margin-bottom: 0.5em;}#sk-container-id-4 div.sk-estimator:hover {background-color: #d4ebff;}#sk-container-id-4 div.sk-parallel-item::after {content: \"\";width: 100%;border-bottom: 1px solid gray;flex-grow: 1;}#sk-container-id-4 div.sk-label:hover label.sk-toggleable__label {background-color: #d4ebff;}#sk-container-id-4 div.sk-serial::before {content: \"\";position: absolute;border-left: 1px solid gray;box-sizing: border-box;top: 0;bottom: 0;left: 50%;z-index: 0;}#sk-container-id-4 div.sk-serial {display: flex;flex-direction: column;align-items: center;background-color: white;padding-right: 0.2em;padding-left: 0.2em;position: relative;}#sk-container-id-4 div.sk-item {position: relative;z-index: 1;}#sk-container-id-4 div.sk-parallel {display: flex;align-items: stretch;justify-content: center;background-color: white;position: relative;}#sk-container-id-4 div.sk-item::before, #sk-container-id-4 div.sk-parallel-item::before {content: \"\";position: absolute;border-left: 1px solid gray;box-sizing: border-box;top: 0;bottom: 0;left: 50%;z-index: -1;}#sk-container-id-4 div.sk-parallel-item {display: flex;flex-direction: column;z-index: 1;position: relative;background-color: white;}#sk-container-id-4 div.sk-parallel-item:first-child::after {align-self: flex-end;width: 50%;}#sk-container-id-4 div.sk-parallel-item:last-child::after {align-self: flex-start;width: 50%;}#sk-container-id-4 div.sk-parallel-item:only-child::after {width: 0;}#sk-container-id-4 div.sk-dashed-wrapped {border: 1px dashed gray;margin: 0 0.4em 0.5em 0.4em;box-sizing: border-box;padding-bottom: 0.4em;background-color: white;}#sk-container-id-4 div.sk-label label {font-family: monospace;font-weight: bold;display: inline-block;line-height: 1.2em;}#sk-container-id-4 div.sk-label-container {text-align: center;}#sk-container-id-4 div.sk-container {/* jupyter's `normalize.less` sets `[hidden] { display: none; }` but bootstrap.min.css set `[hidden] { display: none !important; }` so we also need the `!important` here to be able to override the default hidden behavior on the sphinx rendered scikit-learn.org. See: https://github.com/scikit-learn/scikit-learn/issues/21755 */display: inline-block !important;position: relative;}#sk-container-id-4 div.sk-text-repr-fallback {display: none;}</style><div id=\"sk-container-id-4\" class=\"sk-top-container\"><div class=\"sk-text-repr-fallback\"><pre>Pipeline(steps=[(&#x27;preprocessing&#x27;, Pipeline(steps=[(&#x27;scale&#x27;, Normalizer())])),\n",
       "                (&#x27;reg&#x27;, GradientBoostingRegressor())])</pre><b>In a Jupyter environment, please rerun this cell to show the HTML representation or trust the notebook. <br />On GitHub, the HTML representation is unable to render, please try loading this page with nbviewer.org.</b></div><div class=\"sk-container\" hidden><div class=\"sk-item sk-dashed-wrapped\"><div class=\"sk-label-container\"><div class=\"sk-label sk-toggleable\"><input class=\"sk-toggleable__control sk-hidden--visually\" id=\"sk-estimator-id-11\" type=\"checkbox\" ><label for=\"sk-estimator-id-11\" class=\"sk-toggleable__label sk-toggleable__label-arrow\">Pipeline</label><div class=\"sk-toggleable__content\"><pre>Pipeline(steps=[(&#x27;preprocessing&#x27;, Pipeline(steps=[(&#x27;scale&#x27;, Normalizer())])),\n",
       "                (&#x27;reg&#x27;, GradientBoostingRegressor())])</pre></div></div></div><div class=\"sk-serial\"><div class=\"sk-item\"><div class=\"sk-label-container\"><div class=\"sk-label sk-toggleable\"><input class=\"sk-toggleable__control sk-hidden--visually\" id=\"sk-estimator-id-12\" type=\"checkbox\" ><label for=\"sk-estimator-id-12\" class=\"sk-toggleable__label sk-toggleable__label-arrow\">preprocessing: Pipeline</label><div class=\"sk-toggleable__content\"><pre>Pipeline(steps=[(&#x27;scale&#x27;, Normalizer())])</pre></div></div></div><div class=\"sk-serial\"><div class=\"sk-item\"><div class=\"sk-estimator sk-toggleable\"><input class=\"sk-toggleable__control sk-hidden--visually\" id=\"sk-estimator-id-13\" type=\"checkbox\" ><label for=\"sk-estimator-id-13\" class=\"sk-toggleable__label sk-toggleable__label-arrow\">Normalizer</label><div class=\"sk-toggleable__content\"><pre>Normalizer()</pre></div></div></div></div></div><div class=\"sk-item\"><div class=\"sk-estimator sk-toggleable\"><input class=\"sk-toggleable__control sk-hidden--visually\" id=\"sk-estimator-id-14\" type=\"checkbox\" ><label for=\"sk-estimator-id-14\" class=\"sk-toggleable__label sk-toggleable__label-arrow\">GradientBoostingRegressor</label><div class=\"sk-toggleable__content\"><pre>GradientBoostingRegressor()</pre></div></div></div></div></div></div></div>"
      ],
      "text/plain": [
       "Pipeline(steps=[('preprocessing', Pipeline(steps=[('scale', Normalizer())])),\n",
       "                ('reg', GradientBoostingRegressor())])"
      ]
     },
     "execution_count": 74,
     "metadata": {},
     "output_type": "execute_result"
    }
   ],
   "source": [
    "model"
   ]
  },
  {
   "cell_type": "code",
   "execution_count": 75,
   "id": "21439189-049c-44f2-b0eb-1dda032a96fc",
   "metadata": {
    "tags": []
   },
   "outputs": [],
   "source": [
    "# Perform and store cross validation\n",
    "crossvals['grad_boost'] = verdict.Dict( cross_validate(\n",
    "    estimator = model,\n",
    "    X = v_train,\n",
    "    y = y_train,\n",
    "    cv = kfold,\n",
    "    scoring = 'neg_root_mean_squared_error',\n",
    "    return_estimator = True,\n",
    ") )"
   ]
  },
  {
   "cell_type": "code",
   "execution_count": 76,
   "id": "c7bb7329-8fe7-4d2b-ae2e-eed6d10c5768",
   "metadata": {},
   "outputs": [],
   "source": [
    "# Let's go ahead and drop the linear regression model so it's not distracting us.\n",
    "del crossvals['linear_regression']"
   ]
  },
  {
   "cell_type": "code",
   "execution_count": 77,
   "id": "2bc4f80b-5986-4e34-9abb-d94f11e69460",
   "metadata": {},
   "outputs": [
    {
     "data": {
      "image/png": "[encoded data removed]",
      "text/plain": [
       "<Figure size 450x300 with 1 Axes>"
      ]
     },
     "metadata": {},
     "output_type": "display_data"
    }
   ],
   "source": [
    "fig = rmse_swarmplot( crossvals, y_lim=(sample_std-0.2, sample_std+0.2) )"
   ]
  },
  {
   "cell_type": "code",
   "execution_count": 78,
   "id": "506c9cc9-0c3f-40d1-8505-255db94b230d",
   "metadata": {},
   "outputs": [
    {
     "name": "stdout",
     "output_type": "stream",
     "text": [
      "We can predict the number of citations to within a factor of ~3.7 on average.\n"
     ]
    }
   ],
   "source": [
    "print( 'We can predict the number of citations to within a factor of ~{:.2g} on average.'.format( 10.**-crossvals['grad_boost']['test_score'].mean() ) )"
   ]
  },
  {
   "cell_type": "markdown",
   "id": "444be596-35c4-4d83-820d-3a2d87ce9aa8",
   "metadata": {},
   "source": [
    "There is still a significant amount of error in the prediction: a factor of a few in predicting the number of citations per year. This is perhaps to be expected: it would be surprising if the main thing driving citation trends could be predicted simply via the words used, with no information about how those words relate to one another (e.g. I'm not even using an N-gram language model)."
   ]
  },
  {
   "cell_type": "markdown",
   "id": "763545d3-562b-473c-bbe9-c6fd4d3aadcb",
   "metadata": {},
   "source": [
    "## An Informed Model: K Nearest Neighbors <a class=\"anchor\" id=\"KNN\"></a>\n",
    "\n",
    "So far I have been treating the word vectors as generic data. To further improve the modelling, and add some explanatory power, I will make use of our knowledge about what the vectors _are_: the language used in a scientific abstract.\n",
    "\n",
    "Here's a simple hypothesis:\n",
    "The number of citations a paper receives correlates with the number of citations papers on similar topics (i.e. using similar words) receive. Fortunately this is a simple, well-defined model: the K Nearest Neighbors model."
   ]
  },
  {
   "cell_type": "markdown",
   "id": "6b6b72c1-9aef-4136-87d2-929701e7dab0",
   "metadata": {},
   "source": [
    "[**Back to Page Top**](#page-top)"
   ]
  },
  {
   "cell_type": "code",
   "execution_count": 79,
   "id": "12e84a18-20f0-4d98-9cfb-841048bc3e4e",
   "metadata": {},
   "outputs": [],
   "source": [
    "from sklearn.neighbors import KNeighborsRegressor\n",
    "from sklearn.model_selection import GridSearchCV"
   ]
  },
  {
   "cell_type": "code",
   "execution_count": 80,
   "id": "5c236015-4fab-450f-ab19-b825c633253e",
   "metadata": {},
   "outputs": [],
   "source": [
    "model = Pipeline(\n",
    "    [\n",
    "        ( 'preprocessing', vector_preprocessing ),\n",
    "        ( 'knn', KNeighborsRegressor( n_neighbors=32 ) ),\n",
    "    ]\n",
    ")"
   ]
  },
  {
   "cell_type": "code",
   "execution_count": 81,
   "id": "b820adad-36f2-40aa-8454-6034df973f7c",
   "metadata": {},
   "outputs": [
    {
     "data": {
      "text/html": [
       "<style>#sk-container-id-5 {color: black;background-color: white;}#sk-container-id-5 pre{padding: 0;}#sk-container-id-5 div.sk-toggleable {background-color: white;}#sk-container-id-5 label.sk-toggleable__label {cursor: pointer;display: block;width: 100%;margin-bottom: 0;padding: 0.3em;box-sizing: border-box;text-align: center;}#sk-container-id-5 label.sk-toggleable__label-arrow:before {content: \"▸\";float: left;margin-right: 0.25em;color: #696969;}#sk-container-id-5 label.sk-toggleable__label-arrow:hover:before {color: black;}#sk-container-id-5 div.sk-estimator:hover label.sk-toggleable__label-arrow:before {color: black;}#sk-container-id-5 div.sk-toggleable__content {max-height: 0;max-width: 0;overflow: hidden;text-align: left;background-color: #f0f8ff;}#sk-container-id-5 div.sk-toggleable__content pre {margin: 0.2em;color: black;border-radius: 0.25em;background-color: #f0f8ff;}#sk-container-id-5 input.sk-toggleable__control:checked~div.sk-toggleable__content {max-height: 200px;max-width: 100%;overflow: auto;}#sk-container-id-5 input.sk-toggleable__control:checked~label.sk-toggleable__label-arrow:before {content: \"▾\";}#sk-container-id-5 div.sk-estimator input.sk-toggleable__control:checked~label.sk-toggleable__label {background-color: #d4ebff;}#sk-container-id-5 div.sk-label input.sk-toggleable__control:checked~label.sk-toggleable__label {background-color: #d4ebff;}#sk-container-id-5 input.sk-hidden--visually {border: 0;clip: rect(1px 1px 1px 1px);clip: rect(1px, 1px, 1px, 1px);height: 1px;margin: -1px;overflow: hidden;padding: 0;position: absolute;width: 1px;}#sk-container-id-5 div.sk-estimator {font-family: monospace;background-color: #f0f8ff;border: 1px dotted black;border-radius: 0.25em;box-sizing: border-box;margin-bottom: 0.5em;}#sk-container-id-5 div.sk-estimator:hover {background-color: #d4ebff;}#sk-container-id-5 div.sk-parallel-item::after {content: \"\";width: 100%;border-bottom: 1px solid gray;flex-grow: 1;}#sk-container-id-5 div.sk-label:hover label.sk-toggleable__label {background-color: #d4ebff;}#sk-container-id-5 div.sk-serial::before {content: \"\";position: absolute;border-left: 1px solid gray;box-sizing: border-box;top: 0;bottom: 0;left: 50%;z-index: 0;}#sk-container-id-5 div.sk-serial {display: flex;flex-direction: column;align-items: center;background-color: white;padding-right: 0.2em;padding-left: 0.2em;position: relative;}#sk-container-id-5 div.sk-item {position: relative;z-index: 1;}#sk-container-id-5 div.sk-parallel {display: flex;align-items: stretch;justify-content: center;background-color: white;position: relative;}#sk-container-id-5 div.sk-item::before, #sk-container-id-5 div.sk-parallel-item::before {content: \"\";position: absolute;border-left: 1px solid gray;box-sizing: border-box;top: 0;bottom: 0;left: 50%;z-index: -1;}#sk-container-id-5 div.sk-parallel-item {display: flex;flex-direction: column;z-index: 1;position: relative;background-color: white;}#sk-container-id-5 div.sk-parallel-item:first-child::after {align-self: flex-end;width: 50%;}#sk-container-id-5 div.sk-parallel-item:last-child::after {align-self: flex-start;width: 50%;}#sk-container-id-5 div.sk-parallel-item:only-child::after {width: 0;}#sk-container-id-5 div.sk-dashed-wrapped {border: 1px dashed gray;margin: 0 0.4em 0.5em 0.4em;box-sizing: border-box;padding-bottom: 0.4em;background-color: white;}#sk-container-id-5 div.sk-label label {font-family: monospace;font-weight: bold;display: inline-block;line-height: 1.2em;}#sk-container-id-5 div.sk-label-container {text-align: center;}#sk-container-id-5 div.sk-container {/* jupyter's `normalize.less` sets `[hidden] { display: none; }` but bootstrap.min.css set `[hidden] { display: none !important; }` so we also need the `!important` here to be able to override the default hidden behavior on the sphinx rendered scikit-learn.org. See: https://github.com/scikit-learn/scikit-learn/issues/21755 */display: inline-block !important;position: relative;}#sk-container-id-5 div.sk-text-repr-fallback {display: none;}</style><div id=\"sk-container-id-5\" class=\"sk-top-container\"><div class=\"sk-text-repr-fallback\"><pre>Pipeline(steps=[(&#x27;preprocessing&#x27;, Pipeline(steps=[(&#x27;scale&#x27;, Normalizer())])),\n",
       "                (&#x27;knn&#x27;, KNeighborsRegressor(n_neighbors=32))])</pre><b>In a Jupyter environment, please rerun this cell to show the HTML representation or trust the notebook. <br />On GitHub, the HTML representation is unable to render, please try loading this page with nbviewer.org.</b></div><div class=\"sk-container\" hidden><div class=\"sk-item sk-dashed-wrapped\"><div class=\"sk-label-container\"><div class=\"sk-label sk-toggleable\"><input class=\"sk-toggleable__control sk-hidden--visually\" id=\"sk-estimator-id-15\" type=\"checkbox\" ><label for=\"sk-estimator-id-15\" class=\"sk-toggleable__label sk-toggleable__label-arrow\">Pipeline</label><div class=\"sk-toggleable__content\"><pre>Pipeline(steps=[(&#x27;preprocessing&#x27;, Pipeline(steps=[(&#x27;scale&#x27;, Normalizer())])),\n",
       "                (&#x27;knn&#x27;, KNeighborsRegressor(n_neighbors=32))])</pre></div></div></div><div class=\"sk-serial\"><div class=\"sk-item\"><div class=\"sk-label-container\"><div class=\"sk-label sk-toggleable\"><input class=\"sk-toggleable__control sk-hidden--visually\" id=\"sk-estimator-id-16\" type=\"checkbox\" ><label for=\"sk-estimator-id-16\" class=\"sk-toggleable__label sk-toggleable__label-arrow\">preprocessing: Pipeline</label><div class=\"sk-toggleable__content\"><pre>Pipeline(steps=[(&#x27;scale&#x27;, Normalizer())])</pre></div></div></div><div class=\"sk-serial\"><div class=\"sk-item\"><div class=\"sk-estimator sk-toggleable\"><input class=\"sk-toggleable__control sk-hidden--visually\" id=\"sk-estimator-id-17\" type=\"checkbox\" ><label for=\"sk-estimator-id-17\" class=\"sk-toggleable__label sk-toggleable__label-arrow\">Normalizer</label><div class=\"sk-toggleable__content\"><pre>Normalizer()</pre></div></div></div></div></div><div class=\"sk-item\"><div class=\"sk-estimator sk-toggleable\"><input class=\"sk-toggleable__control sk-hidden--visually\" id=\"sk-estimator-id-18\" type=\"checkbox\" ><label for=\"sk-estimator-id-18\" class=\"sk-toggleable__label sk-toggleable__label-arrow\">KNeighborsRegressor</label><div class=\"sk-toggleable__content\"><pre>KNeighborsRegressor(n_neighbors=32)</pre></div></div></div></div></div></div></div>"
      ],
      "text/plain": [
       "Pipeline(steps=[('preprocessing', Pipeline(steps=[('scale', Normalizer())])),\n",
       "                ('knn', KNeighborsRegressor(n_neighbors=32))])"
      ]
     },
     "execution_count": 81,
     "metadata": {},
     "output_type": "execute_result"
    }
   ],
   "source": [
    "model"
   ]
  },
  {
   "cell_type": "code",
   "execution_count": 82,
   "id": "3474bd37-6856-4e70-8a56-4ff8e8d24ba0",
   "metadata": {},
   "outputs": [
    {
     "data": {
      "text/plain": [
       "{'knn__n_neighbors': 16}"
      ]
     },
     "execution_count": 82,
     "metadata": {},
     "output_type": "execute_result"
    }
   ],
   "source": [
    "# Perform a parameter search for the number of neighbors to use\n",
    "param_grid = {\n",
    "    'knn__n_neighbors': [ 4, 16, 32, 64, 128, 256, ],\n",
    "}\n",
    "search = GridSearchCV( model, param_grid, )\n",
    "search.fit( v_train, df_train['log_citations_per_year'] )\n",
    "model = search.best_estimator_\n",
    "search.best_params_"
   ]
  },
  {
   "cell_type": "code",
   "execution_count": 83,
   "id": "0cac82a6-a3f5-47e2-88d5-67dfefde21b5",
   "metadata": {
    "tags": []
   },
   "outputs": [],
   "source": [
    "# Perform and store cross validation\n",
    "crossvals['KNN'] = verdict.Dict( cross_validate(\n",
    "    estimator = model,\n",
    "    X = v_train,\n",
    "    y = y_train,\n",
    "    cv = kfold,\n",
    "    scoring = 'neg_root_mean_squared_error',\n",
    "    return_estimator = True,\n",
    ") )"
   ]
  },
  {
   "cell_type": "code",
   "execution_count": 84,
   "id": "3f5f9382-dce9-4c97-aca7-bd4fe53b3b2e",
   "metadata": {},
   "outputs": [
    {
     "data": {
      "image/png": "[encoded data removed]",
      "text/plain": [
       "<Figure size 600x300 with 1 Axes>"
      ]
     },
     "metadata": {},
     "output_type": "display_data"
    }
   ],
   "source": [
    "fig = rmse_swarmplot( crossvals )"
   ]
  },
  {
   "cell_type": "markdown",
   "id": "689c7487-61be-44f8-b1f9-3b6d68687eda",
   "metadata": {},
   "source": [
    "KNN does comparably well to gradient boosting, but is much more interpretable!"
   ]
  },
  {
   "cell_type": "markdown",
   "id": "e5d92b58-11ef-49c5-b5ee-855a187e8892",
   "metadata": {},
   "source": [
    "## Another Informed Model: Density and Asymmetry <a class=\"anchor\" id=\"explanatory\"></a>\n",
    "\n",
    "Related to K Nearest Neighbors, we can ask if the local geometry of the hyperspace is related to citations received. In particular, I will use two metrics I have previously calculated and will be presenting in an upcoming paper (Imel & Hafen in prep):\n",
    "\n",
    "density, which tracks the number of similar papers,\n",
    "$${\\rm density} = \\frac{K}{{\\rm distance\\,to\\,the\\,farthest\\,neighbor}}$$\n",
    "\n",
    "and asymmetry, which tracks if a paper uses language in a new direction relative to existing similar papers.\n",
    "$${\\rm fringe\\,factor} = \\frac1K \\sum_{i=1}^{K} \\frac{\\vec v - \\vec v_i}{|\\vec v - \\vec v_i|} $$\n",
    "The asymmetry metric is inspired by force balance.\n",
    "\n",
    "These metrics consist of only two quantities most of the meaningful modeling is in the calculation of these two quantities, so I'll fit a simple linear regression."
   ]
  },
  {
   "cell_type": "markdown",
   "id": "415b04b5-4d4d-41be-ab55-931fd8667e75",
   "metadata": {},
   "source": [
    "[**Back to Page Top**](#page-top)"
   ]
  },
  {
   "cell_type": "code",
   "execution_count": 85,
   "id": "2304a0d6-d7dc-46b6-8da4-4b27007172bc",
   "metadata": {},
   "outputs": [
    {
     "data": {
      "text/plain": [
       "<AxesSubplot: xlabel='density', ylabel='Count'>"
      ]
     },
     "execution_count": 85,
     "metadata": {},
     "output_type": "execute_result"
    },
    {
     "data": {
      "image/png": "[encoded data removed]",
      "text/plain": [
       "<Figure size 640x480 with 1 Axes>"
      ]
     },
     "metadata": {},
     "output_type": "display_data"
    }
   ],
   "source": [
    "sns.histplot(\n",
    "    df_train,\n",
    "    x = 'density',\n",
    ")"
   ]
  },
  {
   "cell_type": "code",
   "execution_count": 86,
   "id": "d36dc601-e348-49d0-af8c-3ac2045a6ae3",
   "metadata": {},
   "outputs": [
    {
     "data": {
      "text/plain": [
       "<AxesSubplot: xlabel='asymmetry', ylabel='Count'>"
      ]
     },
     "execution_count": 86,
     "metadata": {},
     "output_type": "execute_result"
    },
    {
     "data": {
      "image/png": "[encoded data removed]",
      "text/plain": [
       "<Figure size 640x480 with 1 Axes>"
      ]
     },
     "metadata": {},
     "output_type": "display_data"
    }
   ],
   "source": [
    "sns.histplot(\n",
    "    df_train,\n",
    "    x = 'asymmetry',\n",
    ")"
   ]
  },
  {
   "cell_type": "code",
   "execution_count": 87,
   "id": "0fcb8d65-29d7-4e46-98d1-31e17d045dd9",
   "metadata": {},
   "outputs": [],
   "source": [
    "semantic_model = Pipeline(\n",
    "    [\n",
    "        ( 'preprocessing', semantic_preprocessing ),\n",
    "        ( 'poly', PolynomialFeatures( degree=1 ) ),\n",
    "        ( 'reg', LinearRegression( fit_intercept=False ) ),\n",
    "    ]\n",
    ")"
   ]
  },
  {
   "cell_type": "code",
   "execution_count": 88,
   "id": "1367a422-817f-4a0d-acbe-449b46dc43c6",
   "metadata": {},
   "outputs": [
    {
     "data": {
      "text/html": [
       "<style>#sk-container-id-6 {color: black;background-color: white;}#sk-container-id-6 pre{padding: 0;}#sk-container-id-6 div.sk-toggleable {background-color: white;}#sk-container-id-6 label.sk-toggleable__label {cursor: pointer;display: block;width: 100%;margin-bottom: 0;padding: 0.3em;box-sizing: border-box;text-align: center;}#sk-container-id-6 label.sk-toggleable__label-arrow:before {content: \"▸\";float: left;margin-right: 0.25em;color: #696969;}#sk-container-id-6 label.sk-toggleable__label-arrow:hover:before {color: black;}#sk-container-id-6 div.sk-estimator:hover label.sk-toggleable__label-arrow:before {color: black;}#sk-container-id-6 div.sk-toggleable__content {max-height: 0;max-width: 0;overflow: hidden;text-align: left;background-color: #f0f8ff;}#sk-container-id-6 div.sk-toggleable__content pre {margin: 0.2em;color: black;border-radius: 0.25em;background-color: #f0f8ff;}#sk-container-id-6 input.sk-toggleable__control:checked~div.sk-toggleable__content {max-height: 200px;max-width: 100%;overflow: auto;}#sk-container-id-6 input.sk-toggleable__control:checked~label.sk-toggleable__label-arrow:before {content: \"▾\";}#sk-container-id-6 div.sk-estimator input.sk-toggleable__control:checked~label.sk-toggleable__label {background-color: #d4ebff;}#sk-container-id-6 div.sk-label input.sk-toggleable__control:checked~label.sk-toggleable__label {background-color: #d4ebff;}#sk-container-id-6 input.sk-hidden--visually {border: 0;clip: rect(1px 1px 1px 1px);clip: rect(1px, 1px, 1px, 1px);height: 1px;margin: -1px;overflow: hidden;padding: 0;position: absolute;width: 1px;}#sk-container-id-6 div.sk-estimator {font-family: monospace;background-color: #f0f8ff;border: 1px dotted black;border-radius: 0.25em;box-sizing: border-box;margin-bottom: 0.5em;}#sk-container-id-6 div.sk-estimator:hover {background-color: #d4ebff;}#sk-container-id-6 div.sk-parallel-item::after {content: \"\";width: 100%;border-bottom: 1px solid gray;flex-grow: 1;}#sk-container-id-6 div.sk-label:hover label.sk-toggleable__label {background-color: #d4ebff;}#sk-container-id-6 div.sk-serial::before {content: \"\";position: absolute;border-left: 1px solid gray;box-sizing: border-box;top: 0;bottom: 0;left: 50%;z-index: 0;}#sk-container-id-6 div.sk-serial {display: flex;flex-direction: column;align-items: center;background-color: white;padding-right: 0.2em;padding-left: 0.2em;position: relative;}#sk-container-id-6 div.sk-item {position: relative;z-index: 1;}#sk-container-id-6 div.sk-parallel {display: flex;align-items: stretch;justify-content: center;background-color: white;position: relative;}#sk-container-id-6 div.sk-item::before, #sk-container-id-6 div.sk-parallel-item::before {content: \"\";position: absolute;border-left: 1px solid gray;box-sizing: border-box;top: 0;bottom: 0;left: 50%;z-index: -1;}#sk-container-id-6 div.sk-parallel-item {display: flex;flex-direction: column;z-index: 1;position: relative;background-color: white;}#sk-container-id-6 div.sk-parallel-item:first-child::after {align-self: flex-end;width: 50%;}#sk-container-id-6 div.sk-parallel-item:last-child::after {align-self: flex-start;width: 50%;}#sk-container-id-6 div.sk-parallel-item:only-child::after {width: 0;}#sk-container-id-6 div.sk-dashed-wrapped {border: 1px dashed gray;margin: 0 0.4em 0.5em 0.4em;box-sizing: border-box;padding-bottom: 0.4em;background-color: white;}#sk-container-id-6 div.sk-label label {font-family: monospace;font-weight: bold;display: inline-block;line-height: 1.2em;}#sk-container-id-6 div.sk-label-container {text-align: center;}#sk-container-id-6 div.sk-container {/* jupyter's `normalize.less` sets `[hidden] { display: none; }` but bootstrap.min.css set `[hidden] { display: none !important; }` so we also need the `!important` here to be able to override the default hidden behavior on the sphinx rendered scikit-learn.org. See: https://github.com/scikit-learn/scikit-learn/issues/21755 */display: inline-block !important;position: relative;}#sk-container-id-6 div.sk-text-repr-fallback {display: none;}</style><div id=\"sk-container-id-6\" class=\"sk-top-container\"><div class=\"sk-text-repr-fallback\"><pre>Pipeline(steps=[(&#x27;preprocessing&#x27;,\n",
       "                 Pipeline(steps=[(&#x27;scale&#x27;, StandardScaler())])),\n",
       "                (&#x27;poly&#x27;, PolynomialFeatures(degree=1)),\n",
       "                (&#x27;reg&#x27;, LinearRegression(fit_intercept=False))])</pre><b>In a Jupyter environment, please rerun this cell to show the HTML representation or trust the notebook. <br />On GitHub, the HTML representation is unable to render, please try loading this page with nbviewer.org.</b></div><div class=\"sk-container\" hidden><div class=\"sk-item sk-dashed-wrapped\"><div class=\"sk-label-container\"><div class=\"sk-label sk-toggleable\"><input class=\"sk-toggleable__control sk-hidden--visually\" id=\"sk-estimator-id-19\" type=\"checkbox\" ><label for=\"sk-estimator-id-19\" class=\"sk-toggleable__label sk-toggleable__label-arrow\">Pipeline</label><div class=\"sk-toggleable__content\"><pre>Pipeline(steps=[(&#x27;preprocessing&#x27;,\n",
       "                 Pipeline(steps=[(&#x27;scale&#x27;, StandardScaler())])),\n",
       "                (&#x27;poly&#x27;, PolynomialFeatures(degree=1)),\n",
       "                (&#x27;reg&#x27;, LinearRegression(fit_intercept=False))])</pre></div></div></div><div class=\"sk-serial\"><div class=\"sk-item\"><div class=\"sk-label-container\"><div class=\"sk-label sk-toggleable\"><input class=\"sk-toggleable__control sk-hidden--visually\" id=\"sk-estimator-id-20\" type=\"checkbox\" ><label for=\"sk-estimator-id-20\" class=\"sk-toggleable__label sk-toggleable__label-arrow\">preprocessing: Pipeline</label><div class=\"sk-toggleable__content\"><pre>Pipeline(steps=[(&#x27;scale&#x27;, StandardScaler())])</pre></div></div></div><div class=\"sk-serial\"><div class=\"sk-item\"><div class=\"sk-estimator sk-toggleable\"><input class=\"sk-toggleable__control sk-hidden--visually\" id=\"sk-estimator-id-21\" type=\"checkbox\" ><label for=\"sk-estimator-id-21\" class=\"sk-toggleable__label sk-toggleable__label-arrow\">StandardScaler</label><div class=\"sk-toggleable__content\"><pre>StandardScaler()</pre></div></div></div></div></div><div class=\"sk-item\"><div class=\"sk-estimator sk-toggleable\"><input class=\"sk-toggleable__control sk-hidden--visually\" id=\"sk-estimator-id-22\" type=\"checkbox\" ><label for=\"sk-estimator-id-22\" class=\"sk-toggleable__label sk-toggleable__label-arrow\">PolynomialFeatures</label><div class=\"sk-toggleable__content\"><pre>PolynomialFeatures(degree=1)</pre></div></div></div><div class=\"sk-item\"><div class=\"sk-estimator sk-toggleable\"><input class=\"sk-toggleable__control sk-hidden--visually\" id=\"sk-estimator-id-23\" type=\"checkbox\" ><label for=\"sk-estimator-id-23\" class=\"sk-toggleable__label sk-toggleable__label-arrow\">LinearRegression</label><div class=\"sk-toggleable__content\"><pre>LinearRegression(fit_intercept=False)</pre></div></div></div></div></div></div></div>"
      ],
      "text/plain": [
       "Pipeline(steps=[('preprocessing',\n",
       "                 Pipeline(steps=[('scale', StandardScaler())])),\n",
       "                ('poly', PolynomialFeatures(degree=1)),\n",
       "                ('reg', LinearRegression(fit_intercept=False))])"
      ]
     },
     "execution_count": 88,
     "metadata": {},
     "output_type": "execute_result"
    }
   ],
   "source": [
    "semantic_model"
   ]
  },
  {
   "cell_type": "code",
   "execution_count": 89,
   "id": "c59d3157-f25c-4ead-973a-7ea96743f652",
   "metadata": {
    "tags": []
   },
   "outputs": [],
   "source": [
    "# Perform and store cross validation\n",
    "crossvals['semantic_features'] = verdict.Dict( cross_validate(\n",
    "    estimator = semantic_model,\n",
    "    X = M_train,\n",
    "    y = y_train,\n",
    "    cv = kfold,\n",
    "    scoring = 'neg_root_mean_squared_error',\n",
    "    return_estimator = True,\n",
    ") )"
   ]
  },
  {
   "cell_type": "code",
   "execution_count": 90,
   "id": "6e4c3ced-9ef3-4d1d-8390-4c14a377e17b",
   "metadata": {},
   "outputs": [
    {
     "data": {
      "image/png": "[encoded data removed]",
      "text/plain": [
       "<Figure size 750x300 with 1 Axes>"
      ]
     },
     "metadata": {},
     "output_type": "display_data"
    }
   ],
   "source": [
    "fig = rmse_swarmplot( crossvals )"
   ]
  },
  {
   "cell_type": "markdown",
   "id": "61a4c7fc-c075-4885-91c4-0a40ae4dedfb",
   "metadata": {},
   "source": [
    "Regressing on the explanatory variables of density and fringe factor does not produce the best model, but nevertheless holds some predictive power."
   ]
  },
  {
   "cell_type": "markdown",
   "id": "09a6d483-5e0a-4409-aa55-6472c628f2fd",
   "metadata": {},
   "source": [
    "## A Model Utilizing Metadata <a class=\"anchor\" id=\"metadata\"></a>\n",
    "\n",
    "Until now I used only the word content of the abstract. But presumably the number of citations received is a function of much more than the words employed. I have gathered a number of additional attributes for each publication, and we will regress onto those too."
   ]
  },
  {
   "cell_type": "markdown",
   "id": "4125c599-3d5d-4292-a206-e886feb28dfa",
   "metadata": {},
   "source": [
    "[**Back to Page Top**](#page-top)"
   ]
  },
  {
   "cell_type": "code",
   "execution_count": 91,
   "id": "716a9eed-9e35-4b45-ae1f-737fb9bf8d98",
   "metadata": {},
   "outputs": [
    {
     "data": {
      "text/html": [
       "<div>\n",
       "<style scoped>\n",
       "    .dataframe tbody tr th:only-of-type {\n",
       "        vertical-align: middle;\n",
       "    }\n",
       "\n",
       "    .dataframe tbody tr th {\n",
       "        vertical-align: top;\n",
       "    }\n",
       "\n",
       "    .dataframe thead th {\n",
       "        text-align: right;\n",
       "    }\n",
       "</style>\n",
       "<table border=\"1\" class=\"dataframe\">\n",
       "  <thead>\n",
       "    <tr style=\"text-align: right;\">\n",
       "      <th></th>\n",
       "      <th>age</th>\n",
       "      <th>references_count</th>\n",
       "      <th>page_count</th>\n",
       "      <th>log_author_count</th>\n",
       "      <th>journal_filtered</th>\n",
       "    </tr>\n",
       "  </thead>\n",
       "  <tbody>\n",
       "    <tr>\n",
       "      <th>2004MNRAS.355..591I</th>\n",
       "      <td>18.469477</td>\n",
       "      <td>28</td>\n",
       "      <td>9.0</td>\n",
       "      <td>0.602060</td>\n",
       "      <td>\\mnras</td>\n",
       "    </tr>\n",
       "    <tr>\n",
       "      <th>2011arXiv1101.2362Z</th>\n",
       "      <td>12.355184</td>\n",
       "      <td>9</td>\n",
       "      <td>NaN</td>\n",
       "      <td>0.301030</td>\n",
       "      <td>other</td>\n",
       "    </tr>\n",
       "    <tr>\n",
       "      <th>2021FrP.....9..709P</th>\n",
       "      <td>0.315615</td>\n",
       "      <td>188</td>\n",
       "      <td>NaN</td>\n",
       "      <td>0.000000</td>\n",
       "      <td>other</td>\n",
       "    </tr>\n",
       "    <tr>\n",
       "      <th>2005ApJ...628..160C</th>\n",
       "      <td>17.822983</td>\n",
       "      <td>53</td>\n",
       "      <td>8.0</td>\n",
       "      <td>0.778151</td>\n",
       "      <td>\\apj</td>\n",
       "    </tr>\n",
       "    <tr>\n",
       "      <th>2000MNRAS.318..938M</th>\n",
       "      <td>22.548411</td>\n",
       "      <td>24</td>\n",
       "      <td>4.0</td>\n",
       "      <td>0.301030</td>\n",
       "      <td>\\mnras</td>\n",
       "    </tr>\n",
       "  </tbody>\n",
       "</table>\n",
       "</div>"
      ],
      "text/plain": [
       "                           age  references_count  page_count  \\\n",
       "2004MNRAS.355..591I  18.469477                28         9.0   \n",
       "2011arXiv1101.2362Z  12.355184                 9         NaN   \n",
       "2021FrP.....9..709P   0.315615               188         NaN   \n",
       "2005ApJ...628..160C  17.822983                53         8.0   \n",
       "2000MNRAS.318..938M  22.548411                24         4.0   \n",
       "\n",
       "                     log_author_count journal_filtered  \n",
       "2004MNRAS.355..591I          0.602060           \\mnras  \n",
       "2011arXiv1101.2362Z          0.301030            other  \n",
       "2021FrP.....9..709P          0.000000            other  \n",
       "2005ApJ...628..160C          0.778151             \\apj  \n",
       "2000MNRAS.318..938M          0.301030           \\mnras  "
      ]
     },
     "execution_count": 91,
     "metadata": {},
     "output_type": "execute_result"
    }
   ],
   "source": [
    "X_train_df.sample( 5 )"
   ]
  },
  {
   "cell_type": "markdown",
   "id": "d895654a-2dce-495d-a1ea-d902f92d5356",
   "metadata": {},
   "source": [
    "I will regress with gradient boosting, but in exploratory modeling I discovered that most other reasonable ML models perform similarly."
   ]
  },
  {
   "cell_type": "code",
   "execution_count": 92,
   "id": "740d0321-abf6-46de-beaf-97de5496188f",
   "metadata": {},
   "outputs": [],
   "source": [
    "metadata_model = Pipeline(\n",
    "    [\n",
    "        ( 'preprocessing', metadata_preprocessing ),\n",
    "        ( 'reg', GradientBoostingRegressor() ),\n",
    "    ]\n",
    ")"
   ]
  },
  {
   "cell_type": "code",
   "execution_count": 93,
   "id": "1325e1fd-1c8e-4c1e-a6e9-29850b014083",
   "metadata": {},
   "outputs": [
    {
     "data": {
      "text/html": [
       "<style>#sk-container-id-7 {color: black;background-color: white;}#sk-container-id-7 pre{padding: 0;}#sk-container-id-7 div.sk-toggleable {background-color: white;}#sk-container-id-7 label.sk-toggleable__label {cursor: pointer;display: block;width: 100%;margin-bottom: 0;padding: 0.3em;box-sizing: border-box;text-align: center;}#sk-container-id-7 label.sk-toggleable__label-arrow:before {content: \"▸\";float: left;margin-right: 0.25em;color: #696969;}#sk-container-id-7 label.sk-toggleable__label-arrow:hover:before {color: black;}#sk-container-id-7 div.sk-estimator:hover label.sk-toggleable__label-arrow:before {color: black;}#sk-container-id-7 div.sk-toggleable__content {max-height: 0;max-width: 0;overflow: hidden;text-align: left;background-color: #f0f8ff;}#sk-container-id-7 div.sk-toggleable__content pre {margin: 0.2em;color: black;border-radius: 0.25em;background-color: #f0f8ff;}#sk-container-id-7 input.sk-toggleable__control:checked~div.sk-toggleable__content {max-height: 200px;max-width: 100%;overflow: auto;}#sk-container-id-7 input.sk-toggleable__control:checked~label.sk-toggleable__label-arrow:before {content: \"▾\";}#sk-container-id-7 div.sk-estimator input.sk-toggleable__control:checked~label.sk-toggleable__label {background-color: #d4ebff;}#sk-container-id-7 div.sk-label input.sk-toggleable__control:checked~label.sk-toggleable__label {background-color: #d4ebff;}#sk-container-id-7 input.sk-hidden--visually {border: 0;clip: rect(1px 1px 1px 1px);clip: rect(1px, 1px, 1px, 1px);height: 1px;margin: -1px;overflow: hidden;padding: 0;position: absolute;width: 1px;}#sk-container-id-7 div.sk-estimator {font-family: monospace;background-color: #f0f8ff;border: 1px dotted black;border-radius: 0.25em;box-sizing: border-box;margin-bottom: 0.5em;}#sk-container-id-7 div.sk-estimator:hover {background-color: #d4ebff;}#sk-container-id-7 div.sk-parallel-item::after {content: \"\";width: 100%;border-bottom: 1px solid gray;flex-grow: 1;}#sk-container-id-7 div.sk-label:hover label.sk-toggleable__label {background-color: #d4ebff;}#sk-container-id-7 div.sk-serial::before {content: \"\";position: absolute;border-left: 1px solid gray;box-sizing: border-box;top: 0;bottom: 0;left: 50%;z-index: 0;}#sk-container-id-7 div.sk-serial {display: flex;flex-direction: column;align-items: center;background-color: white;padding-right: 0.2em;padding-left: 0.2em;position: relative;}#sk-container-id-7 div.sk-item {position: relative;z-index: 1;}#sk-container-id-7 div.sk-parallel {display: flex;align-items: stretch;justify-content: center;background-color: white;position: relative;}#sk-container-id-7 div.sk-item::before, #sk-container-id-7 div.sk-parallel-item::before {content: \"\";position: absolute;border-left: 1px solid gray;box-sizing: border-box;top: 0;bottom: 0;left: 50%;z-index: -1;}#sk-container-id-7 div.sk-parallel-item {display: flex;flex-direction: column;z-index: 1;position: relative;background-color: white;}#sk-container-id-7 div.sk-parallel-item:first-child::after {align-self: flex-end;width: 50%;}#sk-container-id-7 div.sk-parallel-item:last-child::after {align-self: flex-start;width: 50%;}#sk-container-id-7 div.sk-parallel-item:only-child::after {width: 0;}#sk-container-id-7 div.sk-dashed-wrapped {border: 1px dashed gray;margin: 0 0.4em 0.5em 0.4em;box-sizing: border-box;padding-bottom: 0.4em;background-color: white;}#sk-container-id-7 div.sk-label label {font-family: monospace;font-weight: bold;display: inline-block;line-height: 1.2em;}#sk-container-id-7 div.sk-label-container {text-align: center;}#sk-container-id-7 div.sk-container {/* jupyter's `normalize.less` sets `[hidden] { display: none; }` but bootstrap.min.css set `[hidden] { display: none !important; }` so we also need the `!important` here to be able to override the default hidden behavior on the sphinx rendered scikit-learn.org. See: https://github.com/scikit-learn/scikit-learn/issues/21755 */display: inline-block !important;position: relative;}#sk-container-id-7 div.sk-text-repr-fallback {display: none;}</style><div id=\"sk-container-id-7\" class=\"sk-top-container\"><div class=\"sk-text-repr-fallback\"><pre>Pipeline(steps=[(&#x27;preprocessing&#x27;,\n",
       "                 ColumnTransformer(transformers=[(&#x27;numerical&#x27;,\n",
       "                                                  Pipeline(steps=[(&#x27;impute&#x27;,\n",
       "                                                                   SimpleImputer()),\n",
       "                                                                  (&#x27;scale&#x27;,\n",
       "                                                                   StandardScaler())]),\n",
       "                                                  [&#x27;age&#x27;, &#x27;references_count&#x27;,\n",
       "                                                   &#x27;page_count&#x27;,\n",
       "                                                   &#x27;log_author_count&#x27;]),\n",
       "                                                 (&#x27;onehot&#x27;, OneHotEncoder(),\n",
       "                                                  [&#x27;journal_filtered&#x27;])])),\n",
       "                (&#x27;reg&#x27;, GradientBoostingRegressor())])</pre><b>In a Jupyter environment, please rerun this cell to show the HTML representation or trust the notebook. <br />On GitHub, the HTML representation is unable to render, please try loading this page with nbviewer.org.</b></div><div class=\"sk-container\" hidden><div class=\"sk-item sk-dashed-wrapped\"><div class=\"sk-label-container\"><div class=\"sk-label sk-toggleable\"><input class=\"sk-toggleable__control sk-hidden--visually\" id=\"sk-estimator-id-24\" type=\"checkbox\" ><label for=\"sk-estimator-id-24\" class=\"sk-toggleable__label sk-toggleable__label-arrow\">Pipeline</label><div class=\"sk-toggleable__content\"><pre>Pipeline(steps=[(&#x27;preprocessing&#x27;,\n",
       "                 ColumnTransformer(transformers=[(&#x27;numerical&#x27;,\n",
       "                                                  Pipeline(steps=[(&#x27;impute&#x27;,\n",
       "                                                                   SimpleImputer()),\n",
       "                                                                  (&#x27;scale&#x27;,\n",
       "                                                                   StandardScaler())]),\n",
       "                                                  [&#x27;age&#x27;, &#x27;references_count&#x27;,\n",
       "                                                   &#x27;page_count&#x27;,\n",
       "                                                   &#x27;log_author_count&#x27;]),\n",
       "                                                 (&#x27;onehot&#x27;, OneHotEncoder(),\n",
       "                                                  [&#x27;journal_filtered&#x27;])])),\n",
       "                (&#x27;reg&#x27;, GradientBoostingRegressor())])</pre></div></div></div><div class=\"sk-serial\"><div class=\"sk-item sk-dashed-wrapped\"><div class=\"sk-label-container\"><div class=\"sk-label sk-toggleable\"><input class=\"sk-toggleable__control sk-hidden--visually\" id=\"sk-estimator-id-25\" type=\"checkbox\" ><label for=\"sk-estimator-id-25\" class=\"sk-toggleable__label sk-toggleable__label-arrow\">preprocessing: ColumnTransformer</label><div class=\"sk-toggleable__content\"><pre>ColumnTransformer(transformers=[(&#x27;numerical&#x27;,\n",
       "                                 Pipeline(steps=[(&#x27;impute&#x27;, SimpleImputer()),\n",
       "                                                 (&#x27;scale&#x27;, StandardScaler())]),\n",
       "                                 [&#x27;age&#x27;, &#x27;references_count&#x27;, &#x27;page_count&#x27;,\n",
       "                                  &#x27;log_author_count&#x27;]),\n",
       "                                (&#x27;onehot&#x27;, OneHotEncoder(),\n",
       "                                 [&#x27;journal_filtered&#x27;])])</pre></div></div></div><div class=\"sk-parallel\"><div class=\"sk-parallel-item\"><div class=\"sk-item\"><div class=\"sk-label-container\"><div class=\"sk-label sk-toggleable\"><input class=\"sk-toggleable__control sk-hidden--visually\" id=\"sk-estimator-id-26\" type=\"checkbox\" ><label for=\"sk-estimator-id-26\" class=\"sk-toggleable__label sk-toggleable__label-arrow\">numerical</label><div class=\"sk-toggleable__content\"><pre>[&#x27;age&#x27;, &#x27;references_count&#x27;, &#x27;page_count&#x27;, &#x27;log_author_count&#x27;]</pre></div></div></div><div class=\"sk-serial\"><div class=\"sk-item\"><div class=\"sk-serial\"><div class=\"sk-item\"><div class=\"sk-estimator sk-toggleable\"><input class=\"sk-toggleable__control sk-hidden--visually\" id=\"sk-estimator-id-27\" type=\"checkbox\" ><label for=\"sk-estimator-id-27\" class=\"sk-toggleable__label sk-toggleable__label-arrow\">SimpleImputer</label><div class=\"sk-toggleable__content\"><pre>SimpleImputer()</pre></div></div></div><div class=\"sk-item\"><div class=\"sk-estimator sk-toggleable\"><input class=\"sk-toggleable__control sk-hidden--visually\" id=\"sk-estimator-id-28\" type=\"checkbox\" ><label for=\"sk-estimator-id-28\" class=\"sk-toggleable__label sk-toggleable__label-arrow\">StandardScaler</label><div class=\"sk-toggleable__content\"><pre>StandardScaler()</pre></div></div></div></div></div></div></div></div><div class=\"sk-parallel-item\"><div class=\"sk-item\"><div class=\"sk-label-container\"><div class=\"sk-label sk-toggleable\"><input class=\"sk-toggleable__control sk-hidden--visually\" id=\"sk-estimator-id-29\" type=\"checkbox\" ><label for=\"sk-estimator-id-29\" class=\"sk-toggleable__label sk-toggleable__label-arrow\">onehot</label><div class=\"sk-toggleable__content\"><pre>[&#x27;journal_filtered&#x27;]</pre></div></div></div><div class=\"sk-serial\"><div class=\"sk-item\"><div class=\"sk-estimator sk-toggleable\"><input class=\"sk-toggleable__control sk-hidden--visually\" id=\"sk-estimator-id-30\" type=\"checkbox\" ><label for=\"sk-estimator-id-30\" class=\"sk-toggleable__label sk-toggleable__label-arrow\">OneHotEncoder</label><div class=\"sk-toggleable__content\"><pre>OneHotEncoder()</pre></div></div></div></div></div></div></div></div><div class=\"sk-item\"><div class=\"sk-estimator sk-toggleable\"><input class=\"sk-toggleable__control sk-hidden--visually\" id=\"sk-estimator-id-31\" type=\"checkbox\" ><label for=\"sk-estimator-id-31\" class=\"sk-toggleable__label sk-toggleable__label-arrow\">GradientBoostingRegressor</label><div class=\"sk-toggleable__content\"><pre>GradientBoostingRegressor()</pre></div></div></div></div></div></div></div>"
      ],
      "text/plain": [
       "Pipeline(steps=[('preprocessing',\n",
       "                 ColumnTransformer(transformers=[('numerical',\n",
       "                                                  Pipeline(steps=[('impute',\n",
       "                                                                   SimpleImputer()),\n",
       "                                                                  ('scale',\n",
       "                                                                   StandardScaler())]),\n",
       "                                                  ['age', 'references_count',\n",
       "                                                   'page_count',\n",
       "                                                   'log_author_count']),\n",
       "                                                 ('onehot', OneHotEncoder(),\n",
       "                                                  ['journal_filtered'])])),\n",
       "                ('reg', GradientBoostingRegressor())])"
      ]
     },
     "execution_count": 93,
     "metadata": {},
     "output_type": "execute_result"
    }
   ],
   "source": [
    "metadata_model"
   ]
  },
  {
   "cell_type": "code",
   "execution_count": 94,
   "id": "b50d461b-b5c3-47e5-9ce3-309ecd390286",
   "metadata": {
    "tags": []
   },
   "outputs": [],
   "source": [
    "# Perform and store cross validation\n",
    "crossvals['metadata'] = verdict.Dict( cross_validate(\n",
    "    estimator = metadata_model,\n",
    "    X = X_train_df,\n",
    "    y = y_train,\n",
    "    cv = kfold,\n",
    "    scoring = 'neg_root_mean_squared_error',\n",
    "    return_estimator = True,\n",
    ") )"
   ]
  },
  {
   "cell_type": "code",
   "execution_count": 95,
   "id": "234b9280-22a6-4121-b113-166520d35242",
   "metadata": {},
   "outputs": [
    {
     "data": {
      "image/png": "[encoded data removed]",
      "text/plain": [
       "<Figure size 900x300 with 1 Axes>"
      ]
     },
     "metadata": {},
     "output_type": "display_data"
    }
   ],
   "source": [
    "fig = rmse_swarmplot( crossvals )"
   ]
  },
  {
   "cell_type": "markdown",
   "id": "c3bc913d-621f-4d11-83f2-58031d3a4102",
   "metadata": {},
   "source": [
    "The metadata contains a lot of information useful for predicting citations!"
   ]
  },
  {
   "cell_type": "markdown",
   "id": "14e2c19f-fa85-456d-99e5-834284ef36bf",
   "metadata": {},
   "source": [
    "## A Neural Net <a class=\"anchor\" id=\"neural-net\"></a>\n",
    "\n",
    "I will wrap up the individual modeling with a simple neural net regressed onto the word vectors."
   ]
  },
  {
   "cell_type": "markdown",
   "id": "9065fcca-cb30-4495-a8de-7f62a5fb6a4a",
   "metadata": {},
   "source": [
    "[**Back to Page Top**](#page-top)"
   ]
  },
  {
   "cell_type": "code",
   "execution_count": 96,
   "id": "7203f1af-e7eb-47c1-90a5-65ba59a52e18",
   "metadata": {},
   "outputs": [
    {
     "name": "stderr",
     "output_type": "stream",
     "text": [
      "2023-06-24 18:25:09.341785: I tensorflow/core/platform/cpu_feature_guard.cc:182] This TensorFlow binary is optimized to use available CPU instructions in performance-critical operations.\n",
      "To enable the following instructions: AVX2 FMA, in other operations, rebuild TensorFlow with the appropriate compiler flags.\n"
     ]
    }
   ],
   "source": [
    "import keras"
   ]
  },
  {
   "cell_type": "code",
   "execution_count": 97,
   "id": "0a133418-7cba-455a-8467-c8e0180e465d",
   "metadata": {},
   "outputs": [],
   "source": [
    "from sklearn.metrics import mean_squared_error"
   ]
  },
  {
   "cell_type": "code",
   "execution_count": 98,
   "id": "2395fb5c-1dfe-4cf9-a968-8165c769290b",
   "metadata": {},
   "outputs": [],
   "source": [
    "# Simple multilayer model\n",
    "class NeuralNet( BaseEstimator ):\n",
    "    '''The estimator for the neural net.\n",
    "    We need to wrap it as such because the output of the keras predict function\n",
    "    is not what the voting regressor expects.\n",
    "    Also, the voting regressor expects estimator._estimator_type = 'regressor'.\n",
    "    '''\n",
    "    \n",
    "    def __init__( self ):\n",
    "\n",
    "        # Build the model itself\n",
    "        neural_net = keras.models.Sequential()\n",
    "        neural_net.add( keras.layers.Input( shape=(v.shape[1],) ) )\n",
    "        neural_net.add( keras.layers.Dense( 16, activation='relu', ) )\n",
    "        neural_net.add( keras.layers.Dense( 16, activation='relu', ) )\n",
    "        neural_net.add( keras.layers.Dense( 16, activation='relu', ) )\n",
    "        neural_net.add( keras.layers.Dense( 1, ) )\n",
    "        neural_net.compile( loss='mean_squared_error' )\n",
    "        \n",
    "        self.neural_net = neural_net\n",
    "        self._estimator_type = 'regressor'\n",
    "    \n",
    "    def fit( self, X, y, *args, **kwargs ):\n",
    "        \n",
    "        self.neural_net.fit( X, y, *args, **kwargs )\n",
    "    \n",
    "    def predict( self, X, *args, **kwargs ):\n",
    "        \n",
    "        raw_result = self.neural_net.predict( X, *args, **kwargs )\n",
    "        \n",
    "        return raw_result.transpose()[0]"
   ]
  },
  {
   "cell_type": "code",
   "execution_count": 99,
   "id": "2de9da0c-7c7c-4d5a-a30e-622c89bd8b53",
   "metadata": {},
   "outputs": [],
   "source": [
    "# Actually build the model\n",
    "model = Pipeline(\n",
    "    [\n",
    "        ( 'preprocessing', vector_preprocessing ),\n",
    "        ( 'reg', NeuralNet() ),\n",
    "    ]\n",
    ")"
   ]
  },
  {
   "cell_type": "code",
   "execution_count": 100,
   "id": "3b5392f2-fd1c-43ef-9950-b98d75cf8c3a",
   "metadata": {},
   "outputs": [
    {
     "data": {
      "text/html": [
       "<style>#sk-container-id-8 {color: black;background-color: white;}#sk-container-id-8 pre{padding: 0;}#sk-container-id-8 div.sk-toggleable {background-color: white;}#sk-container-id-8 label.sk-toggleable__label {cursor: pointer;display: block;width: 100%;margin-bottom: 0;padding: 0.3em;box-sizing: border-box;text-align: center;}#sk-container-id-8 label.sk-toggleable__label-arrow:before {content: \"▸\";float: left;margin-right: 0.25em;color: #696969;}#sk-container-id-8 label.sk-toggleable__label-arrow:hover:before {color: black;}#sk-container-id-8 div.sk-estimator:hover label.sk-toggleable__label-arrow:before {color: black;}#sk-container-id-8 div.sk-toggleable__content {max-height: 0;max-width: 0;overflow: hidden;text-align: left;background-color: #f0f8ff;}#sk-container-id-8 div.sk-toggleable__content pre {margin: 0.2em;color: black;border-radius: 0.25em;background-color: #f0f8ff;}#sk-container-id-8 input.sk-toggleable__control:checked~div.sk-toggleable__content {max-height: 200px;max-width: 100%;overflow: auto;}#sk-container-id-8 input.sk-toggleable__control:checked~label.sk-toggleable__label-arrow:before {content: \"▾\";}#sk-container-id-8 div.sk-estimator input.sk-toggleable__control:checked~label.sk-toggleable__label {background-color: #d4ebff;}#sk-container-id-8 div.sk-label input.sk-toggleable__control:checked~label.sk-toggleable__label {background-color: #d4ebff;}#sk-container-id-8 input.sk-hidden--visually {border: 0;clip: rect(1px 1px 1px 1px);clip: rect(1px, 1px, 1px, 1px);height: 1px;margin: -1px;overflow: hidden;padding: 0;position: absolute;width: 1px;}#sk-container-id-8 div.sk-estimator {font-family: monospace;background-color: #f0f8ff;border: 1px dotted black;border-radius: 0.25em;box-sizing: border-box;margin-bottom: 0.5em;}#sk-container-id-8 div.sk-estimator:hover {background-color: #d4ebff;}#sk-container-id-8 div.sk-parallel-item::after {content: \"\";width: 100%;border-bottom: 1px solid gray;flex-grow: 1;}#sk-container-id-8 div.sk-label:hover label.sk-toggleable__label {background-color: #d4ebff;}#sk-container-id-8 div.sk-serial::before {content: \"\";position: absolute;border-left: 1px solid gray;box-sizing: border-box;top: 0;bottom: 0;left: 50%;z-index: 0;}#sk-container-id-8 div.sk-serial {display: flex;flex-direction: column;align-items: center;background-color: white;padding-right: 0.2em;padding-left: 0.2em;position: relative;}#sk-container-id-8 div.sk-item {position: relative;z-index: 1;}#sk-container-id-8 div.sk-parallel {display: flex;align-items: stretch;justify-content: center;background-color: white;position: relative;}#sk-container-id-8 div.sk-item::before, #sk-container-id-8 div.sk-parallel-item::before {content: \"\";position: absolute;border-left: 1px solid gray;box-sizing: border-box;top: 0;bottom: 0;left: 50%;z-index: -1;}#sk-container-id-8 div.sk-parallel-item {display: flex;flex-direction: column;z-index: 1;position: relative;background-color: white;}#sk-container-id-8 div.sk-parallel-item:first-child::after {align-self: flex-end;width: 50%;}#sk-container-id-8 div.sk-parallel-item:last-child::after {align-self: flex-start;width: 50%;}#sk-container-id-8 div.sk-parallel-item:only-child::after {width: 0;}#sk-container-id-8 div.sk-dashed-wrapped {border: 1px dashed gray;margin: 0 0.4em 0.5em 0.4em;box-sizing: border-box;padding-bottom: 0.4em;background-color: white;}#sk-container-id-8 div.sk-label label {font-family: monospace;font-weight: bold;display: inline-block;line-height: 1.2em;}#sk-container-id-8 div.sk-label-container {text-align: center;}#sk-container-id-8 div.sk-container {/* jupyter's `normalize.less` sets `[hidden] { display: none; }` but bootstrap.min.css set `[hidden] { display: none !important; }` so we also need the `!important` here to be able to override the default hidden behavior on the sphinx rendered scikit-learn.org. See: https://github.com/scikit-learn/scikit-learn/issues/21755 */display: inline-block !important;position: relative;}#sk-container-id-8 div.sk-text-repr-fallback {display: none;}</style><div id=\"sk-container-id-8\" class=\"sk-top-container\"><div class=\"sk-text-repr-fallback\"><pre>Pipeline(steps=[(&#x27;preprocessing&#x27;, Pipeline(steps=[(&#x27;scale&#x27;, Normalizer())])),\n",
       "                (&#x27;reg&#x27;, NeuralNet())])</pre><b>In a Jupyter environment, please rerun this cell to show the HTML representation or trust the notebook. <br />On GitHub, the HTML representation is unable to render, please try loading this page with nbviewer.org.</b></div><div class=\"sk-container\" hidden><div class=\"sk-item sk-dashed-wrapped\"><div class=\"sk-label-container\"><div class=\"sk-label sk-toggleable\"><input class=\"sk-toggleable__control sk-hidden--visually\" id=\"sk-estimator-id-32\" type=\"checkbox\" ><label for=\"sk-estimator-id-32\" class=\"sk-toggleable__label sk-toggleable__label-arrow\">Pipeline</label><div class=\"sk-toggleable__content\"><pre>Pipeline(steps=[(&#x27;preprocessing&#x27;, Pipeline(steps=[(&#x27;scale&#x27;, Normalizer())])),\n",
       "                (&#x27;reg&#x27;, NeuralNet())])</pre></div></div></div><div class=\"sk-serial\"><div class=\"sk-item\"><div class=\"sk-label-container\"><div class=\"sk-label sk-toggleable\"><input class=\"sk-toggleable__control sk-hidden--visually\" id=\"sk-estimator-id-33\" type=\"checkbox\" ><label for=\"sk-estimator-id-33\" class=\"sk-toggleable__label sk-toggleable__label-arrow\">preprocessing: Pipeline</label><div class=\"sk-toggleable__content\"><pre>Pipeline(steps=[(&#x27;scale&#x27;, Normalizer())])</pre></div></div></div><div class=\"sk-serial\"><div class=\"sk-item\"><div class=\"sk-estimator sk-toggleable\"><input class=\"sk-toggleable__control sk-hidden--visually\" id=\"sk-estimator-id-34\" type=\"checkbox\" ><label for=\"sk-estimator-id-34\" class=\"sk-toggleable__label sk-toggleable__label-arrow\">Normalizer</label><div class=\"sk-toggleable__content\"><pre>Normalizer()</pre></div></div></div></div></div><div class=\"sk-item\"><div class=\"sk-estimator sk-toggleable\"><input class=\"sk-toggleable__control sk-hidden--visually\" id=\"sk-estimator-id-35\" type=\"checkbox\" ><label for=\"sk-estimator-id-35\" class=\"sk-toggleable__label sk-toggleable__label-arrow\">NeuralNet</label><div class=\"sk-toggleable__content\"><pre>NeuralNet()</pre></div></div></div></div></div></div></div>"
      ],
      "text/plain": [
       "Pipeline(steps=[('preprocessing', Pipeline(steps=[('scale', Normalizer())])),\n",
       "                ('reg', NeuralNet())])"
      ]
     },
     "execution_count": 100,
     "metadata": {},
     "output_type": "execute_result"
    }
   ],
   "source": [
    "model"
   ]
  },
  {
   "cell_type": "code",
   "execution_count": 101,
   "id": "64d56645-49b4-4843-9dc9-af1deeea6ea3",
   "metadata": {
    "tags": []
   },
   "outputs": [
    {
     "name": "stdout",
     "output_type": "stream",
     "text": [
      "148/148 [==============================] - 1s 4ms/step - loss: 0.3548\n",
      "37/37 [==============================] - 0s 1ms/step\n",
      "148/148 [==============================] - 1s 3ms/step - loss: 0.2664\n",
      "37/37 [==============================] - 0s 1ms/step\n",
      "148/148 [==============================] - 1s 4ms/step - loss: 0.2303\n",
      "37/37 [==============================] - 0s 2ms/step\n",
      "148/148 [==============================] - 1s 4ms/step - loss: 0.2141\n",
      "37/37 [==============================] - 0s 1ms/step\n",
      "148/148 [==============================] - 1s 4ms/step - loss: 0.1905\n",
      "37/37 [==============================] - 0s 1ms/step\n"
     ]
    }
   ],
   "source": [
    "# Perform KFold cross validation\n",
    "# We could use the exact same code as before, but this allows a little additional control.\n",
    "crossvals['neural_net'] = {'test_score':[], 'estimator':[],}\n",
    "for train_index, test_index in kfold.split(v_train):\n",
    "        \n",
    "    # Fit and predict\n",
    "    model.fit( v_train[train_index].toarray(), y_train[train_index] )\n",
    "    log_cpy_pred = model.predict( v_train[test_index].toarray() )\n",
    "    \n",
    "    # Compare prediction\n",
    "    rmse = -np.sqrt( mean_squared_error( y_train[test_index], log_cpy_pred ) )\n",
    "    crossvals['neural_net']['test_score'].append( rmse )\n",
    "    crossvals['neural_net']['estimator'].append( model )\n",
    "crossvals['neural_net']['test_score'] = np.array( crossvals['neural_net']['test_score'] )"
   ]
  },
  {
   "cell_type": "code",
   "execution_count": 102,
   "id": "2cfbea29-d4ce-417b-994d-2d48a1a0067f",
   "metadata": {},
   "outputs": [
    {
     "data": {
      "image/png": "[encoded data removed]",
      "text/plain": [
       "<Figure size 1050x300 with 1 Axes>"
      ]
     },
     "metadata": {},
     "output_type": "display_data"
    }
   ],
   "source": [
    "fig = rmse_swarmplot( crossvals, y_lim=(sample_std-0.3, sample_std+0.3 ) )"
   ]
  },
  {
   "cell_type": "markdown",
   "id": "2a28a60e-885c-463c-a9a1-2a10cd8837bf",
   "metadata": {},
   "source": [
    "While arguably the biggest blackbox of the considered models, the simple neural net performs remarkably well for predicting citations given the words used, at least on the training set."
   ]
  },
  {
   "cell_type": "markdown",
   "id": "96f634a7-fcc3-405d-b148-eba1bcc6a131",
   "metadata": {},
   "source": [
    "## Putting it All Together: Voting Regression <a class=\"anchor\" id=\"voting\"></a>\n",
    "\n",
    "I'll now try to combine the models to offset their weaknesses.\n",
    "\n",
    "Metadata and semantic features will be combined into one dataset, and modeled with gradient boosting.\n",
    "\n",
    "For word vectors I will use the best of the intuitive models (the K Nearest Neighbors model) and the best of all the word vector models (the neural net)."
   ]
  },
  {
   "cell_type": "markdown",
   "id": "473df544-7829-4ee3-a83e-40154068c28a",
   "metadata": {},
   "source": [
    "[**Back to Page Top**](#page-top)"
   ]
  },
  {
   "cell_type": "code",
   "execution_count": 103,
   "id": "c02b2fd2-7bd0-4136-9427-77e517c3b8c7",
   "metadata": {},
   "outputs": [],
   "source": [
    "from sklearn.preprocessing import FunctionTransformer\n",
    "from sklearn.ensemble import VotingRegressor"
   ]
  },
  {
   "cell_type": "code",
   "execution_count": 104,
   "id": "7040d1a2-91a1-4128-8fb7-799cf33dbf6a",
   "metadata": {},
   "outputs": [],
   "source": [
    "# Combine word vectors, semantic variables, and metadata into a single feature array\n",
    "D_train = derived_preprocessing.fit_transform( D_train_df )\n",
    "n_sample = D_train.shape[0]\n",
    "n_D = D_train.shape[1]\n",
    "n_v = v_train.shape[1]\n",
    "A_train = np.zeros( shape=(n_sample, n_D + n_v) )\n",
    "A_train[:,:n_D] = D_train\n",
    "A_train[:,n_D:] = vector_preprocessing.fit_transform( v_train ).toarray()"
   ]
  },
  {
   "cell_type": "code",
   "execution_count": 105,
   "id": "55a15de1-d52a-47f2-a80a-bb882ee2015e",
   "metadata": {},
   "outputs": [],
   "source": [
    "# Build preprocessing objects to select either only the word vectors or the other features\n",
    "select_word_vectors = FunctionTransformer( lambda A: A[:,n_D:] )\n",
    "select_derived_features = FunctionTransformer( lambda A: A[:,:n_D] )"
   ]
  },
  {
   "cell_type": "code",
   "execution_count": 106,
   "id": "e7e853a1-440f-4749-a5dd-07483074091f",
   "metadata": {},
   "outputs": [],
   "source": [
    "# Gradient boost for all the derived features (metadata and semantic)\n",
    "derived_features_grad_boosting = Pipeline(\n",
    "    [\n",
    "        ( 'select_derived_features', select_derived_features ),\n",
    "        ( 'reg', GradientBoostingRegressor() ),\n",
    "    ]\n",
    ")"
   ]
  },
  {
   "cell_type": "code",
   "execution_count": 107,
   "id": "cff7b8e5-9d40-4373-9551-e633b3c219ae",
   "metadata": {},
   "outputs": [],
   "source": [
    "# The most-successful intuitive word vector model\n",
    "vector_knn = Pipeline(\n",
    "    [\n",
    "        ( 'select_word_vectors', select_word_vectors ),\n",
    "        ( 'reg', KNeighborsRegressor( n_neighbors=search.best_params_['knn__n_neighbors'] ) ),\n",
    "    ]\n",
    ")"
   ]
  },
  {
   "cell_type": "code",
   "execution_count": 108,
   "id": "2fb98a01-8991-4a54-a617-e456914f1b78",
   "metadata": {},
   "outputs": [],
   "source": [
    "# The neural net    \n",
    "vector_neural_net = Pipeline(\n",
    "    [\n",
    "        ( 'select_word_vectors', select_word_vectors ),\n",
    "        ( 'reg', NeuralNet() ),\n",
    "    ]\n",
    ") "
   ]
  },
  {
   "cell_type": "code",
   "execution_count": 109,
   "id": "a1f6a5f7-4826-486a-a075-c9a5da82f7f8",
   "metadata": {},
   "outputs": [],
   "source": [
    "# Put it together!\n",
    "model = VotingRegressor(\n",
    "    estimators = [\n",
    "        ( 'vector_knn', vector_knn ),\n",
    "        ( 'derived_features_grad_boosting', derived_features_grad_boosting ),\n",
    "        ( 'vector_neural_net', vector_neural_net ),\n",
    "    ],\n",
    ")"
   ]
  },
  {
   "cell_type": "code",
   "execution_count": 110,
   "id": "858fb18d-c0e3-4063-b5a0-967a9328c157",
   "metadata": {},
   "outputs": [
    {
     "data": {
      "text/html": [
       "<style>#sk-container-id-9 {color: black;background-color: white;}#sk-container-id-9 pre{padding: 0;}#sk-container-id-9 div.sk-toggleable {background-color: white;}#sk-container-id-9 label.sk-toggleable__label {cursor: pointer;display: block;width: 100%;margin-bottom: 0;padding: 0.3em;box-sizing: border-box;text-align: center;}#sk-container-id-9 label.sk-toggleable__label-arrow:before {content: \"▸\";float: left;margin-right: 0.25em;color: #696969;}#sk-container-id-9 label.sk-toggleable__label-arrow:hover:before {color: black;}#sk-container-id-9 div.sk-estimator:hover label.sk-toggleable__label-arrow:before {color: black;}#sk-container-id-9 div.sk-toggleable__content {max-height: 0;max-width: 0;overflow: hidden;text-align: left;background-color: #f0f8ff;}#sk-container-id-9 div.sk-toggleable__content pre {margin: 0.2em;color: black;border-radius: 0.25em;background-color: #f0f8ff;}#sk-container-id-9 input.sk-toggleable__control:checked~div.sk-toggleable__content {max-height: 200px;max-width: 100%;overflow: auto;}#sk-container-id-9 input.sk-toggleable__control:checked~label.sk-toggleable__label-arrow:before {content: \"▾\";}#sk-container-id-9 div.sk-estimator input.sk-toggleable__control:checked~label.sk-toggleable__label {background-color: #d4ebff;}#sk-container-id-9 div.sk-label input.sk-toggleable__control:checked~label.sk-toggleable__label {background-color: #d4ebff;}#sk-container-id-9 input.sk-hidden--visually {border: 0;clip: rect(1px 1px 1px 1px);clip: rect(1px, 1px, 1px, 1px);height: 1px;margin: -1px;overflow: hidden;padding: 0;position: absolute;width: 1px;}#sk-container-id-9 div.sk-estimator {font-family: monospace;background-color: #f0f8ff;border: 1px dotted black;border-radius: 0.25em;box-sizing: border-box;margin-bottom: 0.5em;}#sk-container-id-9 div.sk-estimator:hover {background-color: #d4ebff;}#sk-container-id-9 div.sk-parallel-item::after {content: \"\";width: 100%;border-bottom: 1px solid gray;flex-grow: 1;}#sk-container-id-9 div.sk-label:hover label.sk-toggleable__label {background-color: #d4ebff;}#sk-container-id-9 div.sk-serial::before {content: \"\";position: absolute;border-left: 1px solid gray;box-sizing: border-box;top: 0;bottom: 0;left: 50%;z-index: 0;}#sk-container-id-9 div.sk-serial {display: flex;flex-direction: column;align-items: center;background-color: white;padding-right: 0.2em;padding-left: 0.2em;position: relative;}#sk-container-id-9 div.sk-item {position: relative;z-index: 1;}#sk-container-id-9 div.sk-parallel {display: flex;align-items: stretch;justify-content: center;background-color: white;position: relative;}#sk-container-id-9 div.sk-item::before, #sk-container-id-9 div.sk-parallel-item::before {content: \"\";position: absolute;border-left: 1px solid gray;box-sizing: border-box;top: 0;bottom: 0;left: 50%;z-index: -1;}#sk-container-id-9 div.sk-parallel-item {display: flex;flex-direction: column;z-index: 1;position: relative;background-color: white;}#sk-container-id-9 div.sk-parallel-item:first-child::after {align-self: flex-end;width: 50%;}#sk-container-id-9 div.sk-parallel-item:last-child::after {align-self: flex-start;width: 50%;}#sk-container-id-9 div.sk-parallel-item:only-child::after {width: 0;}#sk-container-id-9 div.sk-dashed-wrapped {border: 1px dashed gray;margin: 0 0.4em 0.5em 0.4em;box-sizing: border-box;padding-bottom: 0.4em;background-color: white;}#sk-container-id-9 div.sk-label label {font-family: monospace;font-weight: bold;display: inline-block;line-height: 1.2em;}#sk-container-id-9 div.sk-label-container {text-align: center;}#sk-container-id-9 div.sk-container {/* jupyter's `normalize.less` sets `[hidden] { display: none; }` but bootstrap.min.css set `[hidden] { display: none !important; }` so we also need the `!important` here to be able to override the default hidden behavior on the sphinx rendered scikit-learn.org. See: https://github.com/scikit-learn/scikit-learn/issues/21755 */display: inline-block !important;position: relative;}#sk-container-id-9 div.sk-text-repr-fallback {display: none;}</style><div id=\"sk-container-id-9\" class=\"sk-top-container\"><div class=\"sk-text-repr-fallback\"><pre>VotingRegressor(estimators=[(&#x27;vector_knn&#x27;,\n",
       "                             Pipeline(steps=[(&#x27;select_word_vectors&#x27;,\n",
       "                                              FunctionTransformer(func=&lt;function &lt;lambda&gt; at 0x7fabccffd6c0&gt;)),\n",
       "                                             (&#x27;reg&#x27;,\n",
       "                                              KNeighborsRegressor(n_neighbors=16))])),\n",
       "                            (&#x27;derived_features_grad_boosting&#x27;,\n",
       "                             Pipeline(steps=[(&#x27;select_derived_features&#x27;,\n",
       "                                              FunctionTransformer(func=&lt;function &lt;lambda&gt; at 0x7fabccffd7e0&gt;)),\n",
       "                                             (&#x27;reg&#x27;,\n",
       "                                              GradientBoostingRegressor())])),\n",
       "                            (&#x27;vector_neural_net&#x27;,\n",
       "                             Pipeline(steps=[(&#x27;select_word_vectors&#x27;,\n",
       "                                              FunctionTransformer(func=&lt;function &lt;lambda&gt; at 0x7fabccffd6c0&gt;)),\n",
       "                                             (&#x27;reg&#x27;, NeuralNet())]))])</pre><b>In a Jupyter environment, please rerun this cell to show the HTML representation or trust the notebook. <br />On GitHub, the HTML representation is unable to render, please try loading this page with nbviewer.org.</b></div><div class=\"sk-container\" hidden><div class=\"sk-item sk-dashed-wrapped\"><div class=\"sk-label-container\"><div class=\"sk-label sk-toggleable\"><input class=\"sk-toggleable__control sk-hidden--visually\" id=\"sk-estimator-id-36\" type=\"checkbox\" ><label for=\"sk-estimator-id-36\" class=\"sk-toggleable__label sk-toggleable__label-arrow\">VotingRegressor</label><div class=\"sk-toggleable__content\"><pre>VotingRegressor(estimators=[(&#x27;vector_knn&#x27;,\n",
       "                             Pipeline(steps=[(&#x27;select_word_vectors&#x27;,\n",
       "                                              FunctionTransformer(func=&lt;function &lt;lambda&gt; at 0x7fabccffd6c0&gt;)),\n",
       "                                             (&#x27;reg&#x27;,\n",
       "                                              KNeighborsRegressor(n_neighbors=16))])),\n",
       "                            (&#x27;derived_features_grad_boosting&#x27;,\n",
       "                             Pipeline(steps=[(&#x27;select_derived_features&#x27;,\n",
       "                                              FunctionTransformer(func=&lt;function &lt;lambda&gt; at 0x7fabccffd7e0&gt;)),\n",
       "                                             (&#x27;reg&#x27;,\n",
       "                                              GradientBoostingRegressor())])),\n",
       "                            (&#x27;vector_neural_net&#x27;,\n",
       "                             Pipeline(steps=[(&#x27;select_word_vectors&#x27;,\n",
       "                                              FunctionTransformer(func=&lt;function &lt;lambda&gt; at 0x7fabccffd6c0&gt;)),\n",
       "                                             (&#x27;reg&#x27;, NeuralNet())]))])</pre></div></div></div><div class=\"sk-parallel\"><div class=\"sk-parallel-item\"><div class=\"sk-item\"><div class=\"sk-label-container\"><div class=\"sk-label sk-toggleable\"><label>vector_knn</label></div></div><div class=\"sk-serial\"><div class=\"sk-item\"><div class=\"sk-serial\"><div class=\"sk-item\"><div class=\"sk-estimator sk-toggleable\"><input class=\"sk-toggleable__control sk-hidden--visually\" id=\"sk-estimator-id-37\" type=\"checkbox\" ><label for=\"sk-estimator-id-37\" class=\"sk-toggleable__label sk-toggleable__label-arrow\">FunctionTransformer</label><div class=\"sk-toggleable__content\"><pre>FunctionTransformer(func=&lt;function &lt;lambda&gt; at 0x7fabccffd6c0&gt;)</pre></div></div></div><div class=\"sk-item\"><div class=\"sk-estimator sk-toggleable\"><input class=\"sk-toggleable__control sk-hidden--visually\" id=\"sk-estimator-id-38\" type=\"checkbox\" ><label for=\"sk-estimator-id-38\" class=\"sk-toggleable__label sk-toggleable__label-arrow\">KNeighborsRegressor</label><div class=\"sk-toggleable__content\"><pre>KNeighborsRegressor(n_neighbors=16)</pre></div></div></div></div></div></div></div></div><div class=\"sk-parallel-item\"><div class=\"sk-item\"><div class=\"sk-label-container\"><div class=\"sk-label sk-toggleable\"><label>derived_features_grad_boosting</label></div></div><div class=\"sk-serial\"><div class=\"sk-item\"><div class=\"sk-serial\"><div class=\"sk-item\"><div class=\"sk-estimator sk-toggleable\"><input class=\"sk-toggleable__control sk-hidden--visually\" id=\"sk-estimator-id-39\" type=\"checkbox\" ><label for=\"sk-estimator-id-39\" class=\"sk-toggleable__label sk-toggleable__label-arrow\">FunctionTransformer</label><div class=\"sk-toggleable__content\"><pre>FunctionTransformer(func=&lt;function &lt;lambda&gt; at 0x7fabccffd7e0&gt;)</pre></div></div></div><div class=\"sk-item\"><div class=\"sk-estimator sk-toggleable\"><input class=\"sk-toggleable__control sk-hidden--visually\" id=\"sk-estimator-id-40\" type=\"checkbox\" ><label for=\"sk-estimator-id-40\" class=\"sk-toggleable__label sk-toggleable__label-arrow\">GradientBoostingRegressor</label><div class=\"sk-toggleable__content\"><pre>GradientBoostingRegressor()</pre></div></div></div></div></div></div></div></div><div class=\"sk-parallel-item\"><div class=\"sk-item\"><div class=\"sk-label-container\"><div class=\"sk-label sk-toggleable\"><label>vector_neural_net</label></div></div><div class=\"sk-serial\"><div class=\"sk-item\"><div class=\"sk-serial\"><div class=\"sk-item\"><div class=\"sk-estimator sk-toggleable\"><input class=\"sk-toggleable__control sk-hidden--visually\" id=\"sk-estimator-id-41\" type=\"checkbox\" ><label for=\"sk-estimator-id-41\" class=\"sk-toggleable__label sk-toggleable__label-arrow\">FunctionTransformer</label><div class=\"sk-toggleable__content\"><pre>FunctionTransformer(func=&lt;function &lt;lambda&gt; at 0x7fabccffd6c0&gt;)</pre></div></div></div><div class=\"sk-item\"><div class=\"sk-estimator sk-toggleable\"><input class=\"sk-toggleable__control sk-hidden--visually\" id=\"sk-estimator-id-42\" type=\"checkbox\" ><label for=\"sk-estimator-id-42\" class=\"sk-toggleable__label sk-toggleable__label-arrow\">NeuralNet</label><div class=\"sk-toggleable__content\"><pre>NeuralNet()</pre></div></div></div></div></div></div></div></div></div></div></div></div>"
      ],
      "text/plain": [
       "VotingRegressor(estimators=[('vector_knn',\n",
       "                             Pipeline(steps=[('select_word_vectors',\n",
       "                                              FunctionTransformer(func=<function <lambda> at 0x7fabccffd6c0>)),\n",
       "                                             ('reg',\n",
       "                                              KNeighborsRegressor(n_neighbors=16))])),\n",
       "                            ('derived_features_grad_boosting',\n",
       "                             Pipeline(steps=[('select_derived_features',\n",
       "                                              FunctionTransformer(func=<function <lambda> at 0x7fabccffd7e0>)),\n",
       "                                             ('reg',\n",
       "                                              GradientBoostingRegressor())])),\n",
       "                            ('vector_neural_net',\n",
       "                             Pipeline(steps=[('select_word_vectors',\n",
       "                                              FunctionTransformer(func=<function <lambda> at 0x7fabccffd6c0>)),\n",
       "                                             ('reg', NeuralNet())]))])"
      ]
     },
     "execution_count": 110,
     "metadata": {},
     "output_type": "execute_result"
    }
   ],
   "source": [
    "model"
   ]
  },
  {
   "cell_type": "code",
   "execution_count": 111,
   "id": "1f09a8f7-a98e-4dc2-bab9-63bfa85f6b26",
   "metadata": {
    "tags": []
   },
   "outputs": [
    {
     "name": "stdout",
     "output_type": "stream",
     "text": [
      "148/148 [==============================] - 1s 4ms/step - loss: 0.3664\n",
      "37/37 [==============================] - 0s 1ms/step\n",
      "148/148 [==============================] - 1s 3ms/step - loss: 0.3680\n",
      "37/37 [==============================] - 0s 1ms/step\n",
      "148/148 [==============================] - 1s 3ms/step - loss: 0.3682\n",
      "37/37 [==============================] - 0s 1ms/step\n",
      "148/148 [==============================] - 1s 5ms/step - loss: 0.3951\n",
      "37/37 [==============================] - 0s 1ms/step\n",
      "148/148 [==============================] - 1s 4ms/step - loss: 0.3768\n",
      "37/37 [==============================] - 0s 1ms/step\n"
     ]
    }
   ],
   "source": [
    "# Perform KFold cross validation\n",
    "crossvals['voting'] = {'test_score':[], 'estimator':[],}\n",
    "for train_index, test_index in kfold.split(A_train):\n",
    "        \n",
    "    # Fit and predict\n",
    "    model.fit( A_train[train_index], y_train[train_index] )\n",
    "    log_cpy_pred = model.predict( A_train[test_index] )\n",
    "    \n",
    "    # Compare prediction\n",
    "    rmse = -np.sqrt( mean_squared_error( y_train[test_index], log_cpy_pred ) )\n",
    "    crossvals['voting']['test_score'].append( rmse )\n",
    "    crossvals['voting']['estimator'].append( model )\n",
    "crossvals['voting']['test_score'] = np.array( crossvals['voting']['test_score'] )"
   ]
  },
  {
   "cell_type": "code",
   "execution_count": 112,
   "id": "1712f2cf-3479-4aa9-8c9b-8d3f967efbdf",
   "metadata": {},
   "outputs": [
    {
     "data": {
      "image/png": "[encoded data removed]",
      "text/plain": [
       "<Figure size 1200x300 with 1 Axes>"
      ]
     },
     "metadata": {},
     "output_type": "display_data"
    }
   ],
   "source": [
    "fig = rmse_swarmplot( crossvals, y_lim=(sample_std-0.3, sample_std+0.3 ) )"
   ]
  },
  {
   "cell_type": "markdown",
   "id": "f85bc37d-3b55-48e8-8704-bacaf7d2f6e9",
   "metadata": {},
   "source": [
    "The performance of the voting model is comparable to that of the metadata model."
   ]
  },
  {
   "cell_type": "markdown",
   "id": "54e13dc9-135d-462c-ad02-ca34627d85ef",
   "metadata": {},
   "source": [
    "## Final Validation <a class=\"anchor\" id=\"validation\"></a>\n",
    "Time to check how the models do on the validation dataset!"
   ]
  },
  {
   "cell_type": "markdown",
   "id": "39006adc-e988-4e19-82df-bb0c1cc8e1d8",
   "metadata": {},
   "source": [
    "[**Back to Page Top**](#page-top)"
   ]
  },
  {
   "cell_type": "code",
   "execution_count": 113,
   "id": "34e97d4d-1848-4779-8ecd-f53abd48f36d",
   "metadata": {},
   "outputs": [],
   "source": [
    "# Combine word vectors, semantic variables, and metadata into a single feature array\n",
    "D_test = derived_preprocessing.fit_transform( D_test_df )\n",
    "n_sample = D_test.shape[0]\n",
    "n_D = D_test.shape[1]\n",
    "n_v = v_test.shape[1]\n",
    "A_test = np.zeros( shape=(n_sample, n_D + n_v) )\n",
    "A_test[:,:n_D] = D_test\n",
    "A_test[:,n_D:] = vector_preprocessing.fit_transform( v_test ).toarray()"
   ]
  },
  {
   "cell_type": "code",
   "execution_count": 114,
   "id": "9cbdd313-59bd-4650-a41a-0d683d962c9e",
   "metadata": {},
   "outputs": [
    {
     "name": "stderr",
     "output_type": "stream",
     "text": [
      " 75%|█████████████████████████████████████████████████████████████████████████████████████████████████████████████████████████████████████████████████████████████████████████████████▊                                                           | 6/8 [00:48<00:11,  5.68s/it]2023-06-24 18:26:51.456646: I tensorflow/core/common_runtime/executor.cc:1197] [/device:CPU:0] (DEBUG INFO) Executor start aborting (this does not indicate an error and you can ignore this message): INVALID_ARGUMENT: You must feed a value for placeholder tensor 'Placeholder/_1' with dtype float and shape [5887]\n",
      "\t [[{{node Placeholder/_1}}]]\n",
      "2023-06-24 18:26:51.456891: I tensorflow/core/common_runtime/executor.cc:1197] [/device:CPU:0] (DEBUG INFO) Executor start aborting (this does not indicate an error and you can ignore this message): INVALID_ARGUMENT: You must feed a value for placeholder tensor 'Placeholder/_1' with dtype float and shape [5887]\n",
      "\t [[{{node Placeholder/_1}}]]\n"
     ]
    },
    {
     "name": "stdout",
     "output_type": "stream",
     "text": [
      "184/184 [==============================] - 1s 2ms/step - loss: 0.1646\n",
      "46/46 [==============================] - 0s 745us/step\n"
     ]
    },
    {
     "name": "stderr",
     "output_type": "stream",
     "text": [
      "2023-06-24 18:26:52.112521: I tensorflow/core/common_runtime/executor.cc:1197] [/device:CPU:0] (DEBUG INFO) Executor start aborting (this does not indicate an error and you can ignore this message): INVALID_ARGUMENT: You must feed a value for placeholder tensor 'Placeholder/_0' with dtype variant and shape [1472,3]\n",
      "\t [[{{node Placeholder/_0}}]]\n",
      " 88%|███████████████████████████████████████████████████████████████████████████████████████████████████████████████████████████████████████████████████████████████████████████████████████████████████████████████▍                             | 7/8 [00:49<00:04,  4.38s/it]"
     ]
    },
    {
     "name": "stdout",
     "output_type": "stream",
     "text": [
      "184/184 [==============================] - 1s 3ms/step - loss: 0.5087\n",
      "46/46 [==============================] - 0s 1ms/step\n"
     ]
    },
    {
     "name": "stderr",
     "output_type": "stream",
     "text": [
      "100%|█████████████████████████████████████████████████████████████████████████████████████████████████████████████████████████████████████████████████████████████████████████████████████████████████████████████████████████████████████████████| 8/8 [00:57<00:00,  7.13s/it]\n"
     ]
    }
   ],
   "source": [
    "# Fit to all training, and test!\n",
    "ys = {\n",
    "    'actual': y_test,\n",
    "}\n",
    "rmses = {}\n",
    "for model_name, item in tqdm.tqdm( crossvals.items() ):\n",
    "    \n",
    "    # Retrieve the model\n",
    "    model = item['estimator'][0]\n",
    "    \n",
    "    # Fit and predict\n",
    "    if model_name in [ 'baseline', 'random_forest', 'grad_boost', 'KNN', 'neural_net' ]:\n",
    "        model.fit( v_train, y_train )\n",
    "        y_pred = model.predict( v_test )\n",
    "    elif model_name == 'semantic_features':\n",
    "        model.fit( M_train, y_train )\n",
    "        y_pred = model.predict( M_test )\n",
    "    elif model_name == 'metadata':\n",
    "        model.fit( X_train_df, y_train )\n",
    "        y_pred = model.predict( X_test_df )\n",
    "    elif model_name == 'voting':\n",
    "        model.fit( A_train, y_train )\n",
    "        y_pred = model.predict( A_test )\n",
    "    else:\n",
    "        raise KeyError( 'Unknown model name, {}'.format( model_name ) )\n",
    "        \n",
    "    ys[model_name] = y_pred\n",
    "    rmses[model_name] = np.sqrt( mean_squared_error( y_test, y_pred ) )"
   ]
  },
  {
   "cell_type": "code",
   "execution_count": 115,
   "id": "ff837d46-af6c-4f91-8dda-522113f625bb",
   "metadata": {},
   "outputs": [],
   "source": [
    "# Calculate what fraction of estimates we get correct.\n",
    "# I will print this later.\n",
    "cpy_df = pd.DataFrame( ys ).apply( lambda x: 10.**x )\n",
    "cpy_diff = np.abs( cpy_df['actual'] - cpy_df['voting'] )\n",
    "dist, bins = np.histogram(\n",
    "    cpy_diff,\n",
    "    bins = np.arange( 0, cpy_diff.max()+1, 1 ),\n",
    ")\n",
    "cdist = np.cumsum( dist )\n",
    "pdist = cdist / cdist[-1] * 100"
   ]
  },
  {
   "cell_type": "code",
   "execution_count": 116,
   "id": "9ee2556d-2f86-48eb-bb25-e6bc175a2ac0",
   "metadata": {},
   "outputs": [
    {
     "data": {
      "image/png": "[encoded data removed]",
      "text/plain": [
       "<Figure size 1200x300 with 1 Axes>"
      ]
     },
     "metadata": {},
     "output_type": "display_data"
    }
   ],
   "source": [
    "fig = plt.figure( figsize=(len(rmses)*1.5, 3) )\n",
    "ax = plt.gca()\n",
    "\n",
    "rmse_df = pd.DataFrame({\n",
    "    'model_name': list( rmses.keys() ),\n",
    "    'rmse': list( rmses.values() ),\n",
    "})\n",
    "\n",
    "sns.swarmplot(\n",
    "    rmse_df,\n",
    "    y = 'rmse',\n",
    "    x = 'model_name',\n",
    "    color = 'k',\n",
    "    marker = 'X',\n",
    "    s = 10,\n",
    "    edgecolor = 'k',\n",
    "    ax = ax,\n",
    "    legend = None,\n",
    "    zorder = 10,\n",
    ")\n",
    "\n",
    "fig = rmse_swarmplot( crossvals, ax=ax, y_lim=( sample_std-0.3, sample_std+0.3) )"
   ]
  },
  {
   "cell_type": "markdown",
   "id": "648da510-864c-4814-8a41-015b991082e9",
   "metadata": {},
   "source": [
    "Black \"x\"s indicate the RMSE for the validation sample.\n",
    "\n",
    "The neural net does significantly worse for the validation sample, suggesting it is overfit. On the other hand, voting, which includes the neural net, does just as well as before."
   ]
  },
  {
   "cell_type": "markdown",
   "id": "eedbcbeb-298d-489f-9bba-c4bb62ea9274",
   "metadata": {
    "tags": []
   },
   "source": [
    "# Takeaways <a class=\"anchor\" id=\"takeaways\"></a>"
   ]
  },
  {
   "cell_type": "markdown",
   "id": "409b1208-f09d-4573-a9a8-fc920d22fbcf",
   "metadata": {},
   "source": [
    "I predicted the number of citations a publication will receive per year, using as input:\n",
    "* the full word content of the abstract\n",
    "* metrics relating the word content of the abstract to other papers in the sample\n",
    "* publication metadata:\n",
    "  * what year the paper is published\n",
    "  * how many references are in the paper\n",
    "  * how long the paper is\n",
    "  * how many authors the paper has\n",
    "  * the journal the paper is published in"
   ]
  },
  {
   "cell_type": "code",
   "execution_count": 117,
   "id": "ab714aa9-10fe-4064-9cb2-9585d1d7cf9e",
   "metadata": {},
   "outputs": [
    {
     "name": "stdout",
     "output_type": "stream",
     "text": [
      "The best model can predict the number of citations per year to within a factor of ~3.4,\n",
      "compared to a factor of ~4.4 for the baseline.\n"
     ]
    }
   ],
   "source": [
    "print( (\n",
    "    'The best model can predict the number of citations per year to within a factor of ~{:.2g},\\n'.format( 10.**rmse_df['rmse'].min() ) +\n",
    "    'compared to a factor of ~{:.2g} for the baseline.'.format( 10.**rmses['baseline'] )\n",
    ") )\n"
   ]
  },
  {
   "cell_type": "code",
   "execution_count": 118,
   "id": "65cb193b-22a7-4e4d-98d3-f4f628edffa4",
   "metadata": {},
   "outputs": [
    {
     "name": "stdout",
     "output_type": "stream",
     "text": [
      "The best model estimates the citation count to within 3 citations per year for 76% of publications.\n"
     ]
    }
   ],
   "source": [
    "print( (\n",
    "    'The best model estimates the citation count to within {:.2g} citations per year for {:.2g}% of publications.'.format( bins[3], pdist[3] )\n",
    ") )"
   ]
  },
  {
   "cell_type": "markdown",
   "id": "b6ac77cc-f297-49c7-8a9c-f0fff86b0cc7",
   "metadata": {},
   "source": [
    "[**Back to Page Top**](#page-top)"
   ]
  },
  {
   "cell_type": "markdown",
   "id": "fd4d8763-c766-4def-b5f4-3417f504d600",
   "metadata": {},
   "source": [
    "# Cautions\n",
    "\n",
    "* **The predicted citation count is not a measure of paper quality.** In fact, quality may correlate with how much the predicted citation count *disagrees* with the actual value&mdash;receiving an exceptionally large (or small) number of citations given the number of authors, age, journal, topic, etc. may occur if the paper is especially valuable (or not).\n",
    "\n",
    "* **Addressing the time-dependence must be done before using the models for serious applications.** Citations received is time-dependent, e.g. a publication cannot be cited by pre-existing publications. This analysis does not take this into account with the exception of density and asymmetry, which are calculated using only pre-existing publications.\n",
    "\n",
    "* **These models are trained on log citations per year** because the citation distribution is known to be log-normal. Related, it is not surprising that the models estimate the citation count to within only a few citations per year, because most papers receive only a few citations per year. \n",
    "\n",
    "* Additional exploratory analysis and modeling was done separately, and is available upon request."
   ]
  },
  {
   "cell_type": "markdown",
   "id": "27cbc6bf-d623-44fe-a678-299fb5196643",
   "metadata": {},
   "source": [
    "# Credits"
   ]
  },
  {
   "cell_type": "markdown",
   "id": "71facc1c-2ddf-4e04-924e-e8a5c4794c38",
   "metadata": {},
   "source": [
    "Python packages essential to this analysis include:\n",
    "\n",
    "* [cc](https://github.com/zhafen/cc) (my package for NLP of scientific abstracts)\n",
    "* [scikit-learn](https://scikit-learn.org/stable/index.html)\n",
    "* [TensorFLow](https://doi.org/10.5281/zenodo.4724125)\n",
    "* [pandas](https://pandas.pydata.org/)\n",
    "* [ads](https://github.com/andycasey/ads)\n",
    "* [nltk](https://www.nltk.org/)\n",
    "* [numpy](https://doi.org/10.1038/s41586-020-2649-2)\n",
    "* [matplotlib](https://doi.org/10.5281/zenodo.592536)\n",
    "* [seaborn](https://seaborn.pydata.org/index.html)"
   ]
  }
 ],
 "metadata": {
  "kernelspec": {
   "display_name": "Python 3 (ipykernel)",
   "language": "python",
   "name": "python3"
  },
  "language_info": {
   "codemirror_mode": {
    "name": "ipython",
    "version": 3
   },
   "file_extension": ".py",
   "mimetype": "text/x-python",
   "name": "python",
   "nbconvert_exporter": "python",
   "pygments_lexer": "ipython3",
   "version": "3.10.11"
  },
  "toc-autonumbering": false,
  "toc-showcode": false,
  "toc-showmarkdowntxt": false,
  "toc-showtags": false
 },
 "nbformat": 4,
 "nbformat_minor": 5
}
